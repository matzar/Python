{
 "cells": [
  {
   "cell_type": "markdown",
   "metadata": {},
   "source": [
    "# ITNPBD2 Representing and Manipulating Data\n",
    "\n",
    "# NumPy\n",
    "## Array processing in Python\n",
    "\n",
    "* Mostly used for numeric data\n",
    "* Installed by default in Anaconda Base Distribution\n",
    "* Use `pip install numpy` if you don't have it\n",
    "* Can handle 1D, 2D or higher dimensional arrays. Here we stick to 1D and 2D"
   ]
  },
  {
   "cell_type": "code",
   "execution_count": 4,
   "metadata": {},
   "outputs": [
    {
     "name": "stdout",
     "output_type": "stream",
     "text": [
      "[1 2 3]\n",
      "849 ns ± 14.4 ns per loop (mean ± std. dev. of 7 runs, 1000000 loops each)\n",
      "44.3 ns ± 0.793 ns per loop (mean ± std. dev. of 7 runs, 10000000 loops each)\n"
     ]
    }
   ],
   "source": [
    "import numpy as np\n",
    "import timeit\n",
    "\n",
    "x = np.array([1, 2, 3])\n",
    "print(x)\n",
    "\n",
    "%timeit y = np.array([3, 4, 5])\n",
    "%timeit y = ([3, 4, 5])"
   ]
  },
  {
   "cell_type": "markdown",
   "metadata": {},
   "source": [
    "# Indexing\n",
    "* Integer index. In 2D the order is row, column\n",
    "* Slicing using `:` to specify a whole row or column"
   ]
  },
  {
   "cell_type": "code",
   "execution_count": null,
   "metadata": {},
   "outputs": [],
   "source": [
    "y = np.array([[1, 2, 3], [4, 5, 6], [7, 8, 9]])\n",
    "print(\"Array\", y)\n",
    "print(\"Row 1\", y[1])\n",
    "print(\"Row 1, Column 2 intersect\", y[1, 2])\n",
    "print(\"Column 1\", y[:,1])"
   ]
  },
  {
   "cell_type": "markdown",
   "metadata": {},
   "source": [
    "# More Slicing\n",
    "* `s:e` to slice from `s` to `e-1`"
   ]
  },
  {
   "cell_type": "code",
   "execution_count": null,
   "metadata": {},
   "outputs": [],
   "source": [
    "print(\"Rows 0 to 1\", y[0:2])\n",
    "s = 0\n",
    "e = 2\n",
    "print(\"The same, but with variables defining start and end\",y[s:e])\n",
    "print(\"Columns 1 and 2\", y[:,1:3])\n",
    "print(\"The top left square of 2 by 2\", y[0:2,0:2])"
   ]
  },
  {
   "cell_type": "markdown",
   "metadata": {},
   "source": [
    "# Conditional Selection\n",
    "* Select those elements of an array that satisfy a condition\n",
    "* Or select with a mask - a NumPy array of `True` or `False`"
   ]
  },
  {
   "cell_type": "code",
   "execution_count": null,
   "metadata": {},
   "outputs": [],
   "source": [
    "gr_five = y[y>5]\n",
    "print(gr_five)"
   ]
  },
  {
   "cell_type": "code",
   "execution_count": null,
   "metadata": {},
   "outputs": [],
   "source": [
    "print(y>5)"
   ]
  },
  {
   "cell_type": "code",
   "execution_count": null,
   "metadata": {},
   "outputs": [],
   "source": [
    "my_sel=np.array([[True, False, False], [False, True, False], [False, False, True]])\n",
    "print(my_sel)\n",
    "print(y[my_sel])"
   ]
  },
  {
   "cell_type": "markdown",
   "metadata": {},
   "source": [
    "# Arrays of indexes\n",
    "* Give an array of rows, then an array of columns\n",
    "* Extract the values from the intersection locations"
   ]
  },
  {
   "cell_type": "code",
   "execution_count": null,
   "metadata": {},
   "outputs": [],
   "source": [
    "# Extracts locations [0,0], [1,1], [2,2]\n",
    "print(y[[0, 1, 2], [0, 1, 2]])"
   ]
  },
  {
   "cell_type": "markdown",
   "metadata": {},
   "source": [
    "# NumPy Array Shapes\n",
    "## Specified by a tuple\n",
    "* In 2D the tuple is (rows, cols)\n",
    "* in 1D it is (elements, ) note this `,` showing this is still a tuple\n",
    "* Higher dimensions have more entries: (x,y,z) etc.\n",
    "\n",
    "## Define an array by shape"
   ]
  },
  {
   "cell_type": "code",
   "execution_count": null,
   "metadata": {},
   "outputs": [],
   "source": [
    "ones = np.ones((2, 3))\n",
    "print(ones)\n",
    "\n",
    "#int_ones = np.ones((2, 3), dtype=np.int)\n",
    "#print(int_ones)"
   ]
  },
  {
   "cell_type": "code",
   "execution_count": null,
   "metadata": {},
   "outputs": [],
   "source": [
    "rand_ar = np.random.random((5,))\n",
    "print(rand_ar)"
   ]
  },
  {
   "cell_type": "markdown",
   "metadata": {},
   "source": [
    "# Get the shape with `shape`\n",
    "# Reshape an exsting array with `reshape`"
   ]
  },
  {
   "cell_type": "code",
   "execution_count": null,
   "metadata": {},
   "outputs": [],
   "source": [
    "z = np.array([[1, 2, 3, 4],[5, 6, 7, 8]])\n",
    "print(np.shape(z))\n",
    "# print(z.shape)\n",
    "z = np.reshape(z, (4, 2))\n",
    "print(z)"
   ]
  },
  {
   "cell_type": "markdown",
   "metadata": {},
   "source": [
    "## Now we can see a higher dimensional example\n",
    "* `arange` creates an array of numbers spanning a given range\n",
    "* Then we reshape that into a 3D 3 by 3 by 3 array"
   ]
  },
  {
   "cell_type": "code",
   "execution_count": null,
   "metadata": {},
   "outputs": [],
   "source": [
    "a = np.arange(27).reshape((3, 3, 3))\n",
    "print(a)"
   ]
  },
  {
   "cell_type": "markdown",
   "metadata": {},
   "source": [
    "# Elementwise Maths\n",
    "* Simple operators like `+,-,*,/` are overloaded in NumPy to operate on whole arrays, one element at a time"
   ]
  },
  {
   "cell_type": "code",
   "execution_count": null,
   "metadata": {},
   "outputs": [],
   "source": [
    "y = y+10\n",
    "print(y)"
   ]
  },
  {
   "cell_type": "markdown",
   "metadata": {},
   "source": [
    "# Select and Operate\n",
    "* Combine selection and elementwise operations to operate only on selected elements"
   ]
  },
  {
   "cell_type": "code",
   "execution_count": null,
   "metadata": {},
   "outputs": [],
   "source": [
    "y[y>13]+=100\n",
    "print(y)"
   ]
  },
  {
   "cell_type": "markdown",
   "metadata": {},
   "source": [
    "# Reading and Writing With Files\n",
    "* Read a whole file into a NumPy array\n",
    "* Write data to a new file"
   ]
  },
  {
   "cell_type": "code",
   "execution_count": null,
   "metadata": {},
   "outputs": [],
   "source": [
    "sleep = np.loadtxt(\"data\\sleep.csv\", skiprows = 1 ,delimiter = \",\")\n",
    "sleep"
   ]
  },
  {
   "cell_type": "code",
   "execution_count": null,
   "metadata": {},
   "outputs": [],
   "source": [
    "np.savetxt(\"data\\sleep2.csv\",sleep,delimiter=\",\",\n",
    "           header=\"Exercise Minutes,Coffees,Av HR,Eat after 9pm,Steps,Age,Hours awake,Day,Sleep Rating\")"
   ]
  },
  {
   "cell_type": "code",
   "execution_count": null,
   "metadata": {},
   "outputs": [],
   "source": [
    "np.savetxt(\"data\\sleep2.csv\", sleep,delimiter = \",\",\n",
    "           header = \"Exercise Minutes,Coffees,Av HR,Eat after 9pm,Steps,Age,Hours awake,Day,Sleep Rating\",\n",
    "          fmt = \"%d\")"
   ]
  },
  {
   "cell_type": "markdown",
   "metadata": {},
   "source": [
    "# Aggregation and Other Functions\n",
    "* Aggregating arrays or parts of arrays with functions like `sum` and `avgerage`\n",
    "* Note that `df[:,i]` selects the `i`th column"
   ]
  },
  {
   "cell_type": "code",
   "execution_count": null,
   "metadata": {},
   "outputs": [],
   "source": [
    "print(sleep[:,0])"
   ]
  },
  {
   "cell_type": "code",
   "execution_count": null,
   "metadata": {},
   "outputs": [],
   "source": [
    "print(\"Average exercise minutes:\",np.average(sleep[:,0]))\n",
    "print(\"Total Coffees:\",np.sum(sleep[:,1]))"
   ]
  },
  {
   "cell_type": "markdown",
   "metadata": {},
   "source": [
    "## Last variable is `sleep rating`\n",
    "* Lets find the average sleep rating for 3 coffees and for 0 coffees"
   ]
  },
  {
   "cell_type": "code",
   "execution_count": null,
   "metadata": {},
   "outputs": [],
   "source": [
    "print(\"Max sleep rating:\", np.max(sleep[:,8]))\n",
    "print(\"Min sleep rating:\", np.min(sleep[:,8]))\n",
    "\n",
    "print(\"Max Coffees:\", np.max(sleep[:,1]))\n",
    "print(\"Min Coffees:\", np.min(sleep[:,1]))"
   ]
  },
  {
   "cell_type": "markdown",
   "metadata": {},
   "source": [
    "## Extract Only rows where coffees==0\n",
    "## Find Average\n",
    "## Then same for coffees==3"
   ]
  },
  {
   "cell_type": "code",
   "execution_count": null,
   "metadata": {},
   "outputs": [],
   "source": [
    "no_coffee = sleep[sleep[:,1]==0]\n",
    "print(no_coffee)\n",
    "print(np.average(no_coffee[:,8]))\n",
    "      \n",
    "lots_coffee = sleep[sleep[:,1]==3]\n",
    "print(lots_coffee)\n",
    "print(np.average(lots_coffee[:,8]))"
   ]
  },
  {
   "cell_type": "markdown",
   "metadata": {},
   "source": [
    "# Broadcasting\n",
    "* When performing an arithmetic operation with 2 arrays of different size\n",
    "* Smaller of the 2 is broadcast across the bigger to line them up\n",
    "\n",
    "## Simple version - multiply by a scalar"
   ]
  },
  {
   "cell_type": "markdown",
   "metadata": {},
   "source": [
    "# Extract Indices of interest with `where`\n",
    "## Then extract a given column using the indices to get the rows"
   ]
  },
  {
   "cell_type": "code",
   "execution_count": null,
   "metadata": {},
   "outputs": [],
   "source": [
    "lots_coffee_indices = np.where(sleep[:,1]==0)\n",
    "print(lots_coffee_indices)\n",
    "print(sleep[lots_coffee_indices, 8])"
   ]
  },
  {
   "cell_type": "code",
   "execution_count": null,
   "metadata": {},
   "outputs": [],
   "source": []
  }
 ],
 "metadata": {
  "kernelspec": {
   "display_name": "Python 3",
   "language": "python",
   "name": "python3"
  },
  "language_info": {
   "codemirror_mode": {
    "name": "ipython",
    "version": 3
   },
   "file_extension": ".py",
   "mimetype": "text/x-python",
   "name": "python",
   "nbconvert_exporter": "python",
   "pygments_lexer": "ipython3",
   "version": "3.7.4"
  }
 },
 "nbformat": 4,
 "nbformat_minor": 2
}
