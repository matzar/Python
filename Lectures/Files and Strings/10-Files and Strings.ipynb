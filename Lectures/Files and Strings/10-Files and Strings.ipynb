{
 "cells": [
  {
   "cell_type": "markdown",
   "metadata": {},
   "source": [
    "# ITNPBD2 Representing and Manipulating Data\n",
    "\n",
    "## Input and Output"
   ]
  },
  {
   "cell_type": "markdown",
   "metadata": {},
   "source": [
    "# Simplest output: print"
   ]
  },
  {
   "cell_type": "code",
   "execution_count": null,
   "metadata": {},
   "outputs": [],
   "source": [
    "print(\"Hello\")"
   ]
  },
  {
   "cell_type": "markdown",
   "metadata": {},
   "source": [
    "## In a notebook, a nicer format can be had with `display`"
   ]
  },
  {
   "cell_type": "code",
   "execution_count": null,
   "metadata": {},
   "outputs": [],
   "source": [
    "import pandas as pd\n",
    "loans=pd.read_csv(\"data/loans.csv\",index_col=0)  # ,index_col=0 to make index first column\n",
    "display(loans.head())\n",
    "#print(loans.head()) # Is not nicely formatted"
   ]
  },
  {
   "cell_type": "markdown",
   "metadata": {},
   "source": [
    "# Keyboard Input\n",
    "- Use `input()`\n",
    "- Returns a string"
   ]
  },
  {
   "cell_type": "code",
   "execution_count": null,
   "metadata": {},
   "outputs": [],
   "source": [
    "print(\"Type something and hit return\")\n",
    "x = input()\n",
    "print(\"You typed\",x)"
   ]
  },
  {
   "cell_type": "markdown",
   "metadata": {},
   "source": [
    "## You will need to cast it to other types"
   ]
  },
  {
   "cell_type": "code",
   "execution_count": null,
   "metadata": {},
   "outputs": [],
   "source": [
    "print(\"Type a number\")\n",
    "x = input()\n",
    "print(\"And another\")\n",
    "y = input()\n",
    "print(\"They add up to \",float(x) + float(y))\n",
    "print(\"This would be wrong: they add up to\",x+y) # + with strings concatenates"
   ]
  },
  {
   "cell_type": "markdown",
   "metadata": {},
   "source": [
    "## Convert to a list\n",
    "- Lots happening in that list comprehension!\n",
    "- `split` converts the string to an array, splitting on `,`\n",
    "- We could do it in more steps, of course"
   ]
  },
  {
   "cell_type": "code",
   "execution_count": null,
   "metadata": {},
   "outputs": [],
   "source": [
    "print(\"Enter a list of comma separated numbers\")\n",
    "x = input()\n",
    "print(\"They add up to \",sum([float(n) for n in x.split(\",\")]))"
   ]
  },
  {
   "cell_type": "markdown",
   "metadata": {},
   "source": [
    "## Going the other way, from list to comma separated string:"
   ]
  },
  {
   "cell_type": "code",
   "execution_count": null,
   "metadata": {},
   "outputs": [],
   "source": [
    "x = ['a','b','c']\n",
    "print(\",\".join(x))"
   ]
  },
  {
   "cell_type": "code",
   "execution_count": null,
   "metadata": {},
   "outputs": [],
   "source": [
    "x = [1, 2, 3]\n",
    "# Doesn't work for numbers\n",
    "print(\",\".join(x))"
   ]
  },
  {
   "cell_type": "code",
   "execution_count": null,
   "metadata": {},
   "outputs": [],
   "source": [
    "print(\",\".join(map(str, x)))\n",
    "# or\n",
    "print(\",\".join([str(n) for n in x]))"
   ]
  },
  {
   "cell_type": "markdown",
   "metadata": {},
   "source": [
    "# Opening a File\n",
    "- `open(path, mode)` to open a file\n",
    "- `mode` is `r` for read, `w` for write, `a` for append (there are more, see later)\n",
    "- `close` when done"
   ]
  },
  {
   "cell_type": "code",
   "execution_count": null,
   "metadata": {},
   "outputs": [],
   "source": [
    "f = open(\"data/loans.csv\", 'r')\n",
    "f.close()"
   ]
  },
  {
   "cell_type": "markdown",
   "metadata": {},
   "source": [
    "## Avoid the need to close and keep all the code operating on the file together like this:"
   ]
  },
  {
   "cell_type": "code",
   "execution_count": null,
   "metadata": {},
   "outputs": [],
   "source": [
    "with open(\"data/loans.csv\") as f:\n",
    "    # do stuff with f"
   ]
  },
  {
   "cell_type": "markdown",
   "metadata": {},
   "source": [
    "# Reading from the file\n",
    " ## Read it all into a string"
   ]
  },
  {
   "cell_type": "code",
   "execution_count": null,
   "metadata": {},
   "outputs": [],
   "source": [
    "with open(\"data/loans.csv\") as f:\n",
    "    s = f.read()\n",
    "print(s)"
   ]
  },
  {
   "cell_type": "markdown",
   "metadata": {},
   "source": [
    "## Read one row"
   ]
  },
  {
   "cell_type": "code",
   "execution_count": null,
   "metadata": {},
   "outputs": [],
   "source": [
    "with open(\"data/loans.csv\") as f:\n",
    "    s = f.readline()\n",
    "print(s)"
   ]
  },
  {
   "cell_type": "markdown",
   "metadata": {},
   "source": [
    "## Read one row at a time until the file ends\n",
    "- `readline` returns false if it fails to read a line\n",
    "- So you could do this"
   ]
  },
  {
   "cell_type": "code",
   "execution_count": null,
   "metadata": {},
   "outputs": [],
   "source": [
    "lines = 0\n",
    "with open(\"data/loans.csv\") as f:\n",
    "    s = f.readline()\n",
    "    while s:\n",
    "        lines += 1\n",
    "        s = f.readline()\n",
    "\n",
    "print(\"Read {} rows\".format(lines))\n",
    "#print(f\"Read {lines} rows\") # The Jupyter server in lecture theaters doesn't have this"
   ]
  },
  {
   "cell_type": "markdown",
   "metadata": {},
   "source": [
    "## But there is a nicer way"
   ]
  },
  {
   "cell_type": "code",
   "execution_count": null,
   "metadata": {},
   "outputs": [],
   "source": [
    "lines = 0\n",
    "with open(\"data/loans.csv\") as f:\n",
    "    for l in f:\n",
    "        lines += 1\n",
    "print(\"Read {} rows\".format(lines))\n",
    "#print(f\"Read {lines} rows\")"
   ]
  },
  {
   "cell_type": "markdown",
   "metadata": {},
   "source": [
    "## If the file is huge and you want to peek with out loading it all\n",
    "- First 5 lines"
   ]
  },
  {
   "cell_type": "code",
   "execution_count": null,
   "metadata": {},
   "outputs": [],
   "source": [
    "with open(\"data/loans.csv\") as f:\n",
    "    for i in range(5):\n",
    "        print(f.readline())"
   ]
  },
  {
   "cell_type": "markdown",
   "metadata": {},
   "source": [
    "## Second column of first 100 lines, skipping the header"
   ]
  },
  {
   "cell_type": "code",
   "execution_count": null,
   "metadata": {},
   "outputs": [],
   "source": [
    "with open(\"data/loans.csv\",'r') as f:\n",
    "    f.readline() # Skip header\n",
    "    col = [f.readline().split(\",\")[1] for i in range(100)]\n",
    "\n",
    "print(col)"
   ]
  },
  {
   "cell_type": "markdown",
   "metadata": {},
   "source": [
    "# Directories\n",
    "- Find out the current working directory with `os.getcwd()`"
   ]
  },
  {
   "cell_type": "code",
   "execution_count": null,
   "metadata": {},
   "outputs": [],
   "source": [
    "import os\n",
    "print(os.getcwd())"
   ]
  },
  {
   "cell_type": "markdown",
   "metadata": {},
   "source": [
    "# List a directory\n",
    "- Using `os.walk`\n",
    "- Lists each folder and each file in a given folder\n",
    "- Then enters each folder and does the same in there and so on"
   ]
  },
  {
   "cell_type": "code",
   "execution_count": null,
   "metadata": {},
   "outputs": [],
   "source": [
    "root = os.getcwd()\n",
    "\n",
    "dw = os.walk(root)\n",
    "# d is a generator function, so we iterate:\n",
    "# r=root, d=directories, f = files\n",
    "for r, d, f in dw:\n",
    "    display(r, d, f)\n"
   ]
  },
  {
   "cell_type": "markdown",
   "metadata": {},
   "source": [
    "## Just the `.txt` files in a given folder\n",
    "- We only want to see the current folder, so we just get the first file list\n",
    "- `_` means ignore this variable when unpacking the next item from the generator\n",
    "- `next` gets the next item from the generator"
   ]
  },
  {
   "cell_type": "code",
   "execution_count": null,
   "metadata": {
    "scrolled": true
   },
   "outputs": [],
   "source": [
    "dw = os.walk(\"data\")\n",
    "_, _, f = next(dw)\n",
    "for fn in f:\n",
    "    if fn[-4:] == '.txt':\n",
    "        print(fn)\n",
    "        \n",
    "# or\n",
    "\n",
    "dw = os.walk(\"data\")\n",
    "_, _, f = next(dw)\n",
    "txts = [fn for fn in f if fn[-4:] == '.txt']\n",
    "print(txts)"
   ]
  },
  {
   "cell_type": "markdown",
   "metadata": {},
   "source": [
    "# Writing to a file\n",
    "- Open with `w` or `a`\n",
    "- Run it twice - no change in file contents as `w` starts an empty file\n",
    "- Now change to open `a` for appen and re-run"
   ]
  },
  {
   "cell_type": "code",
   "execution_count": null,
   "metadata": {},
   "outputs": [],
   "source": [
    "with open(\"data/newfile.txt\",'w') as f:\n",
    "    f.write(\"Some text\\n\")\n",
    "\n",
    "with open(\"data/newfile.txt\",'r') as f:\n",
    "    a = f.read()\n",
    "print(a)"
   ]
  },
  {
   "cell_type": "markdown",
   "metadata": {},
   "source": [
    "## What can we write?\n",
    "- Strings only - convert everything else like you do when printing"
   ]
  },
  {
   "cell_type": "code",
   "execution_count": null,
   "metadata": {},
   "outputs": [],
   "source": [
    "a = 35\n",
    "with open(\"data/newfile.txt\",'w') as f:\n",
    "    f.write(\"Writing {a}\".format(a=a))\n",
    "#    f.write(f\"Writing {a}\")\n",
    "    \n",
    "with open(\"data/newfile.txt\",'r') as f:\n",
    "    a = f.read()\n",
    "print(a)"
   ]
  },
  {
   "cell_type": "markdown",
   "metadata": {},
   "source": [
    "## Arrays and CSV\n",
    "- We saw above how to convert an array to a separated string with `join` and `str`\n",
    "- There is also a `csv` library\n",
    "- Use this to specify how to write an array as a string to a file\n",
    "- Specify separator, quote encloser and level of quotes\n",
    "- - Try `QUOTE_NONNUMERIC` or `QUOTE_ALL` or `QUOTE_NONE`"
   ]
  },
  {
   "cell_type": "code",
   "execution_count": null,
   "metadata": {},
   "outputs": [],
   "source": [
    "import csv\n",
    "\n",
    "line1 = [1, 2, 3, \"a\", \"a,b\"]\n",
    "line2 = [4, 5, 6, \"b\", \"c\"]\n",
    "with open('data/newfile.csv', 'w', newline='') as csvfile:\n",
    "    writer = csv.writer(csvfile, delimiter=',',\n",
    "                        quotechar='\"', quoting=csv.QUOTE_NONE)\n",
    "    writer.writerow(line1)\n",
    "    writer.writerow(line2)\n",
    "    \n",
    "with open(\"data/newfile.csv\",'r') as f:\n",
    "    a = f.read()\n",
    "print(a)\n"
   ]
  },
  {
   "cell_type": "markdown",
   "metadata": {},
   "source": [
    "# Pandas and NumPy have Their Own\n",
    "- Use the built in file methods where available, they are better and faster\n",
    "## Pandas `read_csv` and `to_csv` or `to_json`\n",
    "## NumPy `loadtxt` and `savetxt`"
   ]
  },
  {
   "cell_type": "markdown",
   "metadata": {},
   "source": [
    "## Other exports from Pandas:"
   ]
  },
  {
   "cell_type": "code",
   "execution_count": null,
   "metadata": {},
   "outputs": [],
   "source": [
    "df = pd.DataFrame([[1, 2, 3],\n",
    "                  [4, 5, 6],\n",
    "                  [7, 8, 9]])\n",
    "df.to_clipboard() # Paste somewhere now! Doesn't work on the lecture theater server\n",
    "with open('data/table.html', 'w') as f:\n",
    "    f.write(df.to_html())"
   ]
  },
  {
   "cell_type": "code",
   "execution_count": null,
   "metadata": {},
   "outputs": [],
   "source": [
    "   0  1  2\n",
    "0  1  2  3\n",
    "1  4  5  6\n",
    "2  7  8  9"
   ]
  }
 ],
 "metadata": {
  "kernelspec": {
   "display_name": "Python 3",
   "language": "python",
   "name": "python3"
  },
  "language_info": {
   "codemirror_mode": {
    "name": "ipython",
    "version": 3
   },
   "file_extension": ".py",
   "mimetype": "text/x-python",
   "name": "python",
   "nbconvert_exporter": "python",
   "pygments_lexer": "ipython3",
   "version": "3.5.3"
  }
 },
 "nbformat": 4,
 "nbformat_minor": 2
}
