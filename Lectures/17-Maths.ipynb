{
 "cells": [
  {
   "cell_type": "markdown",
   "metadata": {},
   "source": [
    "<h1>ITNPDB2 Representing and Manipulating Data</h1>\n",
    "<h3>University of Stirling<br>Dr. Saemundur Haraldsson</h3>"
   ]
  },
  {
   "cell_type": "markdown",
   "metadata": {},
   "source": [
    "<h1>Maths and Stats Overview</h1>\n",
    "<ul>\n",
    "    <li>Maths functions</li>\n",
    "        <ul>\n",
    "        <li>Basic useful functions</li>\n",
    "        <li>Be aware of handling numbers, not everything is as it seems</li>\n",
    "        </ul>\n",
    "    <li>SciPy</li>\n",
    "        <ul>\n",
    "            <li>Random numbers</li>\n",
    "            <ul>\n",
    "                <li>Different distributions</li>\n",
    "                <li>Seeds -- for reproducability</li>\n",
    "            </ul>\n",
    "            <li>Statistics</li>\n",
    "        </ul>\n",
    "    \n",
    "</ul>\n",
    "<p>Note this notebook assumes Pyton 2.7 and Numpy 1.16<br>\n",
    "This will definitely not work with Python 3 as is and might need a few adjustments to work as described with Numpy 1.17    \n",
    "</p>"
   ]
  },
  {
   "cell_type": "markdown",
   "metadata": {},
   "source": [
    "# Mathematics functions"
   ]
  },
  {
   "cell_type": "code",
   "execution_count": null,
   "metadata": {},
   "outputs": [],
   "source": [
    "# First we need to import the modules we'll need in this lecture\n",
    "import math\n",
    "import numpy"
   ]
  },
  {
   "cell_type": "markdown",
   "metadata": {},
   "source": [
    "<h2> Let's have a look at a couple of basic useful functions</h2>\n",
    "<p> Some functions, constants and methods are available across multiple packages<br>\n",
    "    For example there's overlap between:\n",
    "    <ul>\n",
    "        <li>Builtins <a href=\"https://docs.python.org/2/library/functions.html\">Documentation</a></li>\n",
    "        <li>The math module <a href=\"https://docs.python.org/2.7/library/math.html\">Documentation</a></li>\n",
    "        <li>Numpy <a href=\"https://numpy.org/doc/1.16/reference/index.html\">Documentation</a> (most functions here apply to arrays as well)</li>\n",
    "    </ul>\n",
    "    sometimes with a slightly different implementation.<br>\n",
    "    They don't always provide the same answer and sometimes it is <strong>not at all obvious</strong>\n",
    "</p>"
   ]
  },
  {
   "cell_type": "markdown",
   "metadata": {},
   "source": [
    "<h3>These functions are always the same regardless of the package of their origin</h3>\n",
    "<ul>\n",
    "    <li>To get the absolute value<br>\n",
    "    abs(), fabs()</li>\n",
    "    <li>Just regular round<br> \n",
    "    round() (in Numpy it's round_())</li>\n",
    "    <li>To round up to next integer<br>\n",
    "        ceil()</li>\n",
    "    <li>To round down to next integer<br>floor()</li>\n",
    "    <li>To truncate (same as floor() really)<br>trunc()</li>\n",
    "    <li>Determine the minimum value<br>min()</li>\n",
    "    <li>Determine the maximum value<br>max()</li>\n",
    "    <li>Determine the square root of a number<br>sqrt()</li>\n",
    "    <li>Determine the exponent<br>exp()</li>\n",
    "    <li>Determine the logarithm<br>log()</li>\n",
    "    <li>Raise X to the power of Y<br>pow() or **</li>\n",
    "    <li>Determine the modulo of two values or commonly known as remainder<br>mod() or %</li>\n",
    "</ul>\n",
    "<p>Then there are of course a few special numbers</p>"
   ]
  },
  {
   "cell_type": "code",
   "execution_count": null,
   "metadata": {},
   "outputs": [],
   "source": [
    "# Define a couple of variables that we'll need to demonstrate\n",
    "X = 12.4\n",
    "Y = 13.6\n",
    "Z = -6.21\n",
    "\n",
    "# If you want the absolute value use abs or fabs\n",
    "print(u'Absolute value of {} is '.format(Z), math.fabs(Z))\n",
    "\n",
    "# To round up use ceil\n",
    "print(u'math.ceil({}) ='.format(X),math.ceil(X))\n",
    "\n",
    "# To round down use floor\n",
    "print(u'math.floor({}) ='.format(Y),math.floor(Y))\n",
    "\n",
    "# To truncate use trunc\n",
    "print(u'math.trunc({}) ='.format(X),math.trunc(X))\n",
    "\n",
    "# To determine the minimun and maximum value\n",
    "print(u'min([X,Y,Z]) = ',min([X,Y,Z]))\n",
    "print(u'max([X,Y,Z]) = ',max([X,Y,Z]))\n",
    "\n",
    "# Determine the square root and exponent\n",
    "print(u'math.sqrt(128) =',math.sqrt(128))\n",
    "print(u'math.exp(4) =',math.exp(4))\n",
    "\n",
    "# Determine the logarithm\n",
    "print(u'Natural logarithm (base e) is math.log(4) =',math.log(4))\n",
    "print(u'Logarithm with base 2 is math.log(4,2) =',math.log(4,2))\n",
    "\n",
    "# Raise to a power\n",
    "print(u'math.pow(2,8) = ',math.pow(2,8))\n",
    "\n",
    "# Modulo returns the remainder of a division and is handy for conditions\n",
    "# E.g. Does is the index or counter divisable by 2, i.e. is it an even number?\n",
    "for ind in range(5):\n",
    "    if math.fmod(ind,2):\n",
    "        print(ind, u' is odd')\n",
    "    else:\n",
    "        print(ind, u' is even')\n",
    "\n",
    "# special constants\n",
    "print(u'\\u03C0 = {:.20f}'.format(math.pi))\n",
    "print(u'e = {:.20f}'.format(math.e))"
   ]
  },
  {
   "cell_type": "markdown",
   "metadata": {},
   "source": [
    "<h3>Be aware!</h3>\n",
    "<p>Numbers can be deceiving</p>\n",
    "<p> The accuracy, precision and representation can depend on:</p> \n",
    "<ul>\n",
    "    <li>the language version (2.x, 3.x)</li>\n",
    "    <li>the OS (Windows, Linux, MacOs)</li>\n",
    "    <li>hardware (sometimes)</li>\n",
    "</ul>\n"
   ]
  },
  {
   "cell_type": "code",
   "execution_count": null,
   "metadata": {},
   "outputs": [],
   "source": [
    "# Modulo is not always equal\n",
    "print(-1e100 % 1e100)\n",
    "print(math.fmod(-1e100,1e100))\n",
    "\n",
    "# and neither is the power\n",
    "# math.pow() changes both arguments to float while ** does not\n",
    "# Doesn't matter for simple things but might when pose problems when debugging\n",
    "print(math.pow(2,3))\n",
    "print(2**3)\n"
   ]
  },
  {
   "cell_type": "markdown",
   "metadata": {},
   "source": [
    "<h4> The <strong>sum</strong> function is especially problematic</h4>\n",
    "<p>... when dealing with floats or very large integers</p>\n",
    "<p> The builtin <i>sum</i> and <i>fsum</i> from math handle floating point precision differently</p>"
   ]
  },
  {
   "cell_type": "code",
   "execution_count": null,
   "metadata": {},
   "outputs": [],
   "source": [
    "# When do they start to differ?\n",
    "for a in range(1,100):\n",
    "    the_list = [.1 for i in range(a)]\n",
    "    builtin_sum = sum(the_list)\n",
    "    math_fsum = math.fsum(the_list)\n",
    "    if not builtin_sum == math_fsum:\n",
    "        print(u'They start differing on this one:', the_list)\n",
    "        break\n",
    "print(u'But do they really?')\n",
    "print(u'sum returns: ',builtin_sum)\n",
    "print(u'math.fsum returns: ',math_fsum)\n",
    "print(u'is that the same? ',builtin_sum == math_fsum)\n",
    "# So what is happening?\n",
    "print(builtin_sum.__repr__())\n",
    "print(math_fsum.__repr__())"
   ]
  },
  {
   "cell_type": "markdown",
   "metadata": {},
   "source": [
    "<h1>SciPy <a href=\"https://www.scipy.org/\">(documentation)</a></h1>\n",
    "<ul>\n",
    "    <li>is an ecosystem of open-source software for mathematics, science, and engineering</li>\n",
    "    <li>Includes many packages, e.g.:</li>\n",
    "    <ul>\n",
    "        <li>Numpy<br>for when you are handling N-dimensional data</li>\n",
    "        <li>SciPy Library<br>for when you need basic scientific computations and statistics</li>\n",
    "        <li>Pandas<br>for when you are working with data structures like dataframes </li>\n",
    "        <li>Matplotlib<br>for plotting and visualisation</li>\n",
    "    </ul>\n",
    "   \n",
    "</ul>"
   ]
  },
  {
   "cell_type": "markdown",
   "metadata": {},
   "source": [
    "<h2>Random numbers</h2>\n",
    "<h3>How to generate them<br>\n",
    "    We can use the <strong>random</strong> package or SciPy.stats \n",
    "</h3>\n"
   ]
  },
  {
   "cell_type": "code",
   "execution_count": null,
   "metadata": {},
   "outputs": [],
   "source": [
    "# Import modules and packages that we'll need\n",
    "import random\n",
    "import matplotlib\n",
    "import matplotlib.pyplot as plt\n",
    "import numpy\n",
    "\n",
    "from scipy import stats"
   ]
  },
  {
   "cell_type": "markdown",
   "metadata": {},
   "source": [
    "<h2>Let's start with the random package</h2>\n",
    "<a href=\"https://docs.python.org/2.7/library/random.html\">Documentation</a>\n",
    "<p>Note: This package should never be used for security purposes, there are other packages available for that.</p>\n",
    "<p>The Random package is fast and handy for simple tasks and when you only need a couple of ...\n",
    "    <ul>\n",
    "        <li>random numbers at a time</li>\n",
    "        <li>distribution options</li>\n",
    "        <li> .. or can't be bothered to install SciPy</li>\n",
    "    </ul>\n",
    "</p>"
   ]
  },
  {
   "cell_type": "code",
   "execution_count": null,
   "metadata": {},
   "outputs": [],
   "source": [
    "# set a seed so that the lecture will be reproducable\n",
    "random.seed(1234) # change this to see what happens\n",
    "\n",
    "# The simplest first, uniform distribution\n",
    "# Next random number from the range [0.0,1.0)\n",
    "print(random.random())\n",
    "\n",
    "# Usefull when you want to do something with a certain probability\n",
    "for ind in range(10):\n",
    "    if random.random() <= .6:\n",
    "        print(u'This should print out approximately 6 times out of 10')\n",
    "    else:\n",
    "        print(u'And this then 4 times out of 10')\n",
    "\n",
    "# Get a random integer between 0 and 100\n",
    "print(random.randint(0,100))\n",
    "\n",
    "\n",
    "# Do you want to shuffle?\n",
    "A_deck_of_cards = [card for card in range(13)]\n",
    "print(A_deck_of_cards)\n",
    "random.shuffle(A_deck_of_cards)\n",
    "print(A_deck_of_cards)\n",
    "\n",
    "# Then I want to pick one ... but I won't take it\n",
    "one_card = random.choice(A_deck_of_cards)\n",
    "print(u'We picked: ',one_card)\n",
    "\n",
    "# We could've also just used one function\n",
    "one_card = random.randrange(13)\n",
    "print(u'We picked: ',one_card)\n",
    "\n",
    "# Let's pick 5 cards\n",
    "five_cards = random.sample(A_deck_of_cards,5)\n",
    "print(u'We picked: ',five_cards)"
   ]
  },
  {
   "cell_type": "markdown",
   "metadata": {},
   "source": [
    "<h2>For larger tasks and more options use SciPy.stats</h2>\n",
    "<a href=\"https://docs.scipy.org/doc/scipy/reference/stats.html\">Documentation</a>\n",
    "<h3>The distributions also provide a number of convenient methods</h3>\n",
    "<p>For this we'll plot the distributions with matplotlib</p>"
   ]
  },
  {
   "cell_type": "code",
   "execution_count": null,
   "metadata": {},
   "outputs": [],
   "source": [
    "# Generate the data\n",
    "# Comment and uncomment the following lines to see what happens\n",
    "#dat = stats.expon.rvs(size=10000) \n",
    "#dat = stats.dweibull.rvs(2.07,size=10000) \n",
    "#dat = stats.foldcauchy.rvs(4.72,size=10000) \n",
    "#dat = stats.gamma.rvs(1.99,size=10000) \n",
    "dat = stats.yulesimon.rvs(11,size=10000) \n",
    "#dat = stats.trapz.rvs(0.2, 0.8, size=10000)\n",
    "#dat = stats.powerlaw.rvs(1.66,size=10000) \n",
    "\n",
    "# plot the histogram\n",
    "fig = plt.figure(figsize=(12,9))\n",
    "ax = fig.add_subplot(111)\n",
    "ax.hist(dat, bins=100, density=True, histtype='stepfilled')\n",
    "plt.show()"
   ]
  },
  {
   "cell_type": "markdown",
   "metadata": {},
   "source": [
    "<h2>Statistics</h2>\n",
    "<h3>Now that we can generate data, let's see if we can do some basic analysis on it</h3>\n",
    "<p>SciPy.stats has various methods that we can use</p>\n",
    "<p>First generate some data</p>"
   ]
  },
  {
   "cell_type": "code",
   "execution_count": null,
   "metadata": {},
   "outputs": [],
   "source": [
    "dat = stats.expon.rvs(size=1000)"
   ]
  },
  {
   "cell_type": "markdown",
   "metadata": {},
   "source": [
    "<h3>Simple description</h3>"
   ]
  },
  {
   "cell_type": "code",
   "execution_count": null,
   "metadata": {},
   "outputs": [],
   "source": [
    "print(stats.describe(dat))\n",
    "# weirdly there's no median in scipy.stats so we'll have to use numpy\n",
    "print(u'Median is ',numpy.median(dat))\n",
    "\n",
    "# A number of different means\n",
    "print('Harmonic mean',stats.hmean(dat))\n",
    "print('Geometric mean',stats.gmean(dat))\n",
    "print('Trimmed mean',stats.tmean(dat))\n",
    "\n",
    "# Find the repeats\n",
    "print(stats.find_repeats(dat))\n",
    "# Which doesn't work with continuous data so we make discreet and try again\n",
    "dat = stats.yulesimon.rvs(11,size=100)\n",
    "print(stats.find_repeats(dat))"
   ]
  },
  {
   "cell_type": "markdown",
   "metadata": {},
   "source": [
    "<h3>Frequency statistics</h3>"
   ]
  },
  {
   "cell_type": "code",
   "execution_count": null,
   "metadata": {},
   "outputs": [],
   "source": [
    "dat = stats.norm.rvs(loc=5,scale=1.2,size=1000)\n",
    "# The only thing remodely usefull is quantile statistics\n",
    "# Find out the quantile score of a given value\n",
    "print('If you get the grade 5.5 you score higher than {}% of your peers'.format(stats.percentileofscore(dat,5.5)))\n",
    "print('To score higher than 90% of your peers you have to get at least {:.1f}'.format(stats.scoreatpercentile(dat,90)))\n",
    "\n",
    "# plot the histogram\n",
    "fig = plt.figure(figsize=(12,9))\n",
    "ax = fig.add_subplot(111)\n",
    "ax.hist(dat,bins=25, density=True, histtype='stepfilled',label=u'Grade distribution')\n",
    "ax.plot([5.5,5.5],[0,.4],label=u'{}% get lower grade than this'.format(stats.percentileofscore(dat,5.5)))\n",
    "ax.plot([stats.scoreatpercentile(dat,90),stats.scoreatpercentile(dat,90)],[0,.4],label=u'90% mark')\n",
    "ax.legend(loc='best', frameon=False)\n",
    "plt.show()"
   ]
  },
  {
   "cell_type": "markdown",
   "metadata": {},
   "source": [
    "<h3>Statistical tests</h3>\n",
    "<p>In frequency statistics we generated a normally distributed data with mean 5<br>\n",
    "    Now we test to see if that's really the case with a simple t-test</p>"
   ]
  },
  {
   "cell_type": "code",
   "execution_count": null,
   "metadata": {},
   "outputs": [],
   "source": [
    "# Simple t-test\n",
    "res_1samp = stats.ttest_1samp(dat,5.0)\n",
    "print(res_1samp)\n",
    "if res_1samp.pvalue>=.05: # 95% threshold\n",
    "    print('Cannot reject null hypothesis, population mean is likely to be 5\\n')\n",
    "else:\n",
    "    print('Can reject null hypothesis, population mean might be different from 5\\n')"
   ]
  },
  {
   "cell_type": "markdown",
   "metadata": {},
   "source": [
    "### T-test to see if the means of two samples is equal\n",
    "### let's divide the data"
   ]
  },
  {
   "cell_type": "code",
   "execution_count": null,
   "metadata": {},
   "outputs": [],
   "source": [
    "random.shuffle(dat)\n",
    "sample_1 = dat[:int(len(dat)/2)]\n",
    "sample_2 = dat[int(len(dat)/2):]"
   ]
  },
  {
   "cell_type": "markdown",
   "metadata": {},
   "source": [
    "### And test"
   ]
  },
  {
   "cell_type": "code",
   "execution_count": null,
   "metadata": {},
   "outputs": [],
   "source": [
    "res_2samp = stats.ttest_ind(sample_1,sample_2)\n",
    "print(res_2samp)\n",
    "if res_2samp.pvalue>=.05: # 95% threshold\n",
    "    print('Cannot reject null hypothesis, population means are likely to be equal\\n')\n",
    "else:\n",
    "    print('Can reject null hypothesis, population means might be different\\n')"
   ]
  },
  {
   "cell_type": "markdown",
   "metadata": {},
   "source": [
    "### nonparametric -- Cannot assume normally distributed data\n",
    "### Are the two samples drawn from the same distribution?"
   ]
  },
  {
   "cell_type": "code",
   "execution_count": null,
   "metadata": {},
   "outputs": [],
   "source": [
    "res_nonpara = stats.ranksums(sample_1,sample_2)\n",
    "print(res_nonpara)\n",
    "if res_nonpara.pvalue>=.05: # 95% threshold\n",
    "    print('Cannot reject null hypothesis, samples are probably drawn from same distribution\\n')\n",
    "else:\n",
    "    print('Can reject null hypothesis, samples might not be from same distributions\\n')"
   ]
  }
 ],
 "metadata": {
  "kernelspec": {
   "display_name": "Python 3",
   "language": "python",
   "name": "python3"
  },
  "language_info": {
   "codemirror_mode": {
    "name": "ipython",
    "version": 3
   },
   "file_extension": ".py",
   "mimetype": "text/x-python",
   "name": "python",
   "nbconvert_exporter": "python",
   "pygments_lexer": "ipython3",
   "version": "3.7.4"
  }
 },
 "nbformat": 4,
 "nbformat_minor": 4
}
