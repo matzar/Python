{
 "cells": [
  {
   "cell_type": "markdown",
   "metadata": {},
   "source": [
    "<h1>ITNPDB2 Representing and Manipulating Data</h1>\n",
    "<h3>University of Stirling<br>Dr. Saemundur Haraldsson</h3>\n",
    "<h2>Text processing</h2>\n",
    "<h4>        \n",
    "    <ul>\n",
    "        <li>Natural language processing</li>\n",
    "        <ul>\n",
    "            <li>\n",
    "                Lexical analysis (Tokenization)\n",
    "            </li>\n",
    "            <li>Natural Language Toolkit <a href=\"http://www.nltk.org/book/\">(Useful book)</a><br>\n",
    "                Vader -- sentiment analysis\n",
    "            </li>\n",
    "        </ul>\n",
    "    </ul>\n",
    "</h4>"
   ]
  },
  {
   "cell_type": "markdown",
   "metadata": {},
   "source": [
    "## Lexical analysis or Tokenization\n",
    "### is the process of converting a string or text into tokens <br> Paragraphs -> Sentences -> Clauses  -> Words\n",
    "\n",
    "#### Depending on the purpose we include/exclude:   \n",
    "    - punctuations (. , ; : )\n",
    "    - white space\n",
    "    - others\n"
   ]
  },
  {
   "cell_type": "code",
   "execution_count": 19,
   "metadata": {},
   "outputs": [
    {
     "name": "stdout",
     "output_type": "stream",
     "text": [
      "\n"
     ]
    }
   ],
   "source": [
    "# We read in the whole document\n",
    "with open('for_lexical.txt','r') as fid:\n",
    "    text = fid.read()\n",
    "print(text)"
   ]
  },
  {
   "cell_type": "markdown",
   "metadata": {},
   "source": [
    "# Paragraphs (in our text) will be delimited by 2 newline characters\n",
    "- This usually has to be checked manually"
   ]
  },
  {
   "cell_type": "code",
   "execution_count": 20,
   "metadata": {},
   "outputs": [
    {
     "data": {
      "text/plain": [
       "['']"
      ]
     },
     "metadata": {},
     "output_type": "display_data"
    }
   ],
   "source": [
    "paragraphs = text.split('\\n\\n')\n",
    "display(paragraphs)"
   ]
  },
  {
   "cell_type": "markdown",
   "metadata": {},
   "source": [
    "## We notice that there are a lot of extra newline characters \\n in each paragraph <br> we don't need them\n",
    "- We'll use __replace__ to exclude them from our tokens "
   ]
  },
  {
   "cell_type": "code",
   "execution_count": 21,
   "metadata": {},
   "outputs": [
    {
     "data": {
      "text/plain": [
       "['']"
      ]
     },
     "metadata": {},
     "output_type": "display_data"
    }
   ],
   "source": [
    "paragraphs = [i.replace('\\n',' ') for i in paragraphs]\n",
    "display(paragraphs)"
   ]
  },
  {
   "cell_type": "markdown",
   "metadata": {},
   "source": [
    "## Sentences are usually delimited by full stops\n",
    "- and as sentences are a smaller entity than paragraphs we can work from there\n",
    "- watch out though, splitting each paragrap gives us a separate list. We'll use list comprehension to flatten the resulting list of lists"
   ]
  },
  {
   "cell_type": "code",
   "execution_count": 22,
   "metadata": {},
   "outputs": [
    {
     "data": {
      "text/plain": [
       "['']"
      ]
     },
     "metadata": {},
     "output_type": "display_data"
    }
   ],
   "source": [
    "sentences = [i for j in paragraphs for i in j.split('.')]\n",
    "display(sentences)"
   ]
  },
  {
   "cell_type": "markdown",
   "metadata": {},
   "source": [
    "## Sentences are made up of clauses\n",
    "- There are a number of grammatical rules to define a clause but we'er going to simplify it a bit for this exercise\n",
    "- Let's define a clause as anything that comes before or after the following conjunctions:\n",
    " - __and__\n",
    " - __or__\n",
    " - __but__\n",
    " - __nor__\n",
    "\n",
    "### Working onwards from sentences we split each into clauses\n",
    "- __Not grammatically correct__ as we're not concerned with that at the moment\n",
    "- __split__ only takes one argument but we want to split on any occurance of our conjunctions which are many\n",
    "- we can iterate through the sentences and make an overly complicated __if then else__ script\n",
    "- or we can use __re__, python's regular expression package\n",
    "- we still use list comprehension "
   ]
  },
  {
   "cell_type": "code",
   "execution_count": 23,
   "metadata": {},
   "outputs": [
    {
     "data": {
      "text/plain": [
       "['']"
      ]
     },
     "metadata": {},
     "output_type": "display_data"
    }
   ],
   "source": [
    "import re\n",
    "clauses = [i for j in sentences for i in re.split(r' and | or | but | nor ',j)]\n",
    "# This is very simplified regular expression\n",
    "display(clauses)"
   ]
  },
  {
   "cell_type": "markdown",
   "metadata": {},
   "source": [
    "## And lastly we want the words\n",
    "- we could split the entire text on white spaces as in __text.split(' ')__\n",
    " - That would give us everything but the white spaces, i.e. leaves in the punctuation\n",
    "- Simplest way is to use __re.split()__ and split on words \n",
    "    - __\\W__ is a predifined special sequence for any character that is not a word character\n",
    "    - __\\s__ is white space\n",
    "    - __re.split()__ will __not__ treat consecutive separators as a single one"
   ]
  },
  {
   "cell_type": "code",
   "execution_count": 24,
   "metadata": {},
   "outputs": [
    {
     "data": {
      "text/plain": [
       "['']"
      ]
     },
     "metadata": {},
     "output_type": "display_data"
    }
   ],
   "source": [
    "words = re.split(r'\\W\\s*|\\s',text) # This will also split hyphenated words and words with Apostrophes\n",
    "display(words)"
   ]
  },
  {
   "cell_type": "markdown",
   "metadata": {},
   "source": [
    "## Now what to do with these tokens?\n",
    "### We can count the number of unique tokens in each token class"
   ]
  },
  {
   "cell_type": "code",
   "execution_count": 25,
   "metadata": {},
   "outputs": [
    {
     "name": "stdout",
     "output_type": "stream",
     "text": [
      "Number of paragraphs is 1, thereof unique 1\n",
      "Number of sentences is 1, thereof unique 1\n",
      "Number of clauses is 1, thereof unique 1\n",
      "Number of words is 1, thereof unique 1\n"
     ]
    }
   ],
   "source": [
    "print(\"Number of paragraphs is {}, thereof unique {}\".format(len(paragraphs),len(set(paragraphs))))\n",
    "print(\"Number of sentences is {}, thereof unique {}\".format(len(sentences),len(set(sentences))))\n",
    "print(\"Number of clauses is {}, thereof unique {}\".format(len(clauses),len(set(clauses))))\n",
    "print(\"Number of words is {}, thereof unique {}\".format(len(words),len(set(words))))"
   ]
  },
  {
   "cell_type": "markdown",
   "metadata": {},
   "source": [
    "### Let's count occurrences of each word"
   ]
  },
  {
   "cell_type": "code",
   "execution_count": 26,
   "metadata": {},
   "outputs": [
    {
     "data": {
      "text/plain": [
       "[('', 1)]"
      ]
     },
     "metadata": {},
     "output_type": "display_data"
    }
   ],
   "source": [
    "# We save it in a list of tuples\n",
    "word_count = [(word,words.count(word)) for word in set(words)]\n",
    "display(word_count)"
   ]
  },
  {
   "cell_type": "markdown",
   "metadata": {},
   "source": [
    "### Let's see a few of the most frequent words\n",
    "- couple of things happening in the following line\n",
    "- but only in a single function call\n",
    " - we're using the __key__ and __reverse__ keyword arguments for sorted\n",
    " - and only displaying the first 15 "
   ]
  },
  {
   "cell_type": "code",
   "execution_count": 27,
   "metadata": {},
   "outputs": [
    {
     "data": {
      "text/plain": [
       "[('', 1)]"
      ]
     },
     "metadata": {},
     "output_type": "display_data"
    }
   ],
   "source": [
    "display(sorted(word_count,key=lambda x:x[1],reverse=True)[:15])"
   ]
  },
  {
   "cell_type": "markdown",
   "metadata": {},
   "source": [
    "<h2>\n",
    "    Tokenization is sometimes a preprocess for plagiarism detection.<br>\n",
    "    Words as tokens would not be very useful for that task.<br>\n",
    "    Clauses, sentences, and paragraphs are rather language specific ways.\n",
    "</h2>\n",
    "\n",
    "### A really simple* plagiarism technique would be to split into overlapping set lenght \"word windows\"\n",
    "- Let's try it out with every pairs of 7 words.\n",
    "- We don't need white space characters so we'll use the word list which is in the correct order already\n",
    " - but we need to clean it a bit first\n",
    " - there are some whitespaces.\n",
    " - we also know that any single instance of __s__ should be part of the word before (right?)\n",
    " - can you think of any other obvious things we should look out for as well?\n",
    "- We could use functions and tools from __itertools__ https://docs.python.org/3.7/library/itertools.html\n",
    "- Or we can make our own one-liner\n",
    "\n",
    "*This is far from state-of-the-art, actually would probably not really work in praxis"
   ]
  },
  {
   "cell_type": "code",
   "execution_count": 28,
   "metadata": {},
   "outputs": [
    {
     "data": {
      "text/plain": [
       "[]"
      ]
     },
     "metadata": {},
     "output_type": "display_data"
    }
   ],
   "source": [
    "# cleans out whitespaces:\n",
    "clean_words = [i.strip() for i in words if len(i.strip())>0] \n",
    "# find the single s character:\n",
    "ind_of_s = [ind for ind,w in enumerate(clean_words) if w=='s'] \n",
    "# Add the apostrophe and s:\n",
    "clean_words = [word+\"´s\" if ind+1 in ind_of_s else word for ind,word in enumerate(clean_words) ] \n",
    "ind_of_s.reverse() # Why do you think we're reversing the index list?\n",
    "# Remove the single s characters:\n",
    "for ind in ind_of_s: \n",
    "    del(clean_words[ind])\n",
    "\n",
    "# Now we'll make our list of 7-grams from the cleaned list of words:\n",
    "seven_grams = [' '.join(clean_words[i:i+6]) for i in range(len(clean_words) - (6))]\n",
    "display(seven_grams)"
   ]
  },
  {
   "cell_type": "markdown",
   "metadata": {},
   "source": [
    "# NLTK\n",
    "## Natural Language Toolkit\n",
    "- There's a package for what we were doing\n",
    "- __and so much more__"
   ]
  },
  {
   "cell_type": "code",
   "execution_count": 31,
   "metadata": {},
   "outputs": [],
   "source": [
    "# First some imports that we'll need\n",
    "import nltk\n",
    "import matplotlib\n",
    "import matplotlib.pyplot as plt"
   ]
  },
  {
   "cell_type": "markdown",
   "metadata": {},
   "source": [
    "## Tokenization"
   ]
  },
  {
   "cell_type": "code",
   "execution_count": 32,
   "metadata": {},
   "outputs": [
    {
     "data": {
      "text/plain": [
       "[]"
      ]
     },
     "metadata": {},
     "output_type": "display_data"
    },
    {
     "data": {
      "text/plain": [
       "[]"
      ]
     },
     "metadata": {},
     "output_type": "display_data"
    }
   ],
   "source": [
    "display(nltk.tokenize.sent_tokenize(text)) # sentence tokens\n",
    "display(nltk.word_tokenize(text)) # word/type tokens, includes punctuation"
   ]
  },
  {
   "cell_type": "markdown",
   "metadata": {},
   "source": [
    "## Let's load some data that is more interesting than we had before"
   ]
  },
  {
   "cell_type": "code",
   "execution_count": 33,
   "metadata": {},
   "outputs": [
    {
     "name": "stdout",
     "output_type": "stream",
     "text": [
      "*** Introductory Examples for the NLTK Book ***\n",
      "Loading text1, ..., text9 and sent1, ..., sent9\n",
      "Type the name of the text or sentence to view it.\n",
      "Type: 'texts()' or 'sents()' to list the materials.\n",
      "text1: Moby Dick by Herman Melville 1851\n",
      "text2: Sense and Sensibility by Jane Austen 1811\n",
      "text3: The Book of Genesis\n",
      "text4: Inaugural Address Corpus\n",
      "text5: Chat Corpus\n",
      "text6: Monty Python and the Holy Grail\n",
      "text7: Wall Street Journal\n",
      "text8: Personals Corpus\n",
      "text9: The Man Who Was Thursday by G . K . Chesterton 1908\n"
     ]
    }
   ],
   "source": [
    "from nltk.book import *"
   ]
  },
  {
   "cell_type": "markdown",
   "metadata": {},
   "source": [
    "## The previous cell loaded a bunch of books into memory as NLTK text objects\n",
    "- They provide some interesting methods \n",
    "- Let's explore it a bit"
   ]
  },
  {
   "cell_type": "markdown",
   "metadata": {},
   "source": [
    "## We can do a simple wordcount"
   ]
  },
  {
   "cell_type": "code",
   "execution_count": 34,
   "metadata": {},
   "outputs": [
    {
     "data": {
      "text/plain": [
       "141576"
      ]
     },
     "metadata": {},
     "output_type": "display_data"
    },
    {
     "data": {
      "text/plain": [
       "6833"
      ]
     },
     "metadata": {},
     "output_type": "display_data"
    },
    {
     "data": {
      "text/plain": [
       "20.719449729255086"
      ]
     },
     "metadata": {},
     "output_type": "display_data"
    }
   ],
   "source": [
    "display(len(text2))\n",
    "display(len(set(text2)))\n",
    "display(len(text2)/len(set(text2))) # Lexical diversity"
   ]
  },
  {
   "cell_type": "code",
   "execution_count": 35,
   "metadata": {},
   "outputs": [
    {
     "data": {
      "text/plain": [
       "<Text: Moby Dick by Herman Melville 1851>"
      ]
     },
     "metadata": {},
     "output_type": "display_data"
    },
    {
     "data": {
      "text/plain": [
       "['_CONTEXT_RE',\n",
       " '_COPY_TOKENS',\n",
       " '__class__',\n",
       " '__delattr__',\n",
       " '__dict__',\n",
       " '__dir__',\n",
       " '__doc__',\n",
       " '__eq__',\n",
       " '__format__',\n",
       " '__ge__',\n",
       " '__getattribute__',\n",
       " '__getitem__',\n",
       " '__gt__',\n",
       " '__hash__',\n",
       " '__init__',\n",
       " '__init_subclass__',\n",
       " '__le__',\n",
       " '__len__',\n",
       " '__lt__',\n",
       " '__module__',\n",
       " '__ne__',\n",
       " '__new__',\n",
       " '__reduce__',\n",
       " '__reduce_ex__',\n",
       " '__repr__',\n",
       " '__setattr__',\n",
       " '__sizeof__',\n",
       " '__str__',\n",
       " '__subclasshook__',\n",
       " '__unicode__',\n",
       " '__weakref__',\n",
       " '_context',\n",
       " '_train_default_ngram_lm',\n",
       " 'collocation_list',\n",
       " 'collocations',\n",
       " 'common_contexts',\n",
       " 'concordance',\n",
       " 'concordance_list',\n",
       " 'count',\n",
       " 'dispersion_plot',\n",
       " 'findall',\n",
       " 'generate',\n",
       " 'index',\n",
       " 'name',\n",
       " 'plot',\n",
       " 'readability',\n",
       " 'similar',\n",
       " 'tokens',\n",
       " 'unicode_repr',\n",
       " 'vocab']"
      ]
     },
     "metadata": {},
     "output_type": "display_data"
    }
   ],
   "source": [
    "display(text1) # What is in text1?\n",
    "display(dir(text1)) # What attributes can we see?"
   ]
  },
  {
   "cell_type": "markdown",
   "metadata": {},
   "source": [
    "## We can search for words and their context"
   ]
  },
  {
   "cell_type": "code",
   "execution_count": 36,
   "metadata": {},
   "outputs": [
    {
     "name": "stdout",
     "output_type": "stream",
     "text": [
      "Displaying 18 of 18 matches:\n",
      "ce he hoped she would allow him the honour of calling tomorrow to enquire afte\n",
      "o enquire after Miss Dashwood . The honour was readily granted , and he then d\n",
      "pect . But why ? Is he not a man of honour and feeling ? Has there been any in\n",
      "culties would have been more to his honour I think , as well as more consisten\n",
      "\" My dear Mrs . Palmer !\" \" Upon my honour I did .-- I met Colonel Brandon Mon\n",
      "ous lucky girl to get him , upon my honour ; not but that he is much more luck\n",
      "with revived security of Edward ' s honour and love , and her companion ' s fa\n",
      "to act by her as every principle of honour and honesty directed , to combat he\n",
      " with calmness . \" I did myself the honour of calling in Berkeley Street last \n",
      " DEAR MADAM , \" I have just had the honour of receiving your letter , for whic\n",
      "aying to you ; for though , upon my honour , I TRIED to keep out of hearing , \n",
      "rupling to engage my faith where my honour was already bound . The event has p\n",
      "The attachment , from which against honour , against feeling , against every b\n",
      "unthought of before . YOUR sense of honour and honesty would have led you , I \n",
      "p my heart as safe and sacred as my honour . I felt that I admired you , but I\n",
      " ingratitude to HER , and breach of honour to ME ?-- I can make no submission \n",
      "of a journey from Sussex to do them honour . \" I will not say that I am disapp\n",
      " believing that had he behaved with honour towards Marianne , he might at once\n"
     ]
    }
   ],
   "source": [
    "text2.concordance('honour')"
   ]
  },
  {
   "cell_type": "markdown",
   "metadata": {},
   "source": [
    "## Search for words in similar context"
   ]
  },
  {
   "cell_type": "code",
   "execution_count": 37,
   "metadata": {},
   "outputs": [
    {
     "name": "stdout",
     "output_type": "stream",
     "text": [
      "heart fortune mother disposition satisfaction consequence life\n",
      "attention comfort pleasure affection hope living illness time conduct\n",
      "mind kindness fancy sight\n"
     ]
    }
   ],
   "source": [
    "text2.similar('honour')"
   ]
  },
  {
   "cell_type": "markdown",
   "metadata": {},
   "source": [
    "## List the similar contexts of two words"
   ]
  },
  {
   "cell_type": "code",
   "execution_count": 38,
   "metadata": {},
   "outputs": [
    {
     "name": "stdout",
     "output_type": "stream",
     "text": [
      "is_pretty a_pretty be_glad am_glad a_lucky\n"
     ]
    }
   ],
   "source": [
    "text2.common_contexts(['very','monstrous'])"
   ]
  },
  {
   "cell_type": "markdown",
   "metadata": {},
   "source": [
    "## Visualise where words appears"
   ]
  },
  {
   "cell_type": "code",
   "execution_count": 39,
   "metadata": {},
   "outputs": [
    {
     "data": {
      "image/png": "[encoded data removed]",
      "text/plain": [
       "<Figure size 720x720 with 1 Axes>"
      ]
     },
     "metadata": {
      "needs_background": "light"
     },
     "output_type": "display_data"
    }
   ],
   "source": [
    "fig = plt.figure(figsize=(10,10))\n",
    "text2.dispersion_plot(['honour','decent','lovely'])"
   ]
  },
  {
   "cell_type": "markdown",
   "metadata": {},
   "source": [
    "## Frequency distribution of the 50 most frequent tokens\n",
    "FreqDist() is part of the nltk.book module"
   ]
  },
  {
   "cell_type": "code",
   "execution_count": 40,
   "metadata": {},
   "outputs": [
    {
     "data": {
      "text/plain": [
       "[(',', 9397),\n",
       " ('to', 4063),\n",
       " ('.', 3975),\n",
       " ('the', 3861),\n",
       " ('of', 3565),\n",
       " ('and', 3350),\n",
       " ('her', 2436),\n",
       " ('a', 2043),\n",
       " ('I', 2004),\n",
       " ('in', 1904),\n",
       " ('was', 1846),\n",
       " ('it', 1568),\n",
       " ('\"', 1506),\n",
       " (';', 1419),\n",
       " ('she', 1333),\n",
       " ('be', 1305),\n",
       " ('that', 1297),\n",
       " ('for', 1234),\n",
       " ('not', 1212),\n",
       " ('as', 1179),\n",
       " ('you', 1037),\n",
       " ('with', 971),\n",
       " ('had', 969),\n",
       " ('his', 941),\n",
       " ('he', 895),\n",
       " (\"'\", 883),\n",
       " ('have', 807),\n",
       " ('at', 806),\n",
       " ('by', 737),\n",
       " ('is', 728),\n",
       " ('.\"', 721),\n",
       " ('s', 700),\n",
       " ('Elinor', 684),\n",
       " ('on', 676),\n",
       " ('all', 642),\n",
       " ('him', 633),\n",
       " ('so', 617),\n",
       " ('but', 597),\n",
       " ('which', 592),\n",
       " ('could', 568),\n",
       " ('Marianne', 566),\n",
       " ('my', 551),\n",
       " ('Mrs', 530),\n",
       " ('from', 527),\n",
       " ('would', 507),\n",
       " ('very', 492),\n",
       " ('no', 488),\n",
       " ('their', 463),\n",
       " ('them', 462),\n",
       " ('--', 461)]"
      ]
     },
     "metadata": {},
     "output_type": "display_data"
    },
    {
     "data": {
      "image/png": "[encoded data removed]",
      "text/plain": [
       "<Figure size 864x864 with 1 Axes>"
      ]
     },
     "metadata": {
      "needs_background": "light"
     },
     "output_type": "display_data"
    },
    {
     "data": {
      "text/plain": [
       "<matplotlib.axes._subplots.AxesSubplot at 0x1a2b92a310>"
      ]
     },
     "execution_count": 40,
     "metadata": {},
     "output_type": "execute_result"
    }
   ],
   "source": [
    "fdist = FreqDist(text2)\n",
    "vocabulary = sorted(list(fdist.items()),key=lambda x:x[1],reverse=True)\n",
    "display(vocabulary[:50])\n",
    "plt.figure(figsize=(12,12))\n",
    "fdist.plot(50)"
   ]
  },
  {
   "cell_type": "markdown",
   "metadata": {},
   "source": [
    "## That wouldn't tell us much about the text, what about the most infrequent words?\n",
    "- Those that only occur once\n",
    "- __hapaxes__"
   ]
  },
  {
   "cell_type": "code",
   "execution_count": 41,
   "metadata": {},
   "outputs": [
    {
     "data": {
      "text/plain": [
       "2694"
      ]
     },
     "execution_count": 41,
     "metadata": {},
     "output_type": "execute_result"
    }
   ],
   "source": [
    "# How many are they?\n",
    "len(fdist.hapaxes())"
   ]
  },
  {
   "cell_type": "markdown",
   "metadata": {},
   "source": [
    "## Okay, that's a bit too many rare words to tell us anything of importance\n",
    "## Let's try something else\n",
    "- Do you know what we're doing here?"
   ]
  },
  {
   "cell_type": "code",
   "execution_count": 42,
   "metadata": {},
   "outputs": [
    {
     "data": {
      "text/plain": [
       "['Somersetshire',\n",
       " 'acknowledged',\n",
       " 'acquaintance',\n",
       " 'affectionate',\n",
       " 'astonishment',\n",
       " 'cheerfulness',\n",
       " 'circumstance',\n",
       " 'circumstances',\n",
       " 'commendation',\n",
       " 'communication',\n",
       " 'consciousness',\n",
       " 'considerable',\n",
       " 'consideration',\n",
       " 'conversation',\n",
       " 'difficulties',\n",
       " 'disappointed',\n",
       " 'disappointment',\n",
       " 'embarrassment',\n",
       " 'encouragement',\n",
       " 'endeavouring',\n",
       " 'extraordinary',\n",
       " 'inconvenience',\n",
       " 'indifference',\n",
       " 'intelligence',\n",
       " 'neighbourhood',\n",
       " 'particularly',\n",
       " 'recollection',\n",
       " 'satisfaction',\n",
       " 'uncomfortable',\n",
       " 'understanding',\n",
       " 'unfortunately']"
      ]
     },
     "metadata": {},
     "output_type": "display_data"
    }
   ],
   "source": [
    "interesting_words = sorted([w for w in set(text2) if len(w) > 11 and fdist[w] > 7])\n",
    "display(interesting_words)"
   ]
  },
  {
   "cell_type": "markdown",
   "metadata": {},
   "source": [
    "## Let's visualise where the words found above are in the text"
   ]
  },
  {
   "cell_type": "code",
   "execution_count": 43,
   "metadata": {},
   "outputs": [
    {
     "data": {
      "image/png": "[encoded data removed]",
      "text/plain": [
       "<Figure size 864x864 with 1 Axes>"
      ]
     },
     "metadata": {
      "needs_background": "light"
     },
     "output_type": "display_data"
    }
   ],
   "source": [
    "plt.figure(figsize=(12,12))\n",
    "text2.dispersion_plot(interesting_words)"
   ]
  },
  {
   "cell_type": "markdown",
   "metadata": {},
   "source": [
    "## We can also see commonly co-occurring words"
   ]
  },
  {
   "cell_type": "code",
   "execution_count": 44,
   "metadata": {},
   "outputs": [
    {
     "ename": "ValueError",
     "evalue": "too many values to unpack (expected 2)",
     "output_type": "error",
     "traceback": [
      "\u001b[0;31m---------------------------------------------------------------------------\u001b[0m",
      "\u001b[0;31mValueError\u001b[0m                                Traceback (most recent call last)",
      "\u001b[0;32m<ipython-input-44-2f17ead72136>\u001b[0m in \u001b[0;36m<module>\u001b[0;34m\u001b[0m\n\u001b[0;32m----> 1\u001b[0;31m \u001b[0mtext2\u001b[0m\u001b[0;34m.\u001b[0m\u001b[0mcollocations\u001b[0m\u001b[0;34m(\u001b[0m\u001b[0mnum\u001b[0m\u001b[0;34m=\u001b[0m\u001b[0;36m20\u001b[0m\u001b[0;34m,\u001b[0m\u001b[0mwindow_size\u001b[0m\u001b[0;34m=\u001b[0m\u001b[0;36m2\u001b[0m\u001b[0;34m)\u001b[0m\u001b[0;34m\u001b[0m\u001b[0;34m\u001b[0m\u001b[0m\n\u001b[0m",
      "\u001b[0;32m~/anaconda3/lib/python3.7/site-packages/nltk/text.py\u001b[0m in \u001b[0;36mcollocations\u001b[0;34m(self, num, window_size)\u001b[0m\n\u001b[1;32m    442\u001b[0m \u001b[0;34m\u001b[0m\u001b[0m\n\u001b[1;32m    443\u001b[0m         collocation_strings = [\n\u001b[0;32m--> 444\u001b[0;31m             \u001b[0mw1\u001b[0m \u001b[0;34m+\u001b[0m \u001b[0;34m\" \"\u001b[0m \u001b[0;34m+\u001b[0m \u001b[0mw2\u001b[0m \u001b[0;32mfor\u001b[0m \u001b[0mw1\u001b[0m\u001b[0;34m,\u001b[0m \u001b[0mw2\u001b[0m \u001b[0;32min\u001b[0m \u001b[0mself\u001b[0m\u001b[0;34m.\u001b[0m\u001b[0mcollocation_list\u001b[0m\u001b[0;34m(\u001b[0m\u001b[0mnum\u001b[0m\u001b[0;34m,\u001b[0m \u001b[0mwindow_size\u001b[0m\u001b[0;34m)\u001b[0m\u001b[0;34m\u001b[0m\u001b[0;34m\u001b[0m\u001b[0m\n\u001b[0m\u001b[1;32m    445\u001b[0m         ]\n\u001b[1;32m    446\u001b[0m         \u001b[0mprint\u001b[0m\u001b[0;34m(\u001b[0m\u001b[0mtokenwrap\u001b[0m\u001b[0;34m(\u001b[0m\u001b[0mcollocation_strings\u001b[0m\u001b[0;34m,\u001b[0m \u001b[0mseparator\u001b[0m\u001b[0;34m=\u001b[0m\u001b[0;34m\"; \"\u001b[0m\u001b[0;34m)\u001b[0m\u001b[0;34m)\u001b[0m\u001b[0;34m\u001b[0m\u001b[0;34m\u001b[0m\u001b[0m\n",
      "\u001b[0;32m~/anaconda3/lib/python3.7/site-packages/nltk/text.py\u001b[0m in \u001b[0;36m<listcomp>\u001b[0;34m(.0)\u001b[0m\n\u001b[1;32m    442\u001b[0m \u001b[0;34m\u001b[0m\u001b[0m\n\u001b[1;32m    443\u001b[0m         collocation_strings = [\n\u001b[0;32m--> 444\u001b[0;31m             \u001b[0mw1\u001b[0m \u001b[0;34m+\u001b[0m \u001b[0;34m\" \"\u001b[0m \u001b[0;34m+\u001b[0m \u001b[0mw2\u001b[0m \u001b[0;32mfor\u001b[0m \u001b[0mw1\u001b[0m\u001b[0;34m,\u001b[0m \u001b[0mw2\u001b[0m \u001b[0;32min\u001b[0m \u001b[0mself\u001b[0m\u001b[0;34m.\u001b[0m\u001b[0mcollocation_list\u001b[0m\u001b[0;34m(\u001b[0m\u001b[0mnum\u001b[0m\u001b[0;34m,\u001b[0m \u001b[0mwindow_size\u001b[0m\u001b[0;34m)\u001b[0m\u001b[0;34m\u001b[0m\u001b[0;34m\u001b[0m\u001b[0m\n\u001b[0m\u001b[1;32m    445\u001b[0m         ]\n\u001b[1;32m    446\u001b[0m         \u001b[0mprint\u001b[0m\u001b[0;34m(\u001b[0m\u001b[0mtokenwrap\u001b[0m\u001b[0;34m(\u001b[0m\u001b[0mcollocation_strings\u001b[0m\u001b[0;34m,\u001b[0m \u001b[0mseparator\u001b[0m\u001b[0;34m=\u001b[0m\u001b[0;34m\"; \"\u001b[0m\u001b[0;34m)\u001b[0m\u001b[0;34m)\u001b[0m\u001b[0;34m\u001b[0m\u001b[0;34m\u001b[0m\u001b[0m\n",
      "\u001b[0;31mValueError\u001b[0m: too many values to unpack (expected 2)"
     ]
    }
   ],
   "source": [
    "text2.collocations(num=20,window_size=2)"
   ]
  },
  {
   "cell_type": "markdown",
   "metadata": {},
   "source": [
    "# Sentiment analysis using VADER\n",
    "- Attempts to extract opinions or \"feelings\" from text"
   ]
  },
  {
   "cell_type": "code",
   "execution_count": 45,
   "metadata": {},
   "outputs": [],
   "source": [
    "from nltk.sentiment.vader import SentimentIntensityAnalyzer\n",
    "analyser = SentimentIntensityAnalyzer()"
   ]
  },
  {
   "cell_type": "markdown",
   "metadata": {},
   "source": [
    "## Polarity scores estimate the sentiment of text\n",
    "- __neg__: Negative sentiment between 0 and 1\n",
    "- __pos__: Positive sentiment between 0 and 1\n",
    "- __neu__: Neutral sentiment between 0 and 1\n",
    "- __compound__: Normalised sum of the three above between -1 and 1"
   ]
  },
  {
   "cell_type": "code",
   "execution_count": 46,
   "metadata": {},
   "outputs": [
    {
     "data": {
      "text/plain": [
       "{'neg': 0.291, 'neu': 0.583, 'pos': 0.126, 'compound': -0.4019}"
      ]
     },
     "metadata": {},
     "output_type": "display_data"
    }
   ],
   "source": [
    "score = analyser.polarity_scores(\"This is an awful sentence that I've written.\")\n",
    "display(score)"
   ]
  },
  {
   "cell_type": "markdown",
   "metadata": {},
   "source": [
    "## Let's check the sentiment for the first 100 sentences of book 2"
   ]
  },
  {
   "cell_type": "code",
   "execution_count": 47,
   "metadata": {},
   "outputs": [
    {
     "data": {
      "text/plain": [
       "{'neg': 0.076, 'neu': 0.747, 'pos': 0.177, 'compound': 0.9998}"
      ]
     },
     "metadata": {},
     "output_type": "display_data"
    }
   ],
   "source": [
    "text2_sentences = nltk.sent_tokenize(' '.join(text2))\n",
    "score = analyser.polarity_scores(' '.join(text2_sentences[:100]))\n",
    "display(score)"
   ]
  },
  {
   "cell_type": "code",
   "execution_count": 48,
   "metadata": {},
   "outputs": [
    {
     "data": {
      "text/plain": [
       "5540"
      ]
     },
     "execution_count": 48,
     "metadata": {},
     "output_type": "execute_result"
    }
   ],
   "source": [
    "len(text2_sentences)"
   ]
  },
  {
   "cell_type": "markdown",
   "metadata": {},
   "source": [
    "## Can we plot how the sentiment evolves per sentence throughout the book?"
   ]
  },
  {
   "cell_type": "code",
   "execution_count": 49,
   "metadata": {},
   "outputs": [
    {
     "data": {
      "image/png": "[encoded data removed]",
      "text/plain": [
       "<Figure size 864x864 with 1 Axes>"
      ]
     },
     "metadata": {
      "needs_background": "light"
     },
     "output_type": "display_data"
    }
   ],
   "source": [
    "scores = [analyser.polarity_scores(sent)['compound'] for sent in text2_sentences]#[0::50]]\n",
    "fig = plt.figure(figsize=(12,12))\n",
    "plt.plot(scores)\n",
    "plt.show()"
   ]
  },
  {
   "cell_type": "code",
   "execution_count": null,
   "metadata": {},
   "outputs": [],
   "source": []
  }
 ],
 "metadata": {
  "kernelspec": {
   "display_name": "Python 3",
   "language": "python",
   "name": "python3"
  },
  "language_info": {
   "codemirror_mode": {
    "name": "ipython",
    "version": 3
   },
   "file_extension": ".py",
   "mimetype": "text/x-python",
   "name": "python",
   "nbconvert_exporter": "python",
   "pygments_lexer": "ipython3",
   "version": "3.7.4"
  }
 },
 "nbformat": 4,
 "nbformat_minor": 2
}
