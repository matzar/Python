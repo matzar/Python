{
 "cells": [
  {
   "cell_type": "markdown",
   "metadata": {},
   "source": [
    "# ITNPBD2: Representing and Manipulating Data\n",
    "## University of Stirling\n",
    "## Dr. Kevin Swingler"
   ]
  },
  {
   "cell_type": "markdown",
   "metadata": {},
   "source": [
    "# Python Dictionaries\n",
    "- Data structures indexed by named keys\n",
    "- Basic structure is an unsorted list of key-value pairs\n",
    "- Stored as a hashmap for speed of access by key\n",
    "- Enclosed in `{}` braces"
   ]
  },
  {
   "cell_type": "code",
   "execution_count": 25,
   "metadata": {},
   "outputs": [
    {
     "name": "stdout",
     "output_type": "stream",
     "text": [
      "{'ITNPBD1': 'Mathematics for Big Data', 'ITNPBD2': 'Representing and Manipulating Data', 'ITNPBD3': 'Relational and Non-Relational Databases'}\n"
     ]
    },
    {
     "data": {
      "text/plain": [
       "{'string': '\"This is an example of a string\"', 'float': '1.0', 'integer': '1'}"
      ]
     },
     "metadata": {},
     "output_type": "display_data"
    }
   ],
   "source": [
    "modules = {'ITNPBD1':'Mathematics for Big Data',\n",
    "        'ITNPBD2':'Representing and Manipulating Data',\n",
    "        'ITNPBD3':'Relational and Non-Relational Databases'}\n",
    "\n",
    "print(modules)\n",
    "\n",
    "values = {\"string\" : '\\\"This is an example of a string\\\"',\n",
    "        'float' : '1.0', # we can use either '' or \"\" for both keys and values\n",
    "         \"integer\" : \"1\"}\n",
    "\n",
    "display(values)"
   ]
  },
  {
   "cell_type": "markdown",
   "metadata": {},
   "source": [
    "## Access a single entry by its key"
   ]
  },
  {
   "cell_type": "code",
   "execution_count": 2,
   "metadata": {},
   "outputs": [
    {
     "name": "stdout",
     "output_type": "stream",
     "text": [
      "Representing and Manipulating Data\n",
      "Relational and Non-Relational Databases\n",
      "\"This is an example of a string\"\n",
      "1.0\n",
      "1\n"
     ]
    }
   ],
   "source": [
    "print(modules['ITNPBD2'])\n",
    "\n",
    "print(modules['ITNPBD3'])\n",
    "\n",
    "print(values['string'])\n",
    "print(values['float'])\n",
    "print(values['integer'])"
   ]
  },
  {
   "cell_type": "markdown",
   "metadata": {},
   "source": [
    "## List all the keys and values"
   ]
  },
  {
   "cell_type": "code",
   "execution_count": 3,
   "metadata": {},
   "outputs": [
    {
     "name": "stdout",
     "output_type": "stream",
     "text": [
      "The module ITNPBD1 is called Mathematics for Big Data\n",
      "The module ITNPBD2 is called Representing and Manipulating Data\n",
      "The module ITNPBD3 is called Relational and Non-Relational Databases\n",
      "Example of a 'string' could be \"This is an example of a string\"\n",
      "Example of a 'float' could be 1.0\n",
      "Example of a 'integer' could be 1\n"
     ]
    }
   ],
   "source": [
    "for mcode, description in modules.items():\n",
    "    print(f\"The module {mcode} is called {description}\")\n",
    "    \n",
    "for v, w in values.items():\n",
    "    print(f\"Example of a '{v}' could be {w}\")"
   ]
  },
  {
   "cell_type": "markdown",
   "metadata": {},
   "source": [
    "## Add a new entry with `[ ]`"
   ]
  },
  {
   "cell_type": "code",
   "execution_count": 4,
   "metadata": {},
   "outputs": [
    {
     "name": "stdout",
     "output_type": "stream",
     "text": [
      "values = key is string : value is \"This is an example of a string\"\n",
      "values = key is float : value is 1.0\n",
      "values = key is integer : value is 1\n",
      "values = key is character : value is 'c'\n"
     ]
    }
   ],
   "source": [
    "modules['ITNPBD4'] = 'Scientific and Commercial Applications of Big Data'\n",
    "\n",
    "values['character'] = '\\'c\\''\n",
    "\n",
    "for key, value in values.items():\n",
    "    print(f\"values = key is {key} : value is {value}\")"
   ]
  },
  {
   "cell_type": "markdown",
   "metadata": {},
   "source": [
    "## Loop through just the keys"
   ]
  },
  {
   "cell_type": "code",
   "execution_count": 5,
   "metadata": {},
   "outputs": [
    {
     "name": "stdout",
     "output_type": "stream",
     "text": [
      "ITNPBD1\n",
      "Mathematics for Big Data\n",
      "ITNPBD2\n",
      "Representing and Manipulating Data\n",
      "ITNPBD3\n",
      "Relational and Non-Relational Databases\n",
      "ITNPBD4\n",
      "Scientific and Commercial Applications of Big Data\n",
      "\n",
      "Print just dictionary's keys\n",
      "string\n",
      "float\n",
      "integer\n",
      "character\n",
      "\n",
      "Print just dictionary's values\n",
      "\"This is an example of a string\"\n",
      "1.0\n",
      "1\n",
      "'c'\n",
      "\n",
      "Print dictionary's keys and values\n",
      "string : \"This is an example of a string\"\n",
      "float : 1.0\n",
      "integer : 1\n",
      "character : 'c'\n"
     ]
    }
   ],
   "source": [
    "for mcode in modules:\n",
    "    print(mcode)\n",
    "    print(modules[mcode])  # Can also use mcode to access value\n",
    "        \n",
    "print(\"\\nPrint just dictionary's keys\")\n",
    "for key in values:\n",
    "    print(key)\n",
    "\n",
    "print(\"\\nPrint just dictionary's values\")\n",
    "for v in values:\n",
    "    print(values[v])\n",
    "    \n",
    "print(\"\\nPrint dictionary's keys and values\")    \n",
    "for key in values:\n",
    "    print(key, \":\", values[key])\n",
    "\n",
    "    \n"
   ]
  },
  {
   "cell_type": "markdown",
   "metadata": {},
   "source": [
    "## Nesting objects\n",
    "- Values can be any Python object\n",
    "- For example lists or dictionaries"
   ]
  },
  {
   "cell_type": "code",
   "execution_count": 6,
   "metadata": {},
   "outputs": [
    {
     "name": "stdout",
     "output_type": "stream",
     "text": [
      "['Data Mining', 'Machine Learning', 'Data Visualisation']\n",
      "Data Mining\n"
     ]
    },
    {
     "data": {
      "text/plain": [
       "{'string': [\"we're\",\n",
       "  'adding',\n",
       "  'a',\n",
       "  'list',\n",
       "  'to',\n",
       "  'values',\n",
       "  'dictionary',\n",
       "  'at',\n",
       "  'key',\n",
       "  'equal',\n",
       "  'string'],\n",
       " 'float': '1.0',\n",
       " 'integer': '1',\n",
       " 'character': \"'c'\"}"
      ]
     },
     "metadata": {},
     "output_type": "display_data"
    },
    {
     "name": "stdout",
     "output_type": "stream",
     "text": [
      "\n",
      " we're adding a list \n",
      "\n",
      "[\"we're\", 'adding', 'a', 'list', 'to', 'values', 'dictionary', 'at', 'key', 'equal', 'string'] \n",
      "\n",
      "we're adding a list to values dictionary at key equal string "
     ]
    }
   ],
   "source": [
    "modules['ITNPBD6'] = ['Data Mining', 'Machine Learning', 'Data Visualisation']\n",
    "print(modules['ITNPBD6'])\n",
    "print(modules['ITNPBD6'][0])\n",
    "\n",
    "values['string'] = ['we\\'re', 'adding', 'a', 'list', 'to', 'values', 'dictionary', 'at', 'key', 'equal', 'string']\n",
    "\n",
    "display(values)\n",
    "\n",
    "print(\"\\n\", values['string'][0],end = ' ')\n",
    "print(values['string'][1], end = ' ')\n",
    "print(values[\"string\"][2], end = \" \") # it doesn't matter if it's double or single quotes\n",
    "print(values['string'][3], '\\n')\n",
    "\n",
    "print(values['string'], '\\n')\n",
    "\n",
    "for s in values['string']:\n",
    "    print(s, end = ' ')"
   ]
  },
  {
   "cell_type": "code",
   "execution_count": 11,
   "metadata": {},
   "outputs": [
    {
     "name": "stdout",
     "output_type": "stream",
     "text": [
      "{'name': 'Data Analytics', 'topics': ['Data Mining', 'Machine Learning', 'Data Visualisation'], 'Lecturer': 'Kevin Swingler'}\n",
      "{'bruh': \"what's up\", 'well spoken bruh': ['To', 'put', 'it', 'lightly', 'not', 'much'], 'dictionary_bruh': \"I'm a very inteligent burh\"}\n",
      "To put it lightly not much "
     ]
    }
   ],
   "source": [
    "bd6_dict = {'name':'Data Analytics','topics':['Data Mining','Machine Learning','Data Visualisation'],'Lecturer':'Kevin Swingler'}\n",
    "print(bd6_dict)\n",
    "\n",
    "that_is_how_you_can_initialize_a_dictionary = {\n",
    "    'bruh' : 'what\\'s up',\n",
    "    'well spoken bruh' : ['To', 'put', 'it', 'lightly', 'not', 'much'], # dictionary keys can have spaces!\n",
    "    'dictionary_bruh' : 'I\\'m a very inteligent bruh'\n",
    "}\n",
    "\n",
    "print(that_is_how_you_can_initialize_a_dictionary)\n",
    "\n",
    "for well_spoken_bruh in that_is_how_you_can_initialize_a_dictionary['well spoken bruh']:\n",
    "    print(well_spoken_bruh, end = ' ')"
   ]
  },
  {
   "cell_type": "code",
   "execution_count": 26,
   "metadata": {},
   "outputs": [
    {
     "name": "stdout",
     "output_type": "stream",
     "text": [
      "{'name': 'Data Analytics', 'topics': ['Data Mining', 'Machine Learning', 'Data Visualisation'], 'Lecturer': 'Kevin Swingler'}\n",
      "Kevin Swingler\n",
      "Machine Learning\n",
      "1\n",
      "\n",
      " what's up\n",
      "['To', 'put', 'it', 'lightly', 'not', 'much']\n",
      "To put it lightly not much \n",
      " I'm a very inteligent burh\n"
     ]
    }
   ],
   "source": [
    "modules['ITNPBD6'] = bd6_dict\n",
    "print(modules['ITNPBD6'])\n",
    "print(modules['ITNPBD6']['Lecturer'])\n",
    "print(modules['ITNPBD6']['topics'][1])\n",
    "\n",
    "print(values['integer']) # the value under 'ingteger' key before overwriting it with a new value\n",
    "values['integer'] = that_is_how_you_can_initialize_a_dictionary # overwrite the value under 'integer' key with \n",
    "print('\\n',values['integer']['bruh'])\n",
    "print(values['integer']['well spoken bruh'])     # print with print()\n",
    "for b in values['integer']['well spoken bruh']:  # print with for loop\n",
    "    print(b, end = ' ')\n",
    "print('\\n',values['integer']['dictionary_bruh']) # print the last key 'dictionary_bruh' from 'that_is_how_you_can_initialize_a_dictionary' dictionary"
   ]
  },
  {
   "cell_type": "markdown",
   "metadata": {},
   "source": [
    "# JSON\n",
    "Dictionaries look a lot like JSON there are some differences:\n",
    "- JSON is just a string based data representation, but a dictionary is a data structure\n",
    "- The key in a dictionary is hashed to aid fast in memory access\n",
    "- The key in JSON must be a string. In a dictionary, it can be any hashable type\n",
    "- Single quotes in a dictionary, double quotes in JSON\n",
    "## Main Python methods\n",
    "- `json.loads()` Produces dictionary from json string\n",
    "- `json.dumps()` Produces json string from object"
   ]
  },
  {
   "cell_type": "code",
   "execution_count": null,
   "metadata": {},
   "outputs": [],
   "source": [
    "import json\n",
    "\n",
    "json_string = '{\"Name\":\"Kevin\", \"Age\":50}'\n",
    "dict_obj = {\"Name\":\"Kevin\", \"Age\":50}\n",
    "\n",
    "dict_from_string = json.loads(json_string)\n",
    "string_from_dict = json.dumps(dict_obj)\n",
    "\n",
    "print(json_string, type(json_string))\n",
    "print(dict_obj, type(dict_obj))\n",
    "print(dict_from_string, type(dict_from_string))\n",
    "print(string_from_dict, type(string_from_dict))\n"
   ]
  },
  {
   "cell_type": "code",
   "execution_count": null,
   "metadata": {},
   "outputs": [],
   "source": [
    "mod_str=json.dumps(modules, indent=2)\n",
    "print(mod_str)"
   ]
  },
  {
   "cell_type": "markdown",
   "metadata": {},
   "source": [
    "### To do the same with files, not strings, drop the `s`, so `dump` or `load`"
   ]
  },
  {
   "cell_type": "code",
   "execution_count": null,
   "metadata": {},
   "outputs": [],
   "source": [
    "with open('/Users/mateuszzaremba/dev/Python/MovieData.json') as f:\n",
    "    movies = json.load(f)\n",
    "\n",
    "print(movies)"
   ]
  },
  {
   "cell_type": "markdown",
   "metadata": {},
   "source": [
    "## Here we have loaded an array of json objects about movies\n",
    "- Let's find all the top level keys"
   ]
  },
  {
   "cell_type": "code",
   "execution_count": null,
   "metadata": {},
   "outputs": [],
   "source": [
    "keyset = set()\n",
    "for mov in movies:\n",
    "    for k in mov:\n",
    "        keyset.add(k)\n",
    "        \n",
    "print(keyset)"
   ]
  },
  {
   "cell_type": "code",
   "execution_count": null,
   "metadata": {},
   "outputs": [],
   "source": [
    "display(movies[0])"
   ]
  },
  {
   "cell_type": "markdown",
   "metadata": {},
   "source": [
    "## Pick out a single field"
   ]
  },
  {
   "cell_type": "code",
   "execution_count": null,
   "metadata": {},
   "outputs": [],
   "source": [
    "print(movies[0]['genres'])"
   ]
  },
  {
   "cell_type": "markdown",
   "metadata": {},
   "source": [
    "## Now pull out all the genres with a similar pattern of code:"
   ]
  },
  {
   "cell_type": "code",
   "execution_count": null,
   "metadata": {},
   "outputs": [],
   "source": [
    "genres = set()\n",
    "for mov in movies:\n",
    "    genres.add(mov['genres'])  # Won't work - you cannot have a set of lists\n",
    "        \n",
    "print(genres)"
   ]
  },
  {
   "cell_type": "markdown",
   "metadata": {},
   "source": [
    "## You cannot have a set of mutable lists - must convert to an imutable type, e.g. tuple\n",
    "- Discuss this for a minute or two!!"
   ]
  },
  {
   "cell_type": "code",
   "execution_count": null,
   "metadata": {},
   "outputs": [],
   "source": [
    "genres = set()\n",
    "for mov in movies:\n",
    "    genres.add(tuple(mov['genres']))  # Won't work - you cannot have a set of lists\n",
    "        \n",
    "print(genres)"
   ]
  },
  {
   "cell_type": "markdown",
   "metadata": {},
   "source": [
    "## Maybe that is not what we really want,\n",
    "- Try again for a list of genres"
   ]
  },
  {
   "cell_type": "code",
   "execution_count": null,
   "metadata": {},
   "outputs": [],
   "source": [
    "genres = set()\n",
    "for mov in movies:\n",
    "    for genre in mov['genres']:\n",
    "        genres.add(genre)\n",
    "        \n",
    "print(genres)"
   ]
  },
  {
   "cell_type": "markdown",
   "metadata": {},
   "source": [
    "## That is more like it.\n",
    "- Something more challenging now - find the average rating by genre\n",
    "- This time we will build a list of dicts of the form `{genrename: {'num':number of examples, 'rating': av rating}}` "
   ]
  },
  {
   "cell_type": "code",
   "execution_count": null,
   "metadata": {},
   "outputs": [],
   "source": [
    "genres = {}\n",
    "for mov in movies:\n",
    "    #print(mov['imdb'])\n",
    "    for genre in mov['genres']:\n",
    "        if mov['imdb']['rating'] is not None:    # Delete this first to see the problem it is fixing!\n",
    "            if genre not in genres:\n",
    "                genres[genre] = {'num':1, 'rating':int(mov['imdb']['rating'])}\n",
    "            else:\n",
    "                genres[genre]['num'] += 1\n",
    "                genres[genre]['rating'] += int(mov['imdb']['rating'])\n",
    "        \n",
    "print(genres)\n",
    "for genre in genres:\n",
    "    genres[genre]['rating'] = genres[genre]['rating']/genres[genre]['num']\n",
    "print(genres)"
   ]
  },
  {
   "cell_type": "markdown",
   "metadata": {},
   "source": [
    "# Sets, lists and dicts Summary\n",
    "- You can have a list of dicts\n",
    "- You can have a list of sets\n",
    "- Both are mutable\n",
    "- You cannot have a set of mutable objects like lists or dicts\n",
    "- You can have a immutable objects like tuples"
   ]
  },
  {
   "cell_type": "code",
   "execution_count": null,
   "metadata": {},
   "outputs": [],
   "source": [
    "list_of_dicts = [{'a':1},{'b':2}]\n",
    "list_of_dicts"
   ]
  },
  {
   "cell_type": "code",
   "execution_count": null,
   "metadata": {},
   "outputs": [],
   "source": [
    "list_of_sets = [set((1,2,3)),set((3,3,4))]\n",
    "list_of_sets"
   ]
  },
  {
   "cell_type": "code",
   "execution_count": null,
   "metadata": {},
   "outputs": [],
   "source": [
    "set_of_dicts = set(({'a':1},{'b':2}))\n"
   ]
  },
  {
   "cell_type": "code",
   "execution_count": null,
   "metadata": {},
   "outputs": [],
   "source": [
    "set_of_lists = set(([1, 2, 4],[1,2,3]))\n"
   ]
  },
  {
   "cell_type": "code",
   "execution_count": null,
   "metadata": {},
   "outputs": [],
   "source": [
    "set_of_tuples = set(((1, 2, 4),(1,2,3)))\n",
    "set_of_tuples"
   ]
  },
  {
   "cell_type": "code",
   "execution_count": null,
   "metadata": {},
   "outputs": [],
   "source": []
  }
 ],
 "metadata": {
  "kernelspec": {
   "display_name": "Python 3",
   "language": "python",
   "name": "python3"
  },
  "language_info": {
   "codemirror_mode": {
    "name": "ipython",
    "version": 3
   },
   "file_extension": ".py",
   "mimetype": "text/x-python",
   "name": "python",
   "nbconvert_exporter": "python",
   "pygments_lexer": "ipython3",
   "version": "3.7.4"
  }
 },
 "nbformat": 4,
 "nbformat_minor": 2
}
