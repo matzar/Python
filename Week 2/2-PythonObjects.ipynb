{
 "cells": [
  {
   "cell_type": "markdown",
   "metadata": {},
   "source": [
    "## ITNPBD2: Representing and Manipulating Data\n",
    "## University of Stirling\n",
    "## Dr. Kevin Swingler"
   ]
  },
  {
   "cell_type": "markdown",
   "metadata": {},
   "source": [
    "# Python Data Objects"
   ]
  },
  {
   "cell_type": "markdown",
   "metadata": {},
   "source": [
    "## Variables\n",
    "- Variables are named objects that contain a value that can vary!\n",
    "- Set a named variable to a value using the = sign"
   ]
  },
  {
   "cell_type": "code",
   "execution_count": 1,
   "metadata": {},
   "outputs": [
    {
     "name": "stdout",
     "output_type": "stream",
     "text": [
      "Age is 30\n"
     ]
    }
   ],
   "source": [
    "age = 30\n",
    "print(\"Age is\", age)"
   ]
  },
  {
   "cell_type": "markdown",
   "metadata": {},
   "source": [
    "## Concatenating strings is done with the + sign"
   ]
  },
  {
   "cell_type": "code",
   "execution_count": 1,
   "metadata": {},
   "outputs": [
    {
     "name": "stdout",
     "output_type": "stream",
     "text": [
      "Kevin Swingler\n",
      "M Z\n"
     ]
    }
   ],
   "source": [
    "fname=\"Kevin\"\n",
    "sname=\"Swingler\"\n",
    "fullname=fname + \" \" + sname\n",
    "print(fullname)\n",
    "\n",
    "fname=\"M\"\n",
    "sname=\"Z\"\n",
    "fullname= fname + \" \" + sname\n",
    "print(fullname)"
   ]
  },
  {
   "cell_type": "markdown",
   "metadata": {},
   "source": [
    "## Let's try that with age"
   ]
  },
  {
   "cell_type": "code",
   "execution_count": 6,
   "metadata": {},
   "outputs": [
    {
     "name": "stdout",
     "output_type": "stream",
     "text": [
      "M Z is 28\n"
     ]
    }
   ],
   "source": [
    "name_age = fullname + \" is \" + str(28)\n",
    "print(name_age)"
   ]
  },
  {
   "cell_type": "markdown",
   "metadata": {},
   "source": [
    "# Age is the wrong data type\n",
    "## Data Types define what can be done to a variable, and how:"
   ]
  },
  {
   "cell_type": "code",
   "execution_count": 10,
   "metadata": {},
   "outputs": [
    {
     "name": "stdout",
     "output_type": "stream",
     "text": [
      "28\n",
      "29\n"
     ]
    }
   ],
   "source": [
    "age = 28\n",
    "print(age)\n",
    "\n",
    "age = age + 1\n",
    "print(age)"
   ]
  },
  {
   "cell_type": "markdown",
   "metadata": {},
   "source": [
    "# So we need to tell Python to treat `age` as a string"
   ]
  },
  {
   "cell_type": "code",
   "execution_count": 11,
   "metadata": {},
   "outputs": [
    {
     "name": "stdout",
     "output_type": "stream",
     "text": [
      "M Z is 29\n"
     ]
    }
   ],
   "source": [
    "name_age=fullname + \" is \" + str(age)\n",
    "print(name_age)"
   ]
  },
  {
   "cell_type": "markdown",
   "metadata": {},
   "source": [
    "# Basic Python Data Types\n",
    "\n",
    " - Integer `int`\n",
    " - Float `float`\n",
    " - String `str`\n",
    " - Boolean `Bool` (0=False, all else = True)"
   ]
  },
  {
   "cell_type": "code",
   "execution_count": 2,
   "metadata": {},
   "outputs": [
    {
     "name": "stdout",
     "output_type": "stream",
     "text": [
      "3.1\n",
      "3\n",
      "3\n",
      "3.0\n",
      "False\n",
      "100.0\n",
      "\n",
      "2.1\n",
      "2\n",
      "2\n",
      "3.0\n",
      "True\n",
      "100000.0\n"
     ]
    }
   ],
   "source": [
    "print(3.1)\n",
    "print(int(3.1))\n",
    "print(3)\n",
    "print(float(3))\n",
    "print(bool(0))\n",
    "print(1e+2)\n",
    "print(\"\")\n",
    "print(2.1)\n",
    "print(int(2.1))\n",
    "print(2)\n",
    "print(float(3))\n",
    "print(bool(1))\n",
    "print(1e+5)"
   ]
  },
  {
   "cell_type": "markdown",
   "metadata": {},
   "source": [
    "\n",
    "# Find out the type using `type`"
   ]
  },
  {
   "cell_type": "code",
   "execution_count": 4,
   "metadata": {},
   "outputs": [
    {
     "name": "stdout",
     "output_type": "stream",
     "text": [
      "3.1 <class 'float'>\n",
      "200000.0 <class 'float'>\n"
     ]
    }
   ],
   "source": [
    "a = 3.1\n",
    "print(a,type(a))\n",
    "\n",
    "b = 2e5\n",
    "print(b, type(b))"
   ]
  },
  {
   "cell_type": "markdown",
   "metadata": {},
   "source": [
    "# Back to strings\n",
    "Enclose them in either single or double quotes: \" or ' use one inside the other"
   ]
  },
  {
   "cell_type": "code",
   "execution_count": 23,
   "metadata": {},
   "outputs": [
    {
     "name": "stdout",
     "output_type": "stream",
     "text": [
      "I can do this to enclose this 'word' in single quotes\n",
      "Or this \"word\" in double quotes\n"
     ]
    }
   ],
   "source": [
    "print(\"I can do this to enclose this 'word' in single quotes\")\n",
    "print('Or this \"word\" in double quotes')\n",
    "#print(\"But this \"gives\" and error\")"
   ]
  },
  {
   "cell_type": "markdown",
   "metadata": {},
   "source": [
    "## The slash character: `\\` is used to insert special characters, like extra quotes:\n",
    "- `\\t` Tab\n",
    "- `\\n` Newline\n",
    "- `\\\"` Double quote\n",
    "- `\\'` Single quote"
   ]
  },
  {
   "cell_type": "code",
   "execution_count": 10,
   "metadata": {},
   "outputs": [
    {
     "name": "stdout",
     "output_type": "stream",
     "text": [
      "There is a \t tab space there\n",
      "Here is a \n",
      "newline\n",
      "And here we insert a \"double quote\"\n",
      "And a 'single' one\n",
      "I can use tab like \tthis\n",
      "Here is a \n",
      "newline\n",
      "That's how you can insert \"double quotes\"\n",
      "That's how you can use 'single quotes'\n"
     ]
    }
   ],
   "source": [
    "print(\"There is a \\t tab space there\")\n",
    "print(\"Here is a \\nnewline\")\n",
    "print(\"And here we insert a \\\"double quote\\\"\")\n",
    "print('And a \\'single\\' one')\n",
    "\n",
    "print(\"I can use tab like \\tthis\")\n",
    "print(\"Here is a \\nnewline\")\n",
    "print(\"That's how you can insert \\\"double quotes\\\"\")\n",
    "print(\"That's how you can use \\'single quotes'\")"
   ]
  },
  {
   "cell_type": "markdown",
   "metadata": {},
   "source": [
    "## The % placeholder is used to insert variable values into a string\n",
    "- `%d` Integer\n",
    "- `%f` Float\n",
    "- `%s` String"
   ]
  },
  {
   "cell_type": "code",
   "execution_count": 15,
   "metadata": {},
   "outputs": [
    {
     "name": "stdout",
     "output_type": "stream",
     "text": [
      "This string contains an integer, 1 a float, 2.000000 and a string, dog\n",
      "This string contains an integer, 1, a float 2.000000, and a string, dog\n"
     ]
    }
   ],
   "source": [
    "print(\"This string contains an integer, %d a float, %f and a string, %s\" %(1,2,\"dog\"))\n",
    "print(\"This string contains an integer, %d, a float %f, and a string, %s\" %(1, 2, \"dog\"))"
   ]
  },
  {
   "cell_type": "markdown",
   "metadata": {},
   "source": [
    "## f-strings are better"
   ]
  },
  {
   "cell_type": "code",
   "execution_count": 44,
   "metadata": {},
   "outputs": [
    {
     "name": "stdout",
     "output_type": "stream",
     "text": [
      "My pet is an dog and it is 3 years old\n"
     ]
    }
   ],
   "source": [
    "animal = \"dog\"\n",
    "age = 3\n",
    "print(f\"My pet is an {animal} and it is {age} years old\")\n",
    "# You can put anything in the {} braces - try it!"
   ]
  },
  {
   "cell_type": "markdown",
   "metadata": {},
   "source": [
    "# Lists and Tuples\n",
    "- What if you want to store more than one value in a single structure?\n",
    "- Lists are for variable length lists\n",
    "- Tuples are for fixed sets of values\n",
    "- Both can be of mixed types\n",
    "- Both can contain literal values or variables\n",
    "- Tuples are immutable"
   ]
  },
  {
   "cell_type": "code",
   "execution_count": 3,
   "metadata": {},
   "outputs": [
    {
     "name": "stdout",
     "output_type": "stream",
     "text": [
      "[1, 2, 3] [1, 1.2, 'a'] [1, 2, 3] (3, 4)\n"
     ]
    }
   ],
   "source": [
    "l1 = [1, 2, 3]\n",
    "l2 = [1, 1.2, \"a\"]\n",
    "v=3\n",
    "l3=[1, 2, v]\n",
    "t=(3,4)\n",
    "\n",
    "print(l1, l2, l3, t)"
   ]
  },
  {
   "cell_type": "code",
   "execution_count": 4,
   "metadata": {},
   "outputs": [
    {
     "name": "stdout",
     "output_type": "stream",
     "text": [
      "5 [1, 2, 3]\n"
     ]
    }
   ],
   "source": [
    "v=5\n",
    "print(v, l3)"
   ]
  },
  {
   "cell_type": "code",
   "execution_count": 5,
   "metadata": {},
   "outputs": [
    {
     "name": "stdout",
     "output_type": "stream",
     "text": [
      "[1, 2, 3, 'more']\n",
      "[1, 2, 'Budge up', 3, 'more']\n"
     ]
    }
   ],
   "source": [
    "l3.append(\"more\")\n",
    "print(l3)\n",
    "\n",
    "l3.insert(2, \"Budge up\")\n",
    "print(l3)"
   ]
  },
  {
   "cell_type": "code",
   "execution_count": 6,
   "metadata": {},
   "outputs": [
    {
     "data": {
      "text/plain": [
       "[1, 2, 'Budge up', 3, 'more', 5, 6, 7]"
      ]
     },
     "execution_count": 6,
     "metadata": {},
     "output_type": "execute_result"
    }
   ],
   "source": [
    "l3 = l3 + [5,6,7]\n",
    "l3"
   ]
  },
  {
   "cell_type": "code",
   "execution_count": 56,
   "metadata": {},
   "outputs": [
    {
     "ename": "AttributeError",
     "evalue": "'tuple' object has no attribute 'append'",
     "output_type": "error",
     "traceback": [
      "\u001b[1;31m---------------------------------------------------------------------------\u001b[0m",
      "\u001b[1;31mAttributeError\u001b[0m                            Traceback (most recent call last)",
      "\u001b[1;32m<ipython-input-56-bff473a0fc5a>\u001b[0m in \u001b[0;36m<module>\u001b[1;34m()\u001b[0m\n\u001b[1;32m----> 1\u001b[1;33m \u001b[0mt\u001b[0m\u001b[1;33m.\u001b[0m\u001b[0mappend\u001b[0m\u001b[1;33m(\u001b[0m\u001b[1;34m\"more\"\u001b[0m\u001b[1;33m)\u001b[0m\u001b[1;33m\u001b[0m\u001b[0m\n\u001b[0m",
      "\u001b[1;31mAttributeError\u001b[0m: 'tuple' object has no attribute 'append'"
     ]
    }
   ],
   "source": [
    "t.append(\"more\") # Can't do this"
   ]
  },
  {
   "cell_type": "markdown",
   "metadata": {},
   "source": [
    "## Tuples are useful for carrying multiple return values from a function"
   ]
  },
  {
   "cell_type": "code",
   "execution_count": 59,
   "metadata": {},
   "outputs": [
    {
     "name": "stdout",
     "output_type": "stream",
     "text": [
      "(3, 1)\n"
     ]
    }
   ],
   "source": [
    "def div_and_remainder(a,b):\n",
    "    div=int(a / b)\n",
    "    rem=a % b\n",
    "    return div,rem\n",
    "\n",
    "print(div_and_remainder(10, 3))"
   ]
  },
  {
   "cell_type": "markdown",
   "metadata": {},
   "source": [
    "## Both lists and tuples can be accessed by their index, starting at zero"
   ]
  },
  {
   "cell_type": "code",
   "execution_count": 88,
   "metadata": {},
   "outputs": [
    {
     "name": "stdout",
     "output_type": "stream",
     "text": [
      "4\n",
      "1\n",
      "more\n",
      "[1, 2, 'New entry', 'more']\n"
     ]
    },
    {
     "ename": "TypeError",
     "evalue": "'tuple' object does not support item assignment",
     "output_type": "error",
     "traceback": [
      "\u001b[1;31m---------------------------------------------------------------------------\u001b[0m",
      "\u001b[1;31mTypeError\u001b[0m                                 Traceback (most recent call last)",
      "\u001b[1;32m<ipython-input-88-6b49eba0d498>\u001b[0m in \u001b[0;36m<module>\u001b[1;34m()\u001b[0m\n\u001b[0;32m      8\u001b[0m \u001b[1;33m\u001b[0m\u001b[0m\n\u001b[0;32m      9\u001b[0m \u001b[1;31m# Can't do this:\u001b[0m\u001b[1;33m\u001b[0m\u001b[1;33m\u001b[0m\u001b[0m\n\u001b[1;32m---> 10\u001b[1;33m \u001b[0mt\u001b[0m\u001b[1;33m[\u001b[0m\u001b[1;36m0\u001b[0m\u001b[1;33m]\u001b[0m\u001b[1;33m=\u001b[0m\u001b[1;36m1\u001b[0m\u001b[1;33m\u001b[0m\u001b[0m\n\u001b[0m",
      "\u001b[1;31mTypeError\u001b[0m: 'tuple' object does not support item assignment"
     ]
    }
   ],
   "source": [
    "print(t[1])\n",
    "print(l3[0])\n",
    "\n",
    "print(l3[-1])\n",
    "\n",
    "l3[2]=\"New entry\"\n",
    "print(l3)\n",
    "\n",
    "# Can't do this:\n",
    "t[0] = 1"
   ]
  },
  {
   "cell_type": "markdown",
   "metadata": {},
   "source": [
    "## Lists and tuples can be iterated like this"
   ]
  },
  {
   "cell_type": "code",
   "execution_count": 68,
   "metadata": {
    "scrolled": true
   },
   "outputs": [
    {
     "name": "stdout",
     "output_type": "stream",
     "text": [
      "Next item is 3\n",
      "Next item is 4\n"
     ]
    }
   ],
   "source": [
    "for item in l3:\n",
    "    print(f\"Next item is {item}\")"
   ]
  },
  {
   "cell_type": "markdown",
   "metadata": {},
   "source": [
    "# Slicing lists\n",
    "Access a sub range of a list with the `:` operator inside `[]` square brackets\n",
    "- `[s:f:p]` Start to one more than the finish, step p at a time\n",
    "- Miss the first number means start at the beginning\n",
    "- Miss the second number means finish at the end\n",
    "- Miss the third means step size is 1\n",
    "- Negative step size means start from the other end"
   ]
  },
  {
   "cell_type": "code",
   "execution_count": 85,
   "metadata": {
    "scrolled": true
   },
   "outputs": [
    {
     "name": "stdout",
     "output_type": "stream",
     "text": [
      "[0, 1, 2, 3, 4, 5, 6, 7, 8, 9]\n",
      "[2, 3, 4]\n",
      "[3, 4, 5, 6, 7, 8, 9]\n",
      "[0, 1, 2]\n",
      "[9, 8, 7, 6, 5]\n"
     ]
    }
   ],
   "source": [
    "one_to_ten=list(range(0, 10))\n",
    "print(one_to_ten)\n",
    "\n",
    "print(one_to_ten[2:5])\n",
    "print(one_to_ten[3:])\n",
    "print(one_to_ten[:3])\n",
    "print(one_to_ten[:4:-1])"
   ]
  },
  {
   "cell_type": "markdown",
   "metadata": {},
   "source": [
    "## Sorting a list\n",
    "- Sort it in place with `sort()`\n",
    "- Create a sorted copy with `sorted()`"
   ]
  },
  {
   "cell_type": "code",
   "execution_count": 107,
   "metadata": {
    "scrolled": true
   },
   "outputs": [
    {
     "name": "stdout",
     "output_type": "stream",
     "text": [
      "[3, 9, 8, 7, 1, 3, 2, 8, 3, 4]\n",
      "[1, 2, 3, 3, 3, 4, 7, 8, 8, 9]\n",
      "[3, 9, 8, 7, 1, 3, 2, 8, 3, 4]\n",
      "[1, 2, 3, 3, 3, 4, 7, 8, 8, 9]\n"
     ]
    }
   ],
   "source": [
    "import random\n",
    "r=[]\n",
    "for i in range(10):\n",
    "    r.append(random.randrange(1, 10))\n",
    "\n",
    "print(r)\n",
    "print(sorted(r))\n",
    "print(r)\n",
    "r.sort()\n",
    "print(r)"
   ]
  },
  {
   "cell_type": "markdown",
   "metadata": {},
   "source": [
    "## Removing items from a list\n",
    "- Remove the last item and get its value with `pop`\n",
    "- Remove by index with `del`\n",
    "- Remove by value with `remove`"
   ]
  },
  {
   "cell_type": "code",
   "execution_count": 109,
   "metadata": {},
   "outputs": [
    {
     "name": "stdout",
     "output_type": "stream",
     "text": [
      "8\n",
      "[1, 2, 3, 3, 7, 8]\n",
      "[1, 2, 3, 7, 8]\n",
      "No 4 in list\n",
      "Length is now 5\n"
     ]
    }
   ],
   "source": [
    "print(r.pop())\n",
    "print(r)\n",
    "\n",
    "del r[3]\n",
    "print(r)\n",
    "\n",
    "if(4 in r):\n",
    "    r.remove(4)\n",
    "    print(r)\n",
    "else:\n",
    "    print(\"No 4 in list\")\n",
    "\n",
    "print(f\"Length is now {len(r)}\")"
   ]
  },
  {
   "cell_type": "markdown",
   "metadata": {},
   "source": [
    "## Two dimensional lists"
   ]
  },
  {
   "cell_type": "code",
   "execution_count": 28,
   "metadata": {},
   "outputs": [
    {
     "data": {
      "text/plain": [
       "[[0, 0, 0, 0, 0],\n",
       " [1, 2, 3, 4, 5],\n",
       " [2, 4, 6, 8, 10],\n",
       " [3, 6, 9, 12, 15],\n",
       " [4, 8, 12, 16, 20]]"
      ]
     },
     "metadata": {},
     "output_type": "display_data"
    }
   ],
   "source": [
    "m=[]\n",
    "for i in range(5):\n",
    "    m.append([])\n",
    "    for j in range(5):\n",
    "        m[i].append(i * (j+1))\n",
    "display(m)"
   ]
  },
  {
   "cell_type": "markdown",
   "metadata": {},
   "source": [
    "# Select elements, rows and columns"
   ]
  },
  {
   "cell_type": "code",
   "execution_count": 33,
   "metadata": {},
   "outputs": [
    {
     "name": "stdout",
     "output_type": "stream",
     "text": [
      "8\n",
      "[1, 2, 3, 4, 5]\n",
      "[0, 2, 4, 6, 8]\n"
     ]
    }
   ],
   "source": [
    "row2_col3 = m[2][3]\n",
    "print(row2_col3)\n",
    "r1 = m[1]\n",
    "print(r1)\n",
    "c1 = [row[1] for row in m]\n",
    "print(c1)"
   ]
  },
  {
   "cell_type": "markdown",
   "metadata": {},
   "source": [
    "# Sets\n",
    "- Unordered\n",
    "- No repeating values\n",
    "- Defined with `{ }` braces\n"
   ]
  },
  {
   "cell_type": "code",
   "execution_count": 7,
   "metadata": {},
   "outputs": [
    {
     "name": "stdout",
     "output_type": "stream",
     "text": [
      "{1, 2, 3, 4}\n",
      "{2, 3}\n"
     ]
    }
   ],
   "source": [
    "s1 = {1, 2, 3}\n",
    "s2 = {2, 3, 4}\n",
    "print(s1.union(s2))\n",
    "print(s1.intersection(s2))"
   ]
  },
  {
   "cell_type": "code",
   "execution_count": 8,
   "metadata": {},
   "outputs": [
    {
     "name": "stdout",
     "output_type": "stream",
     "text": [
      "{1, 2, 3, 4}\n"
     ]
    }
   ],
   "source": [
    "s1.add(4)\n",
    "print(s1)"
   ]
  },
  {
   "cell_type": "code",
   "execution_count": 9,
   "metadata": {},
   "outputs": [
    {
     "name": "stdout",
     "output_type": "stream",
     "text": [
      "{1, 2, 3}\n"
     ]
    }
   ],
   "source": [
    "s1.remove(4)\n",
    "print(s1)"
   ]
  },
  {
   "cell_type": "markdown",
   "metadata": {},
   "source": [
    "Note - we declare an empty set with `set()` not `{}`, which is an empty dictionary"
   ]
  },
  {
   "cell_type": "markdown",
   "metadata": {},
   "source": [
    "## Later we will meed more sophisticated matrix representations such as numpy and pandas"
   ]
  }
 ],
 "metadata": {
  "kernelspec": {
   "display_name": "Python 3",
   "language": "python",
   "name": "python3"
  },
  "language_info": {
   "codemirror_mode": {
    "name": "ipython",
    "version": 3
   },
   "file_extension": ".py",
   "mimetype": "text/x-python",
   "name": "python",
   "nbconvert_exporter": "python",
   "pygments_lexer": "ipython3",
   "version": "3.7.3"
  }
 },
 "nbformat": 4,
 "nbformat_minor": 2
}
