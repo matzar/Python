{
 "cells": [
  {
   "cell_type": "code",
   "execution_count": 0,
   "metadata": {},
   "outputs": [],
   "source": [
    "# Change directory to VSCode workspace root so that relative path loads work correctly. Turn this addition off with the DataScience.changeDirOnImportExport setting\n",
    "# ms-python.python added\n",
    "import os\n",
    "try:\n",
    "\tos.chdir(os.path.join(os.getcwd(), '..'))\n",
    "\tprint(os.getcwd())\n",
    "except:\n",
    "\tpass\n"
   ]
  },
  {
   "cell_type": "markdown",
   "metadata": {},
   "source": [
    " # ITNPBD2: Representing and Manipulating Data\n",
    " ## University of Stirling\n",
    " ## Dr. Kevin Swingler"
   ]
  },
  {
   "cell_type": "markdown",
   "metadata": {},
   "source": [
    " # Python Dictionaries\n",
    " - Data structures indexed by named keys\n",
    " - Basic structure is an unsorted list of key-value pairs\n",
    " - Stored as a hashmap for speed of access by key\n",
    " - Enclosed in `{}` braces"
   ]
  },
  {
   "cell_type": "code",
   "execution_count": 0,
   "metadata": {},
   "outputs": [],
   "source": [
    "modules = {'ITNPBD1':'Mathematics for Big Data',\n",
    "        'ITNPBD2':'Representing and Manipulating Data',\n",
    "        'ITNPBD3':'Relational and Non-Relational Databases'}\n",
    "\n",
    "print(modules)\n",
    "\n",
    "values = {\"string\" : '\\\"This is an example of a string\\\"',\n",
    "        'float' : '1.0', # we can use either '' or \"\" for both keys and values\n",
    "         \"integer\" : \"1\"}\n",
    "\n",
    "print(values)\n"
   ]
  },
  {
   "cell_type": "markdown",
   "metadata": {},
   "source": [
    " ## Access a single entry by its key"
   ]
  },
  {
   "cell_type": "code",
   "execution_count": 0,
   "metadata": {},
   "outputs": [],
   "source": [
    "print(modules['ITNPBD2'])\n",
    "\n",
    "print(modules['ITNPBD3'])\n",
    "\n",
    "print(values['string'])\n",
    "print(values['float'])\n",
    "print(values['integer'])\n"
   ]
  },
  {
   "cell_type": "markdown",
   "metadata": {},
   "source": [
    " ## List all the keys and values"
   ]
  },
  {
   "cell_type": "code",
   "execution_count": 0,
   "metadata": {},
   "outputs": [],
   "source": [
    "for mcode, description in modules.items():\n",
    "    print(f\"The module {mcode} is called {description}\")\n",
    "    \n",
    "for v, w in values.items():\n",
    "    print(f\"Example of a '{v}' could be {w}\")\n"
   ]
  },
  {
   "cell_type": "markdown",
   "metadata": {},
   "source": [
    " ## Add a new entry with `[ ]`"
   ]
  },
  {
   "cell_type": "code",
   "execution_count": 0,
   "metadata": {},
   "outputs": [],
   "source": [
    "modules['ITNPBD4'] = 'Scientific and Commercial Applications of Big Data'\n",
    "\n",
    "values['character'] = '\\'c\\''\n",
    "\n",
    "for key, value in values.items():\n",
    "    print(f\"values = key is {key} : value is {value}\")\n"
   ]
  },
  {
   "cell_type": "markdown",
   "metadata": {},
   "source": [
    " ## Loop through just the keys"
   ]
  },
  {
   "cell_type": "code",
   "execution_count": 0,
   "metadata": {},
   "outputs": [],
   "source": [
    "for mcode in modules:\n",
    "    print(mcode)\n",
    "    print(modules[mcode])  # Can also use mcode to access value\n",
    "        \n",
    "print(\"\\nPrint just dictionary's keys\")\n",
    "for key in values:\n",
    "    print(key)\n",
    "\n",
    "print(\"\\nPrint just dictionary's values\")\n",
    "for v in values:\n",
    "    print(values[v])\n",
    "    \n",
    "print(\"\\nPrint dictionary's keys and values\")    \n",
    "for key in values:\n",
    "    print(key, \":\", values[key])\n",
    "\n",
    "    \n"
   ]
  },
  {
   "cell_type": "markdown",
   "metadata": {},
   "source": [
    " ## Nesting objects\n",
    " - Values can be any Python object\n",
    " - For example lists or dictionaries"
   ]
  },
  {
   "cell_type": "code",
   "execution_count": 0,
   "metadata": {},
   "outputs": [],
   "source": [
    "modules['ITNPBD6'] = ['Data Mining', 'Machine Learning', 'Data Visualisation']\n",
    "print(modules['ITNPBD6'])\n",
    "print(modules['ITNPBD6'][0])\n",
    "\n",
    "values['string'] = ['we\\'re', 'adding', 'a', 'list', 'to', 'values', 'dictionary', 'at', 'key', 'equal', 'string']\n",
    "\n",
    "print(values)\n",
    "\n",
    "print(\"\\n\", values['string'][0],end = ' ')\n",
    "print(values['string'][1], end = ' ')\n",
    "print(values[\"string\"][2], end = \" \") # it doesn't matter if it's double or single quotes\n",
    "print(values['string'][3], '\\n')\n",
    "\n",
    "print(values['string'], '\\n')\n",
    "\n",
    "for s in values['string']:\n",
    "    print(s, end = ' ')\n",
    "\n"
   ]
  },
  {
   "cell_type": "code",
   "execution_count": 0,
   "metadata": {},
   "outputs": [],
   "source": [
    "bd6_dict = {'name':'Data Analytics','topics':['Data Mining','Machine Learning','Data Visualisation'],'Lecturer':'Kevin Swingler'}\n",
    "print(bd6_dict)\n",
    "\n",
    "that_is_how_you_can_initialize_a_dictionary = {\n",
    "    'bruh' : 'what\\'s up',\n",
    "    'well spoken bruh' : ['To', 'put', 'it', 'lightly', 'not', 'much'], # dictionary keys can have spaces!\n",
    "    'dictionary_bruh' : 'I\\'m a very inteligent bruh',\n",
    "    'int_bruh' : 110\n",
    "}\n",
    "\n",
    "print(that_is_how_you_can_initialize_a_dictionary)\n",
    "\n",
    "for well_spoken_bruh in that_is_how_you_can_initialize_a_dictionary['well spoken bruh']:\n",
    "    print(well_spoken_bruh, end = ' ')\n",
    "    \n",
    "print('\\n',that_is_how_you_can_initialize_a_dictionary['int_bruh'])\n",
    "\n"
   ]
  },
  {
   "cell_type": "code",
   "execution_count": 0,
   "metadata": {},
   "outputs": [],
   "source": [
    "modules['ITNPBD6'] = bd6_dict\n",
    "print(modules['ITNPBD6'])\n",
    "print(modules['ITNPBD6']['Lecturer'])\n",
    "print(modules['ITNPBD6']['topics'][1])\n",
    "\n",
    "print(values['integer']) # the value under 'ingteger' key before overwriting it with a new value\n",
    "values['integer'] = that_is_how_you_can_initialize_a_dictionary # overwrite the value under 'integer' key with a dictionary\n",
    "print('\\n',values['integer']['bruh'])\n",
    "print(values['integer']['well spoken bruh'])     # print with print()\n",
    "for b in values['integer']['well spoken bruh']:  # print with for loop\n",
    "    print(b, end = ' ')\n",
    "print('\\n',values['integer']['dictionary_bruh']) # print the last key 'dictionary_bruh' from 'that_is_how_you_can_initialize_a_dictionary' dictionary\n"
   ]
  },
  {
   "cell_type": "markdown",
   "metadata": {},
   "source": [
    " # JSON\n",
    " Dictionaries look a lot like JSON there are some differences:\n",
    " - JSON is just a string based data representation, but a dictionary is a data structure\n",
    " - The key in a dictionary is hashed to aid fast in memory access\n",
    " - The key in JSON must be a string. In a dictionary, it can be any hashable type\n",
    " - Single quotes in a dictionary, double quotes in JSON\n",
    " ## Main Python methods\n",
    " - `json.loads()` Produces dictionary from json string\n",
    " - `json.dumps()` Produces json string from object"
   ]
  },
  {
   "cell_type": "code",
   "execution_count": 0,
   "metadata": {},
   "outputs": [],
   "source": [
    "import json\n",
    "\n",
    "json_string = '{\"Name\":\"Kevin\", \"Age\":50}'\n",
    "dict_obj = {\"Name\":\"Kevin\", \"Age\":50}\n",
    "\n",
    "dict_from_string = json.loads(json_string)\n",
    "string_from_dict = json.dumps(dict_obj)\n",
    "\n",
    "print(json_string, type(json_string))\n",
    "print(dict_obj, type(dict_obj))\n",
    "print(dict_from_string, type(dict_from_string))\n",
    "print(string_from_dict, type(string_from_dict))\n",
    "\n",
    "import json\n",
    "\n",
    "print('\\n')\n",
    "\n",
    "json_string = '{\"name\":\"Mateusz\", \"age\":28}'\n",
    "dictionary_object = {\"name\" : \"Mateusz\", \"age\" : 28}\n",
    "i = 25\n",
    "\n",
    "dictionary_from_json_string = json.loads(json_string)\n",
    "string_from_dictionary_python_object = json.dumps(dictionary_object)\n",
    "i = json.dumps(i)\n",
    "\n",
    "print('\\n', i, type(i),'\\n') # string created from python object using JSON\n",
    "\n",
    "print(dictionary_object)\n",
    "print(dictionary_from_json_string)\n",
    "print(string_from_dictionary_python_object)\n",
    "print(dictionary_from_json_string, type(dictionary_from_json_string))\n",
    "print(string_from_dictionary_python_object, type(string_from_dictionary_python_object))\n",
    "\n"
   ]
  },
  {
   "cell_type": "code",
   "execution_count": 0,
   "metadata": {},
   "outputs": [],
   "source": [
    "# This is a new test here\n"
   ]
  },
  {
   "cell_type": "markdown",
   "metadata": {},
   "source": [
    " # Test title\n",
    " ## Subtitle text\n",
    " ### Sub-subtitle text\n",
    " Normal text\n",
    " - 1\n",
    " - 2\n",
    " - 3"
   ]
  },
  {
   "cell_type": "code",
   "execution_count": 0,
   "metadata": {},
   "outputs": [],
   "source": [
    "mod_str=json.dumps(modules, indent=4)\n",
    "print(mod_str)\n",
    "\n",
    "print(values['string'][0])\n",
    "print(values['integer'])\n",
    "print(set(values))\n",
    "\n",
    "print('\\n\\n')\n",
    "\n",
    "mod_values = json.dumps(values, indent = 2)\n",
    "print(mod_values)\n"
   ]
  },
  {
   "cell_type": "markdown",
   "metadata": {},
   "source": [
    " ### To do the same with files, not strings, drop the `s`, so `dump` or `load`"
   ]
  },
  {
   "cell_type": "code",
   "execution_count": 0,
   "metadata": {},
   "outputs": [],
   "source": [
    "# with open('/Users/mateuszzaremba/dev/Python/MovieData.json') as f:\n",
    "#     movies = json.load(f)\n",
    "\n",
    "# print(movies)\n",
    "\n",
    "# with open('/Users/mateuszzaremba/dev/Python/MovieData.json') as m:\n",
    "#     movies = json.load(m) # put json list array 'movie' variable\n",
    "\n",
    "# print(movies) # print movie array\n",
    "\n"
   ]
  },
  {
   "cell_type": "markdown",
   "metadata": {},
   "source": [
    " ## Here we have loaded an array of json objects about movies\n",
    " - Let's find all the top level keys\n",
    " keyset = set()           # create empty set\n",
    " for mov in movies:\n",
    "     for k in mov:\n",
    "         keyset.add(k)\n",
    " print(keyset)\n",
    " print(movies) # print movie array"
   ]
  },
  {
   "cell_type": "code",
   "execution_count": 0,
   "metadata": {},
   "outputs": [],
   "source": [
    "print(movies[0]) # display each movie and all its categories: 'title', 'year', 'rated', 'runtime', etc.\n"
   ]
  },
  {
   "cell_type": "markdown",
   "metadata": {},
   "source": [
    " ## Pick out a single field"
   ]
  },
  {
   "cell_type": "code",
   "execution_count": 0,
   "metadata": {},
   "outputs": [],
   "source": [
    "print(movies[0]['genres']) # Display the movie[0] genre\n"
   ]
  },
  {
   "cell_type": "markdown",
   "metadata": {},
   "source": [
    " ## Now pull out all the genres with a similar pattern of code:"
   ]
  },
  {
   "cell_type": "code",
   "execution_count": 0,
   "metadata": {},
   "outputs": [],
   "source": [
    "genres = set()\n",
    "# for mov in movies:\n",
    "#    genres.add(mov['genres'])  # Won't work - you cannot have a set of lists\n",
    "        \n",
    "print(genres)\n"
   ]
  },
  {
   "cell_type": "markdown",
   "metadata": {},
   "source": [
    " ## You cannot have a set of mutable lists - must convert to an imutable type, e.g. tuple\n",
    " - Discuss this for a minute or two!!"
   ]
  },
  {
   "cell_type": "code",
   "execution_count": 0,
   "metadata": {},
   "outputs": [],
   "source": [
    "genres = set()\n",
    "# for mov in movies:\n",
    "#    genres.add(tuple(mov['genres']))  # Won't work - you cannot have a set of lists\n",
    "        \n",
    "print(genres)\n"
   ]
  },
  {
   "cell_type": "markdown",
   "metadata": {},
   "source": [
    " ## Maybe that is not what we really want,\n",
    " - Try again for a list of genres"
   ]
  },
  {
   "cell_type": "code",
   "execution_count": 0,
   "metadata": {},
   "outputs": [],
   "source": [
    "# genres = set()\n",
    "# for mov in movies:\n",
    "#     for genre in mov['genres']:\n",
    "#         genres.add(genre)\n",
    "        \n",
    "# print(genres)\n",
    "\n",
    "genres = set()\n",
    "for mov in movies:            # grab each movie in the json movies list\n",
    "    for g in mov['genres']:   # each movie in the json movie list has a list of genres - grab each one of these genres\n",
    "        genres.add(g)         # and add them to the set. Using a set will ensure that we don't have any duplicates and will sort our set as well.\n",
    "\n",
    "print(genres)   # print all the possible genres found in the json movies list\n"
   ]
  },
  {
   "cell_type": "markdown",
   "metadata": {},
   "source": [
    " ## That is more like it.\n",
    " - Something more challenging now - find the average rating by genre\n",
    " - This time we will build a dictionary of dicts of the form `{genrename: {'num':number of examples, 'rating': av rating}}`"
   ]
  },
  {
   "cell_type": "code",
   "execution_count": 0,
   "metadata": {},
   "outputs": [],
   "source": [
    "genres = dict() # create empty dictionary that will later be populated with dictionaries\n",
    "for m in movies:\n",
    "    # print(mov['imdb'])\n",
    "    for g in m['genres']:\n",
    "        if m['imdb']['rating'] is not None:    # Delete this first to see the problem it is fixing!\n",
    "            if g not in genres:\n",
    "                genres[g] = {'num':1, 'rating':int(m['imdb']['rating'])}\n",
    "                print(genres)\n",
    "            else:\n",
    "                genres[g]['num'] += 1\n",
    "                genres[g]['rating'] += int(m['imdb']['rating'])\n",
    "                print(genres)\n",
    "    print(\"\")\n",
    "        \n",
    "#display(genres)\n",
    "\n",
    "# calculate mean ratings for all found genres\n",
    "for g in genres:\n",
    "    genres[g]['rating'] = genres[g]['rating']/genres[g]['num']\n",
    "\n",
    "# display mean rating for all found genres\n",
    "for k in genres:\n",
    "    print(k,genres[k]['rating'])\n",
    "\n",
    "# for genre in genres:\n",
    "#     genres[genre]['rating'] = genres[genre]['rating']/genres[genre]['num']\n",
    "# print(genres)\n"
   ]
  },
  {
   "cell_type": "markdown",
   "metadata": {},
   "source": [
    " # Sets, lists and dicts Summary\n",
    " - You can have a list of dicts\n",
    " - You can have a list of sets\n",
    " - Both are mutable\n",
    " - You cannot have a set of mutable objects like lists or dicts\n",
    " - You can have a immutable objects like tuples"
   ]
  },
  {
   "cell_type": "code",
   "execution_count": 0,
   "metadata": {},
   "outputs": [],
   "source": [
    "list_of_dicts = [{'a':1},{'b':2}]\n",
    "print(list_of_dicts)\n",
    "\n",
    "list_of_dictionaries = list() \n",
    "# or\n",
    "list_of_dictionaries = []\n",
    "list_of_dictionaries = [{'x' : '0'}, {'y' : '0'}]\n",
    "print(list_of_dictionaries)\n",
    "\n"
   ]
  },
  {
   "cell_type": "code",
   "execution_count": 0,
   "metadata": {},
   "outputs": [],
   "source": [
    "list_of_sets = [set((1, 2, 3)), set((1, 2, 3))]\n",
    "print(list_of_sets)\n"
   ]
  },
  {
   "cell_type": "code",
   "execution_count": 0,
   "metadata": {},
   "outputs": [],
   "source": [
    "\"\"\"ERROR: TypeError: unhashable type: 'dict'\"\"\"\n",
    "# set_of_dicts = set(({'a':1},{'b':2}))\n",
    "\n"
   ]
  },
  {
   "cell_type": "code",
   "execution_count": 0,
   "metadata": {},
   "outputs": [],
   "source": [
    "\"\"\"ERROR: TypeError: unhashable type 'list\"\"\"\n",
    "# set_of_lists = set(([1, 2, 4],[1,2,3]))\n",
    "\n"
   ]
  },
  {
   "cell_type": "code",
   "execution_count": 0,
   "metadata": {},
   "outputs": [],
   "source": [
    "\"\"\"OK: tuples are hashable\"\"\"\n",
    "set_of_tuples = set(((1, 2, 4),(1,2,3))) \n",
    "set_of_tuples\n",
    "\n"
   ]
  },
  {
   "cell_type": "code",
   "execution_count": 0,
   "metadata": {},
   "outputs": [],
   "source": [
    "## Python 3 code to demonstrate the \n",
    "## working of set() on list and tuple\n"
   ]
  },
  {
   "cell_type": "code",
   "execution_count": 0,
   "metadata": {},
   "outputs": [],
   "source": [
    "\n",
    "# initializing list\n",
    "lis1 = [ 3, 4, 1, 4, 5 ]\n",
    "# initializing tuple\n",
    "tup1 = ( 3, 4, 1, 4, 5)\n",
    "\n",
    "# Printing iterables before conversion\n",
    "print(\"The list before conversion is: \" + str(lis1))\n",
    "print(\"The tuple before conversion is: \" + str(tup1))\n",
    "\n",
    "# Iterables after conversion are\n",
    "# notice distinct and sorted elements\n",
    "print(\"The list after conversion is: \" + str(set(lis1)))\n",
    "print(\"The tuple after conversion is: \" + str(set(tup1)))\n"
   ]
  },
  {
   "cell_type": "code",
   "execution_count": 0,
   "metadata": {},
   "outputs": [],
   "source": [
    "# Get dictionary keys\n",
    "dictionary_keys = set(values) # Dictionary can also be created using set, but only keys remain after conversion, values are lost\n",
    "print(dictionary_keys)"
   ]
  }
 ],
 "metadata": {
  "file_extension": ".py",
  "kernelspec": {
   "display_name": "Python 3",
   "language": "python",
   "name": "python3"
  },
  "language_info": {
   "codemirror_mode": {
    "name": "ipython",
    "version": 3
   },
   "file_extension": ".py",
   "mimetype": "text/x-python",
   "name": "python",
   "nbconvert_exporter": "python",
   "pygments_lexer": "ipython3",
   "version": "3.7.4"
  },
  "mimetype": "text/x-python",
  "name": "python",
  "npconvert_exporter": "python",
  "pygments_lexer": "ipython3",
  "version": 3
 },
 "nbformat": 4,
 "nbformat_minor": 2
}
