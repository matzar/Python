{
 "cells": [
  {
   "cell_type": "markdown",
   "metadata": {},
   "source": [
    "# ITNPBD2 Representing and Manipulating Data\n",
    "## Visualisation Practical Lab\n",
    "\n",
    "## USA Zipcode Data Aggregation and Plotting\n",
    "\n",
    "There is a file of USA geographic location data called zips.json available on Canvas. It is in JSON format and each entry describes a zip code area with its code, city name, location as an array of [longitude, latitude], population and state abbreviation. The first one is Ketchikan, AK:\n",
    "\n",
    "`{'_id': '99950', 'city': 'KETCHIKAN', 'locn': [-133.18479, 55.942471], 'pop': 422, 'state': 'AK'}`\n",
    "\n",
    "and there are 29,353 of them in total."
   ]
  },
  {
   "cell_type": "markdown",
   "metadata": {},
   "source": [
    "# Read the zip code file into an array of JSON objects\n",
    " - The file is in JSON format\n",
    " - Download it from Canvas and store it in your H: drive (not on the lab C: drive)\n",
    " - Read it into an array of JSON objects\n",
    " - Check you have read it correctly by printing the first entry in your array and the length of the array."
   ]
  },
  {
   "cell_type": "code",
   "execution_count": null,
   "metadata": {},
   "outputs": [],
   "source": [
    "# Write your code here\n"
   ]
  },
  {
   "cell_type": "markdown",
   "metadata": {},
   "source": [
    "# Extract just the state and population data\n",
    "\n",
    "## Create a dictionary with the state name as the key and the population as the value\n",
    "\n",
    "- For example, one entry in the dictionary might be `'MA':6016425`\n",
    "- Print the first 10 entries\n",
    "- What is the total population of Texas (TX)?"
   ]
  },
  {
   "cell_type": "code",
   "execution_count": null,
   "metadata": {},
   "outputs": [],
   "source": [
    "# Write your code here\n"
   ]
  },
  {
   "cell_type": "markdown",
   "metadata": {},
   "source": [
    "# Plot a bar chart of the state codes and their total populations\n",
    "## Use Matplotlib\n",
    "- Wrap the graph in a figure so you can make it wider"
   ]
  },
  {
   "cell_type": "code",
   "execution_count": null,
   "metadata": {},
   "outputs": [],
   "source": [
    "# Write your code here\n"
   ]
  },
  {
   "cell_type": "markdown",
   "metadata": {},
   "source": [
    "## Load all the data into a Pandas data frame\n",
    "- Use the Pandas `from_dict` method to create the data frame\n",
    "- Look at the first few rows with `head`"
   ]
  },
  {
   "cell_type": "code",
   "execution_count": null,
   "metadata": {},
   "outputs": [],
   "source": [
    "# Write your code here\n"
   ]
  },
  {
   "cell_type": "markdown",
   "metadata": {},
   "source": [
    "## Notice that the location column is an array. Fix that by splitting it into two columns, `long` and `lat`.\n",
    "- Clue: use the Pandas `tolist()` method to expand the list into two columns\n",
    "- You can use `concat` with `axis=1` to join columns"
   ]
  },
  {
   "cell_type": "code",
   "execution_count": null,
   "metadata": {},
   "outputs": [],
   "source": [
    "# Write your code here\n"
   ]
  },
  {
   "cell_type": "markdown",
   "metadata": {},
   "source": [
    "# Now use Seaborn to draw a scatter plot where x is the longitude, y is the latitude and point size is population\n",
    "\n",
    "## You should see a point for each city on a scatter that looks like a map of th USA"
   ]
  },
  {
   "cell_type": "code",
   "execution_count": null,
   "metadata": {},
   "outputs": [],
   "source": [
    "# Write your code here\n"
   ]
  },
  {
   "cell_type": "markdown",
   "metadata": {},
   "source": [
    "## That is okay, but we can do better. A choropleth is a plot on a map. This time, use Plotly to plot the populations of each state by depth of colour on a map that shows state boundaries.\n",
    "\n",
    "## Some clues:\n",
    "\n",
    "- The Plotly choropleth page is here https://plot.ly/python/choropleth-maps/"
   ]
  },
  {
   "cell_type": "code",
   "execution_count": null,
   "metadata": {},
   "outputs": [],
   "source": [
    "# Write your code here\n"
   ]
  },
  {
   "cell_type": "markdown",
   "metadata": {},
   "source": [
    "# Still got time?\n",
    "- Look online for other data about US states and create more plots from that https://www.infoplease.com/ is useful\n",
    "- Or do something similar for your own country"
   ]
  },
  {
   "cell_type": "code",
   "execution_count": null,
   "metadata": {},
   "outputs": [],
   "source": []
  }
 ],
 "metadata": {
  "kernelspec": {
   "display_name": "Python 3",
   "language": "python",
   "name": "python3"
  },
  "language_info": {
   "codemirror_mode": {
    "name": "ipython",
    "version": 3
   },
   "file_extension": ".py",
   "mimetype": "text/x-python",
   "name": "python",
   "nbconvert_exporter": "python",
   "pygments_lexer": "ipython3",
   "version": "3.6.5"
  }
 },
 "nbformat": 4,
 "nbformat_minor": 2
}
