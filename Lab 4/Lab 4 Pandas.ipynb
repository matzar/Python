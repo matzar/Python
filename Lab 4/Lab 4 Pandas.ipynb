{
 "cells": [
  {
   "cell_type": "markdown",
   "metadata": {},
   "source": [
    "# ITNPBD2 Representing and Manipulating Data\n",
    "## Pandas Lab - Fitness Tracker Data\n",
    "\n",
    "In this practical, we will analyse data from a fitness tracking app. The data have been collected from various different users and stored in a single file. The data are a mixture of user profile data (username, date of birth, etc.) and activity records (swim distance, etc.). This means the profile data are repeated for every user for every activity they recorded. That is not very useful!\n",
    "\n",
    "Worse, the columns are not appropriate for all activities. For example, the column `stroke` only has data when the user was swimming, otherwise it is empty.\n",
    "\n",
    "You need to separate the data into different tables and then analyse it. You will be doing this with Pandas."
   ]
  },
  {
   "cell_type": "markdown",
   "metadata": {},
   "source": [
    "## Load the data into a Pandas data frame\n",
    "\n",
    "After importing pandas, load the data file `fitness.csv`. Either copy it to a local folder from the course Canvas page or read it directly from the URL. Don't set an index column or data types yet - just load it and look at the first 10 rows. Print the length of the table (number of rows)."
   ]
  },
  {
   "cell_type": "code",
   "execution_count": null,
   "metadata": {},
   "outputs": [],
   "source": [
    "# Enter your code here\n"
   ]
  },
  {
   "cell_type": "markdown",
   "metadata": {},
   "source": [
    "# Fix the date columns.\n",
    "## Two columns: DOB and Date contain dates. Convert them to the correct format"
   ]
  },
  {
   "cell_type": "code",
   "execution_count": null,
   "metadata": {},
   "outputs": [],
   "source": [
    "# Enter your code here\n"
   ]
  },
  {
   "cell_type": "markdown",
   "metadata": {},
   "source": [
    "# Find out what the different activities in the data are, and how often each one occurs"
   ]
  },
  {
   "cell_type": "code",
   "execution_count": null,
   "metadata": {},
   "outputs": [],
   "source": [
    "# Enter your code here\n"
   ]
  },
  {
   "cell_type": "markdown",
   "metadata": {},
   "source": [
    "# Let's start with some simple date extraction. Print each of these parts of the data:\n",
    "## The column with usernames in it"
   ]
  },
  {
   "cell_type": "code",
   "execution_count": null,
   "metadata": {
    "scrolled": true
   },
   "outputs": [],
   "source": [
    "# Enter your code here\n"
   ]
  },
  {
   "cell_type": "markdown",
   "metadata": {},
   "source": [
    "## The row at index location 2"
   ]
  },
  {
   "cell_type": "code",
   "execution_count": null,
   "metadata": {},
   "outputs": [],
   "source": [
    "# Enter your code here\n"
   ]
  },
  {
   "cell_type": "markdown",
   "metadata": {},
   "source": [
    "## Print all the data for user ddbq2413"
   ]
  },
  {
   "cell_type": "code",
   "execution_count": null,
   "metadata": {},
   "outputs": [],
   "source": [
    "# Enter your code here\n"
   ]
  },
  {
   "cell_type": "markdown",
   "metadata": {},
   "source": [
    "## Calculate the average (mean) distance travelled for Swim, Bike and Run activities respectively. Use `groupby` to do this"
   ]
  },
  {
   "cell_type": "code",
   "execution_count": null,
   "metadata": {},
   "outputs": [],
   "source": [
    "# Enter your code here\n"
   ]
  },
  {
   "cell_type": "markdown",
   "metadata": {},
   "source": [
    "## Extract user Data\n",
    "You should see that columns 2,3,4 and 5 (from Username to UserHeight) are about the user and not the exercise.\n",
    "- Find out how many different users there are"
   ]
  },
  {
   "cell_type": "code",
   "execution_count": null,
   "metadata": {},
   "outputs": [],
   "source": [
    "# Enter your code here\n"
   ]
  },
  {
   "cell_type": "markdown",
   "metadata": {},
   "source": [
    "## Then create a new data frame with only the user data columns: username, Date of Birth (DOB), weight and height.\n",
    "- Then drop all the duplicates to create a table with a single entry for each user\n",
    "- Then set the index to be `Username`\n",
    "- Display the whole list of users (it is short)"
   ]
  },
  {
   "cell_type": "code",
   "execution_count": null,
   "metadata": {},
   "outputs": [],
   "source": [
    "# Enter your code here\n"
   ]
  },
  {
   "cell_type": "markdown",
   "metadata": {},
   "source": [
    "# Now we need to extract the Swimming Data\n",
    "- The columns you need are Date, Username, Distance, Set and Stroke\n",
    "- You should only extract the rows where the Activity column equals Swim\n",
    "- Extract them into a dataframe called `swims`\n",
    "- Note that the `set` column allows the user to break one swim session into shorter sets, each of a different stroke. You should see each date has 1 or more sets.\n",
    "- There will be duplicates in this set, so you must drop them too"
   ]
  },
  {
   "cell_type": "code",
   "execution_count": null,
   "metadata": {},
   "outputs": [],
   "source": [
    "# Enter your code here\n"
   ]
  },
  {
   "cell_type": "markdown",
   "metadata": {},
   "source": [
    "## - Finally, set Username and Date as the two indices"
   ]
  },
  {
   "cell_type": "code",
   "execution_count": null,
   "metadata": {},
   "outputs": [],
   "source": [
    "# Enter your code here\n"
   ]
  },
  {
   "cell_type": "markdown",
   "metadata": {},
   "source": [
    "# One more extraction\n",
    "## We won't bother separating out every activity, but we will do one more\n",
    "- Make another frame called `Bike` with Date, Username, Distance and Minutes by selecting rows where activity is Bike\n",
    "- Remember to remove duplicates and set the indices again"
   ]
  },
  {
   "cell_type": "code",
   "execution_count": null,
   "metadata": {},
   "outputs": [],
   "source": [
    "# Enter your code here\n"
   ]
  },
  {
   "cell_type": "markdown",
   "metadata": {},
   "source": [
    "## Assuming you set the index in the order Username, Date:\n",
    "- Extract all the bike data for user `ddbq2413`\n",
    "- Extract all the bike data for user `ddbq2413` on date `2014-01-10`"
   ]
  },
  {
   "cell_type": "code",
   "execution_count": null,
   "metadata": {},
   "outputs": [],
   "source": [
    "# Enter your code here\n"
   ]
  },
  {
   "cell_type": "markdown",
   "metadata": {},
   "source": [
    "# Now we will use only these new tables to answer some queries - don't use the original large data frame!\n",
    "- Extract two columns: Userweight and Distance for all Swims by merging the Swim table with the Users table"
   ]
  },
  {
   "cell_type": "code",
   "execution_count": null,
   "metadata": {},
   "outputs": [],
   "source": [
    "# Enter your code here\n"
   ]
  },
  {
   "cell_type": "markdown",
   "metadata": {},
   "source": [
    "# Finally, plot the UserWeight against Distance as a scatter plot\n",
    "- Use a library that can plot directly from Pandas"
   ]
  },
  {
   "cell_type": "code",
   "execution_count": null,
   "metadata": {},
   "outputs": [],
   "source": [
    "# Enter your code here\n"
   ]
  },
  {
   "cell_type": "code",
   "execution_count": null,
   "metadata": {},
   "outputs": [],
   "source": []
  }
 ],
 "metadata": {
  "kernelspec": {
   "display_name": "Python 3",
   "language": "python",
   "name": "python3"
  },
  "language_info": {
   "codemirror_mode": {
    "name": "ipython",
    "version": 3
   },
   "file_extension": ".py",
   "mimetype": "text/x-python",
   "name": "python",
   "nbconvert_exporter": "python",
   "pygments_lexer": "ipython3",
   "version": "3.7.4"
  }
 },
 "nbformat": 4,
 "nbformat_minor": 2
}
