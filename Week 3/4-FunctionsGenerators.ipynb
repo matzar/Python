{
 "cells": [
  {
   "cell_type": "markdown",
   "metadata": {},
   "source": [
    "## ITNPBD2: Representing and Manipulating Data\n",
    "## University of Stirling\n",
    "## Dr. Kevin Swingler"
   ]
  },
  {
   "cell_type": "markdown",
   "metadata": {},
   "source": [
    "# Functions, Generators, Functional Programming\n",
    "## Avoid repeating code by putting code you use a lot in a function\n",
    "\n",
    "- Defining and calling functions\n",
    "- Parameter passing\n",
    "- Return values\n"
   ]
  },
  {
   "cell_type": "markdown",
   "metadata": {},
   "source": [
    "## Define a function"
   ]
  },
  {
   "cell_type": "code",
   "execution_count": 3,
   "metadata": {},
   "outputs": [],
   "source": [
    "def mark_to_grade(mark):\n",
    "    if mark < 50:\n",
    "        grade = \"Fail\"\n",
    "    elif mark < 60:\n",
    "        grade = \"Pass\"\n",
    "    elif mark < 70:\n",
    "        grade = \"Merit\"\n",
    "    else:\n",
    "        grade = \"Distinction\"\n",
    "    return grade\n",
    "\n"
   ]
  },
  {
   "cell_type": "markdown",
   "metadata": {},
   "source": [
    "## Call a function and store its result"
   ]
  },
  {
   "cell_type": "code",
   "execution_count": 5,
   "metadata": {},
   "outputs": [
    {
     "name": "stdout",
     "output_type": "stream",
     "text": [
      "Merit\n"
     ]
    }
   ],
   "source": [
    "grade = mark_to_grade(65)\n",
    "print(grade)"
   ]
  },
  {
   "cell_type": "markdown",
   "metadata": {},
   "source": [
    "## Positional Arguments\n",
    "- Names of arguments are matched to their position"
   ]
  },
  {
   "cell_type": "code",
   "execution_count": 4,
   "metadata": {},
   "outputs": [
    {
     "name": "stdout",
     "output_type": "stream",
     "text": [
      "a is 1, b is 2\n"
     ]
    }
   ],
   "source": [
    "def pos_arg(a, b):\n",
    "    print(f\"a is {a}, b is {b}\")\n",
    "pos_arg(1, 2)"
   ]
  },
  {
   "cell_type": "markdown",
   "metadata": {},
   "source": [
    "## Keyword Arguments\n",
    "- Name of arguments are matched by name"
   ]
  },
  {
   "cell_type": "code",
   "execution_count": 20,
   "metadata": {},
   "outputs": [
    {
     "name": "stdout",
     "output_type": "stream",
     "text": [
      "a is 1, b is 3\n"
     ]
    }
   ],
   "source": [
    "pos_arg(b=3, a=1)"
   ]
  },
  {
   "cell_type": "markdown",
   "metadata": {},
   "source": [
    "## Variable Length Argument Lists\n",
    "- When there can be a variable length list of arguments to a function\n",
    "- They are automatically wrapped in a tuple in the function\n",
    "- Put a `*` infront of the argument when you define the function"
   ]
  },
  {
   "cell_type": "code",
   "execution_count": 12,
   "metadata": {},
   "outputs": [
    {
     "name": "stdout",
     "output_type": "stream",
     "text": [
      "6\n"
     ]
    }
   ],
   "source": [
    "def add_list(*nums):\n",
    "    return sum(nums)\n",
    "\n",
    "print(add_list(1, 2, 3))"
   ]
  },
  {
   "cell_type": "markdown",
   "metadata": {},
   "source": [
    "## Variable Length Keyword Arguments\n",
    "- Specify that the function accepts a variable length of keyword arguments\n",
    "- Use `**` infront of argument list name"
   ]
  },
  {
   "cell_type": "code",
   "execution_count": 25,
   "metadata": {},
   "outputs": [
    {
     "name": "stdout",
     "output_type": "stream",
     "text": [
      "a = 1\n",
      "b = 2\n",
      "c = 3\n"
     ]
    }
   ],
   "source": [
    "def kwargs_example(**kwargs):\n",
    "    for k,v in kwargs.items():\n",
    "        print(f\"{k} = {v}\")\n",
    "\n",
    "kwargs_example(a=1, b=2, c=3)"
   ]
  },
  {
   "cell_type": "markdown",
   "metadata": {},
   "source": [
    "## Unpack an array into arguments\n",
    "- When you have an array that represents the arguments to a function\n",
    "- Put a `*` infront of the argument when calling the function and use an array"
   ]
  },
  {
   "cell_type": "code",
   "execution_count": 26,
   "metadata": {},
   "outputs": [
    {
     "name": "stdout",
     "output_type": "stream",
     "text": [
      "6\n",
      "6\n",
      "6\n"
     ]
    }
   ],
   "source": [
    "def add_three(a, b, c):\n",
    "    return a + b + c\n",
    "\n",
    "print(add_three(1, 2, 3))\n",
    "numlist=[1, 2, 3]\n",
    "print(add_three(*numlist))\n",
    "\n",
    "kwlist={'a':1, 'b':2, 'c':3}\n",
    "print(add_three(**kwlist))"
   ]
  },
  {
   "cell_type": "markdown",
   "metadata": {},
   "source": [
    "### Which to use depends on how the function is defined:\n",
    "- `zip(*iterables)` is a function for aggregating elements from a list of iterables\n",
    "- It is defined with `*` as a variable length argument list\n",
    "- So we can call it with a variable number of arguments:"
   ]
  },
  {
   "cell_type": "code",
   "execution_count": 13,
   "metadata": {},
   "outputs": [
    {
     "name": "stdout",
     "output_type": "stream",
     "text": [
      "[('1', 'a'), ('2', 'b'), ('3', 'c')]\n",
      "[('1', 'a', 'x'), ('2', 'b', 'y'), ('3', 'c', 'z')]\n"
     ]
    }
   ],
   "source": [
    "print (list(zip('123', 'abc')))\n",
    "print (list(zip('123', 'abc', 'xyz')))"
   ]
  },
  {
   "cell_type": "markdown",
   "metadata": {},
   "source": [
    "### Or use a `*` when we call it to send a single list of values to be unpacked into arguments"
   ]
  },
  {
   "cell_type": "code",
   "execution_count": 14,
   "metadata": {},
   "outputs": [
    {
     "name": "stdout",
     "output_type": "stream",
     "text": [
      "(1, 3, 5, 7, 9)\n",
      "(2, 4, 6, 8, 10)\n"
     ]
    }
   ],
   "source": [
    "xy=[(1, 2), (3, 4), (5, 6), (7, 8), (9, 10)]\n",
    "x,y = zip(*xy)\n",
    "print(x)\n",
    "print(y)"
   ]
  },
  {
   "cell_type": "markdown",
   "metadata": {},
   "source": [
    "## Default Arguments Values\n",
    "- Define a function with some arguments given default values\n",
    "- Can be tricky with positional arguments\n",
    "- Works very well with keyword arguments"
   ]
  },
  {
   "cell_type": "code",
   "execution_count": 31,
   "metadata": {},
   "outputs": [
    {
     "name": "stdout",
     "output_type": "stream",
     "text": [
      "3\n",
      "6\n"
     ]
    }
   ],
   "source": [
    "#add_three(1, 2)  # Doesn't work - see add_three definition above\n",
    "def add_two_or_three(a, b ,c=0):\n",
    "    return a+b+c\n",
    "print(add_two_or_three(1, 2))\n",
    "print(add_two_or_three(1, 2, 3))"
   ]
  },
  {
   "cell_type": "markdown",
   "metadata": {},
   "source": [
    "## Return Values\n",
    "- `return` statement both ends the running of the function and tells it what to send back to the calling environment\n",
    "- You can return anything -arrays, dicts, tuples, etc."
   ]
  },
  {
   "cell_type": "code",
   "execution_count": 21,
   "metadata": {},
   "outputs": [
    {
     "name": "stdout",
     "output_type": "stream",
     "text": [
      "(1, 4)\n"
     ]
    }
   ],
   "source": [
    "import random\n",
    "\n",
    "def ret_rand_tuple():\n",
    "    a=random.randrange(0, 5)\n",
    "    b=random.randrange(0, 5)\n",
    "    return a, b\n",
    "\n",
    "print(ret_rand_tuple())"
   ]
  },
  {
   "cell_type": "markdown",
   "metadata": {},
   "source": [
    "## Generator Functions and `Yield`\n",
    "- A generator is iterable, but does not store the values in memory\n",
    "- Can be useful for large structures\n",
    "- You can iterate over it once only\n",
    "- Defined like an iterable list, but with `()` instead of `[]`"
   ]
  },
  {
   "cell_type": "code",
   "execution_count": 24,
   "metadata": {},
   "outputs": [
    {
     "name": "stdout",
     "output_type": "stream",
     "text": [
      "[0, 1, 4, 9, 16]\n"
     ]
    }
   ],
   "source": [
    "# Iterable into a list\n",
    "l = [x*x for x in range(0, 5)]\n",
    "print(l)    # l  is a list"
   ]
  },
  {
   "cell_type": "code",
   "execution_count": 28,
   "metadata": {},
   "outputs": [
    {
     "name": "stdout",
     "output_type": "stream",
     "text": [
      "<generator object <genexpr> at 0x0000000005264A98>\n"
     ]
    }
   ],
   "source": [
    "# Iterable into a generator\n",
    "g = (x*x for x in range(0, 5))\n",
    "print(g)    # l  is an object!"
   ]
  },
  {
   "cell_type": "code",
   "execution_count": 29,
   "metadata": {},
   "outputs": [
    {
     "name": "stdout",
     "output_type": "stream",
     "text": [
      "0\n",
      "1\n",
      "4\n",
      "9\n",
      "16\n"
     ]
    }
   ],
   "source": [
    "for x in g:\n",
    "    print(x)"
   ]
  },
  {
   "cell_type": "markdown",
   "metadata": {},
   "source": [
    "## Write a generator function"
   ]
  },
  {
   "cell_type": "code",
   "execution_count": 39,
   "metadata": {},
   "outputs": [
    {
     "name": "stdout",
     "output_type": "stream",
     "text": [
      "<generator object square_gen at 0x0000000004D20308>\n",
      "0\n",
      "1\n",
      "4\n",
      "9\n",
      "16\n",
      "[0, 1, 4, 9, 16]\n"
     ]
    }
   ],
   "source": [
    "def square_gen(s, f):\n",
    "    for a in range(s, f):\n",
    "        yield a*a\n",
    "\n",
    "sq=square_gen(0,5)   # This is a generator object - the result of calling the function\n",
    "print(sq)\n",
    "for i in sq:         # This actually calls the function!\n",
    "    print(i)\n",
    "    \n",
    "sq=square_gen(0,5)   # Define it again - iterables are one use only, remember!\n",
    "print(list(sq))"
   ]
  },
  {
   "cell_type": "markdown",
   "metadata": {},
   "source": [
    "## Recursion\n",
    " - A function that calls itself\n",
    " - Often used to traverse a structure\n",
    " \n",
    " ### For example, the factorial of a number, n! can be defined recursively as:\n",
    " - 1! = 1\n",
    " - n! = n(n-1)!\n",
    " ### The usual pattern is:\n",
    " - A base case, which returns a value (1 in this case) and \n",
    " - A call to the same function again, but with a different value"
   ]
  },
  {
   "cell_type": "code",
   "execution_count": 35,
   "metadata": {},
   "outputs": [
    {
     "name": "stdout",
     "output_type": "stream",
     "text": [
      "120\n"
     ]
    }
   ],
   "source": [
    "def recur_factorial(n):\n",
    "    # Base case: 1! = 1\n",
    "    if n == 1:\n",
    "        return 1\n",
    "    # Recursive case: n! = n * (n-1)!\n",
    "    else:\n",
    "        return n * recur_factorial(n-1)\n",
    "    \n",
    "print(recur_factorial(5))"
   ]
  },
  {
   "cell_type": "code",
   "execution_count": 36,
   "metadata": {},
   "outputs": [
    {
     "name": "stdout",
     "output_type": "stream",
     "text": [
      "{'b', 'a', 'c'}\n",
      "['a', 'b', 'c', 'd', 'e', 'f', 'g', 'h']\n"
     ]
    }
   ],
   "source": [
    "def recur_get_keys(d,keyset):\n",
    "    '''Recursively get all the keys from a dictionary and all sub docs, including arrays of sub docs'''\n",
    "    if isinstance(d,dict):    # If this value is a dictionary\n",
    "        for k in d.keys():\n",
    "            keyset.add(k)\n",
    "            recur_get_keys(d[k],keyset)   # Here is the recursion\n",
    "            if isinstance(d[k],list):\n",
    "                for e in d[k]:\n",
    "                    recur_get_keys(e,keyset) # and here\n",
    "    return keyset\n",
    "\n",
    "d1 = {'a':1, 'b':2, 'c':3}\n",
    "k = recur_get_keys(d1,set())\n",
    "print(k)\n",
    "\n",
    "d2 = {'a':1, 'b':{'c':1}, 'd':[1,2,3], 'e':[{'f':1}, {'g':1,'h':1}]}\n",
    "k = recur_get_keys(d2,set())\n",
    "print(sorted(k))"
   ]
  },
  {
   "cell_type": "code",
   "execution_count": null,
   "metadata": {},
   "outputs": [],
   "source": []
  },
  {
   "cell_type": "markdown",
   "metadata": {},
   "source": [
    "# Functional Programming\n"
   ]
  },
  {
   "cell_type": "markdown",
   "metadata": {},
   "source": [
    "## Passing a function as a parameter - High Order Functions"
   ]
  },
  {
   "cell_type": "code",
   "execution_count": 42,
   "metadata": {},
   "outputs": [
    {
     "name": "stdout",
     "output_type": "stream",
     "text": [
      "25\n",
      "36\n",
      "3.0\n"
     ]
    }
   ],
   "source": [
    "def apply_to_x(func, x):\n",
    "    return func(x)\n",
    "\n",
    "def sq(x):\n",
    "    return x*x\n",
    "\n",
    "def halve(x):\n",
    "    return x/2\n",
    "\n",
    "print(apply_to_x(sq, 5))\n",
    "print(apply_to_x(halve, 5))\n"
   ]
  },
  {
   "cell_type": "code",
   "execution_count": 43,
   "metadata": {},
   "outputs": [
    {
     "name": "stdout",
     "output_type": "stream",
     "text": [
      "36\n",
      "3.0\n"
     ]
    }
   ],
   "source": [
    "funcs=[sq,halve]\n",
    "for f in funcs:\n",
    "    print(apply_to_x(f, 6))"
   ]
  },
  {
   "cell_type": "markdown",
   "metadata": {},
   "source": [
    "## Lambda functions\n",
    "- Sometimes called anonymous functions, because they need no name!\n",
    "- Defined and called in place where a function call would be used"
   ]
  },
  {
   "cell_type": "code",
   "execution_count": 44,
   "metadata": {},
   "outputs": [
    {
     "name": "stdout",
     "output_type": "stream",
     "text": [
      "10\n"
     ]
    }
   ],
   "source": [
    "print(apply_to_x(lambda x: x+5, 5))"
   ]
  },
  {
   "cell_type": "markdown",
   "metadata": {},
   "source": [
    "## Map\n",
    "- `map(function, iterable)`\n",
    "- Apply a function to every item in an iterable\n",
    "- Produce an interable as a result"
   ]
  },
  {
   "cell_type": "code",
   "execution_count": 45,
   "metadata": {},
   "outputs": [
    {
     "name": "stdout",
     "output_type": "stream",
     "text": [
      "<map object at 0x0000000005287710>\n"
     ]
    }
   ],
   "source": [
    "itr_res = map(sq,[1, 2, 3, 4, 5])\n",
    "print(itr_res)"
   ]
  },
  {
   "cell_type": "code",
   "execution_count": 46,
   "metadata": {},
   "outputs": [
    {
     "name": "stdout",
     "output_type": "stream",
     "text": [
      "1\n",
      "4\n",
      "9\n",
      "16\n",
      "25\n"
     ]
    }
   ],
   "source": [
    "for r in itr_res:\n",
    "    print(r)"
   ]
  },
  {
   "cell_type": "code",
   "execution_count": 51,
   "metadata": {},
   "outputs": [
    {
     "name": "stdout",
     "output_type": "stream",
     "text": [
      "[1, 4, 9, 16, 25]\n"
     ]
    }
   ],
   "source": [
    "itr_res = map(sq,range(1, 6))\n",
    "res_list=list(itr_res)\n",
    "print(res_list)"
   ]
  },
  {
   "cell_type": "markdown",
   "metadata": {},
   "source": [
    "## Reduce\n",
    "- Condense all contents of an iterable into a single thing\n",
    "- Produce an object\n",
    "- `reduce(function,iterable)`\n",
    "- The function does not get sent the list, however!!!! It is called repeatedly with two parameters\n",
    "- The next value in the list\n",
    "- A current accumulator\n",
    "- The first time it is called, it gets the first two items in the list, though"
   ]
  },
  {
   "cell_type": "code",
   "execution_count": 56,
   "metadata": {},
   "outputs": [
    {
     "name": "stdout",
     "output_type": "stream",
     "text": [
      "val:2, acc:1\n",
      "val:3, acc:3\n",
      "val:4, acc:6\n",
      "val:5, acc:10\n",
      "15\n"
     ]
    }
   ],
   "source": [
    "from functools import reduce\n",
    "\n",
    "def red_sum(acc, val):\n",
    "    print(f\"val:{val}, acc:{acc}\")\n",
    "    return val+acc\n",
    "\n",
    "print(reduce(red_sum,range(1, 6)))"
   ]
  },
  {
   "cell_type": "markdown",
   "metadata": {},
   "source": [
    "## Filter\n",
    "- Produces an iterable of objects that pass a test\n",
    "- The test is given as a function, the candidates as an iterable\n",
    "- `filter(function,iterable)`\n"
   ]
  },
  {
   "cell_type": "code",
   "execution_count": 59,
   "metadata": {},
   "outputs": [
    {
     "name": "stdout",
     "output_type": "stream",
     "text": [
      "True\n",
      "False\n",
      "[1, 4, 9, 16, 25, 36, 49, 64, 81]\n"
     ]
    }
   ],
   "source": [
    "import math\n",
    "\n",
    "def is_square(x):\n",
    "    return math.sqrt(x) == int(math.sqrt(x))\n",
    "\n",
    "print(is_square(9))\n",
    "print(is_square(10))\n",
    "\n",
    "candidates=range(1,101)\n",
    "squares=filter(is_square, candidates)\n",
    "print(list(squares))"
   ]
  },
  {
   "cell_type": "code",
   "execution_count": 74,
   "metadata": {},
   "outputs": [
    {
     "name": "stdout",
     "output_type": "stream",
     "text": [
      "[76, 77, 78, 79, 80]\n"
     ]
    }
   ],
   "source": [
    "# Or with a lambda function\n",
    "\n",
    "candidates=range(1,101)\n",
    "squares=filter(lambda x:x>75 and x<81, candidates)\n",
    "print(list(squares))"
   ]
  },
  {
   "cell_type": "markdown",
   "metadata": {},
   "source": [
    "# List Comprehension\n",
    "- Apply an expression to every item in a sequence and produce a list of results"
   ]
  },
  {
   "cell_type": "code",
   "execution_count": 1,
   "metadata": {},
   "outputs": [
    {
     "name": "stdout",
     "output_type": "stream",
     "text": [
      "['I', 'f', 'm', 'm', 'p']\n"
     ]
    }
   ],
   "source": [
    "word=\"Hello\"\n",
    "shiftup = [chr(ord(x)+1) for x in word]\n",
    "print(shiftup)"
   ]
  },
  {
   "cell_type": "code",
   "execution_count": 6,
   "metadata": {},
   "outputs": [
    {
     "name": "stdout",
     "output_type": "stream",
     "text": [
      "[4, 8, 3, 4, 5]\n"
     ]
    }
   ],
   "source": [
    "sentence=\"This sentence has five words\"\n",
    "words_lens=[len(x) for x in sentence.split()]\n",
    "print(words_lens)"
   ]
  },
  {
   "cell_type": "code",
   "execution_count": 7,
   "metadata": {},
   "outputs": [
    {
     "name": "stdout",
     "output_type": "stream",
     "text": [
      "[3, 7, 11]\n"
     ]
    }
   ],
   "source": [
    "pairs = [(1, 2), (3, 4), (5, 6)]\n",
    "sums=[a+b for (a,b) in pairs]\n",
    "print(sums)"
   ]
  },
  {
   "cell_type": "markdown",
   "metadata": {},
   "source": [
    "## We can even add a filter to the process with `if`"
   ]
  },
  {
   "cell_type": "code",
   "execution_count": 12,
   "metadata": {},
   "outputs": [
    {
     "name": "stdout",
     "output_type": "stream",
     "text": [
      "['BMW', 'Mercedes']\n"
     ]
    }
   ],
   "source": [
    "cars = [{'Age':20, 'Car':'Ford'}, {'Age':30, 'Car':'BMW'},{'Age':50, 'Car':'Mercedes'}]\n",
    "older = [car['Car'] for car in cars if car['Age']>20]\n",
    "print(older)"
   ]
  },
  {
   "cell_type": "code",
   "execution_count": null,
   "metadata": {},
   "outputs": [],
   "source": []
  }
 ],
 "metadata": {
  "kernelspec": {
   "display_name": "Python 3",
   "language": "python",
   "name": "python3"
  },
  "language_info": {
   "codemirror_mode": {
    "name": "ipython",
    "version": 3
   },
   "file_extension": ".py",
   "mimetype": "text/x-python",
   "name": "python",
   "nbconvert_exporter": "python",
   "pygments_lexer": "ipython3",
   "version": "3.5.3"
  }
 },
 "nbformat": 4,
 "nbformat_minor": 2
}
