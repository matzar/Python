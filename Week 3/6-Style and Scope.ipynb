{
 "cells": [
  {
   "cell_type": "markdown",
   "metadata": {},
   "source": [
    "# ITNPBD2 Representing and Manipulating Data\n",
    "\n",
    "## Python Coding Style\n",
    "## Python Scope and Mutability\n",
    "## Measuring Run Time and Optimising Speed\n",
    "Three quite different and unrelated topics!"
   ]
  },
  {
   "cell_type": "markdown",
   "metadata": {},
   "source": [
    "## 1) PEP 8 Coding Style\n",
    "\n",
    "There is a published guide to the style you should use when writing Python code. It dictates things like where spaces should or shouldn't be inserted, how to use indentation, where to use upper or lower case letters for names, and how to write comments.\n",
    "\n",
    "The official guide is here \n",
    "\n",
    "https://www.python.org/dev/peps/pep-0008/"
   ]
  },
  {
   "cell_type": "markdown",
   "metadata": {},
   "source": [
    "# The two main concepts are that code should be:\n",
    "\n",
    "## - Readable\n",
    "## - Consistent\n",
    "\n",
    "Though occasionally, you should allow inconsistency if it interferes with something more important."
   ]
  },
  {
   "cell_type": "markdown",
   "metadata": {},
   "source": [
    "# Indentation\n",
    "\n",
    "## Code should be indented to:\n",
    "- Define a block of code\n",
    "- break up a line of code that is too long (more than 79 characters)\n",
    "- Line up something in open and closing brackets that is long"
   ]
  },
  {
   "cell_type": "code",
   "execution_count": null,
   "metadata": {},
   "outputs": [],
   "source": [
    "# A block of code\n",
    "if (1==2):\n",
    "    print(\"How did I get here?\")\n",
    "    print(\"That can't be right\")\n",
    "print(\"Now, I can be here\")\n",
    "\n",
    "a_long_variable_name = 1\n",
    "\n",
    "print(\"I've called my variable 'a_long_variable_name' even though it has the value\",\n",
    "     a_long_variable_name)\n",
    "\n",
    "# Note the comma separated parts of this\n",
    "print(\"This is a very long piece of text, well, at least long enough that it would\",\n",
    "     \"be better to split it over two lines\")"
   ]
  },
  {
   "cell_type": "markdown",
   "metadata": {},
   "source": [
    "## Blocks of code should be indented by 4 spaces - not a tab\n",
    "\n",
    "## Longer indents can be used to line up brackets on new lines\n",
    "\n",
    "## If the lining up of brackets is 4 spaces in, make it a few more so it doesn't look like a block"
   ]
  },
  {
   "cell_type": "markdown",
   "metadata": {},
   "source": [
    "## Put binary operators (+, - etc) at start of broken lines:\n",
    "Note the use of brackets - remove them and you'll get an indent error"
   ]
  },
  {
   "cell_type": "code",
   "execution_count": null,
   "metadata": {},
   "outputs": [],
   "source": [
    "numbers = [1, 2, 3]\n",
    "sum = (numbers[0]\n",
    "    + numbers[1]\n",
    "    - numbers[2])\n",
    "print(sum)\n",
    "    "
   ]
  },
  {
   "cell_type": "markdown",
   "metadata": {},
   "source": [
    "# Spaces\n",
    "## Here are some examples of the correct use of spaces:"
   ]
  },
  {
   "cell_type": "code",
   "execution_count": null,
   "metadata": {},
   "outputs": [],
   "source": [
    "# Variable assignment - a space either side of the =\n",
    "x = 1\n",
    "# Array list - spaces after the commas\n",
    "x = [1, 2, 3]\n",
    "# Index - no spaces\n",
    "y = x[1]\n",
    "# Function call - no space on either side of the brackets\n",
    "print(\"Hello\")\n",
    "# Simple expression - No space near +\n",
    "x = a+b\n",
    "# Expression with operator priority - space to show which is evaluated first\n",
    "# (doesn't affect calculation, just readability)\n",
    "x = a*b + c*d"
   ]
  },
  {
   "cell_type": "markdown",
   "metadata": {},
   "source": [
    "# Comments\n",
    "\n",
    "## Comments should be informative!\n",
    "## Write comments in proper English\n",
    "## Don't state the obvious - explain why the code is there as well as what it does"
   ]
  },
  {
   "cell_type": "code",
   "execution_count": null,
   "metadata": {},
   "outputs": [],
   "source": [
    "# This is bad ...\n",
    "x = x + 1    # Add one to x\n",
    "\n",
    "# This is better ...\n",
    "x = x + 1\n",
    "\n",
    "# This is good if needed\n",
    "x = x + 1    # Add one to x to account for the counter starting at 1 instead of zero"
   ]
  },
  {
   "cell_type": "markdown",
   "metadata": {},
   "source": [
    "# Longer comments use docstring\n",
    "\n",
    "## Used only for modules, functions, classes, and methods\n",
    "\n",
    "## Multi line comments start and end with `'''`\n",
    "Proper sentences and proper punctuation.\n",
    "\n",
    "If you add docstrings to function and class definitions, users can access them with the `help` function"
   ]
  },
  {
   "cell_type": "code",
   "execution_count": null,
   "metadata": {},
   "outputs": [],
   "source": [
    "def str_int_concat(st, num):\n",
    "    '''Concatenate an integer and a string to produce a new string\n",
    "    \n",
    "    Args:\n",
    "        num (int): The integer to append to the string\n",
    "        st (str): The string to append to\n",
    "    \n",
    "    Returns:\n",
    "        str_int_concat (string): A string that is the result of appending the number argument to the end of the string argument\n",
    "    '''\n",
    "    \n",
    "    return st+str(num)\n",
    "\n",
    "conc = str_int_concat(\"Cat\",2)\n",
    "print(conc)\n",
    "help(str_int_concat)"
   ]
  },
  {
   "cell_type": "markdown",
   "metadata": {},
   "source": [
    "# Naming conventions\n",
    "\n",
    "## Classes use first letter UpperCase no spaces\n",
    "## Variables and functions use lower_case and underscores\n",
    "## Constants are in ALL_CAPITALS and underscores\n"
   ]
  },
  {
   "cell_type": "markdown",
   "metadata": {},
   "source": [
    "# Functions\n",
    "\n",
    "## Either all return routes should return a value, or none\n",
    "\n",
    "## Try to group return statements at start and end, not in the middle of a function"
   ]
  },
  {
   "cell_type": "code",
   "execution_count": null,
   "metadata": {},
   "outputs": [],
   "source": [
    "# Good - all routes return a value\n",
    "def sqr_root(x):\n",
    "    if x >= 0:\n",
    "        return math.sqrt(x)\n",
    "    else:\n",
    "        return None\n",
    "    \n",
    "# Good - quick return at start, all others at end\n",
    "\n",
    "def complicated(x):\n",
    "    if x < 0:\n",
    "        return None\n",
    "    else:\n",
    "        if x == 1:\n",
    "            r = 2\n",
    "        elif x == 2:\n",
    "            r = 5\n",
    "        elif x == 3:\n",
    "            r = 8\n",
    "        else:\n",
    "            r = -1\n",
    "    return r          # Single return here\n",
    "complicated(7)"
   ]
  },
  {
   "cell_type": "markdown",
   "metadata": {},
   "source": [
    "# Something Completely Different:\n",
    "# Variables, Objects and Mutability and Scope\n",
    "- Variables in Python are immutable - once defined their value cannot change\n",
    "- Objects are mutable, you can change parts of them after they are defined\n",
    "- Explore the identity of variables and objects with `id()`"
   ]
  },
  {
   "cell_type": "code",
   "execution_count": null,
   "metadata": {},
   "outputs": [],
   "source": [
    "# Define x\n",
    "x = 1000\n",
    "# See where it is stored\n",
    "print(id(x))\n",
    "# Give it a new value\n",
    "x = 5000\n",
    "# See that it is a new variable\n",
    "print(id(x))"
   ]
  },
  {
   "cell_type": "markdown",
   "metadata": {},
   "source": [
    "# Variable Scope\n",
    "\n",
    "## Which parts of the code refer to which version of a named variable\n",
    "\n",
    "- Variables defined at the top level of code are readable everywhere\n",
    "- What happens if you write to them depend on their mutability and whether or not they are treated as global"
   ]
  },
  {
   "cell_type": "code",
   "execution_count": null,
   "metadata": {},
   "outputs": [],
   "source": [
    "a=1\n",
    "b=2\n",
    "\n",
    "def a_func():\n",
    "    global a\n",
    "    print(\"In the function, variable a is made global, its value is\",a)\n",
    "    print(\"In the function, I can see b, even though it is not global:\",b)\n",
    "    a = 2\n",
    "    print(\"Still in the function, a has been re-assigned:\", a)\n",
    "\n",
    "print(\"Before we call the function: a and b are:\",a,b)\n",
    "a_func()\n",
    "print(\"After we call the function: a and b are:\",a,b)"
   ]
  },
  {
   "cell_type": "markdown",
   "metadata": {},
   "source": [
    "## What if we assign a value to `b` in the function?\n",
    "- `b` is local to the function and its value does not change outside the function\n",
    "- This is because it is immutable - the new version of `b` in the function is not the same variable as the one outside"
   ]
  },
  {
   "cell_type": "code",
   "execution_count": null,
   "metadata": {},
   "outputs": [],
   "source": [
    "a=1\n",
    "b=2\n",
    "\n",
    "def a_func():\n",
    "    global a\n",
    "    print(\"In the function, variable a is made global, its value is\", a)\n",
    "    b=5\n",
    "    print(\"In the function, I have assigned a new value to b:\", b)\n",
    "    a = 2\n",
    "    print(\"Still in the function, a has been re-assigned:\", a)\n",
    "\n",
    "print(\"Before we call the function: a and b are:\", a, b)\n",
    "a_func()\n",
    "print(\"After we call the function: a and b are:\", a, b)"
   ]
  },
  {
   "cell_type": "markdown",
   "metadata": {},
   "source": [
    "# Note - we cannot mix scopes in a function\n",
    "- Here we try to print `b` but assign it later and get an error\n",
    "- See what happens if we comment out the `b = 1` statement"
   ]
  },
  {
   "cell_type": "code",
   "execution_count": null,
   "metadata": {},
   "outputs": [],
   "source": [
    "b = 1\n",
    "\n",
    "def a_func():\n",
    "    global a\n",
    "    print(\"Can't print b yet because we define it below\", b)\n",
    "    b = 1\n",
    "\n",
    "a_func()"
   ]
  },
  {
   "cell_type": "markdown",
   "metadata": {},
   "source": [
    "# Use `id()` to get a better idea"
   ]
  },
  {
   "cell_type": "code",
   "execution_count": null,
   "metadata": {},
   "outputs": [],
   "source": [
    "a = 1000\n",
    "b = 1001\n",
    "print(id(a), id(b))\n",
    "\n",
    "def f():\n",
    "    global a\n",
    "    b=5\n",
    "    print(id(a), id(b))\n",
    "\n",
    "f()\n",
    "print(id(a), id(b))"
   ]
  },
  {
   "cell_type": "markdown",
   "metadata": {},
   "source": [
    "# What about mutable objects?\n",
    "- A function can see those and change their values, so be careful!\n",
    "- Here is some code that works, but is bad practice because it has hard to guess side effects"
   ]
  },
  {
   "cell_type": "code",
   "execution_count": null,
   "metadata": {},
   "outputs": [],
   "source": [
    "def add_to_a():\n",
    "    a.append(5)\n",
    "    \n",
    "a = [1, 2, 3]\n",
    "add_to_a()\n",
    "print(a)"
   ]
  },
  {
   "cell_type": "markdown",
   "metadata": {},
   "source": [
    "# The same applies to arguments sent to functions\n",
    "- A reference to the argument from the calling level is sent in to the function\n",
    "- If it is a mutable object, it can be operated on and changed\n",
    "- If it is immutable, then an assignment creates a new, local variable\n",
    "- They cannot be made global"
   ]
  },
  {
   "cell_type": "code",
   "execution_count": null,
   "metadata": {},
   "outputs": [],
   "source": [
    "def f(c):\n",
    "    print(c,id(c))\n",
    "\n",
    "d = 2000\n",
    "#d = [1, 2, 3]\n",
    "print(id(d))\n",
    "f(d)"
   ]
  },
  {
   "cell_type": "markdown",
   "metadata": {},
   "source": [
    "# A final note on IDs\n",
    "## Numbers from -5 to 255 each always have the same ID regardless of how they are used\n",
    "\n",
    "## This is a little optimisation"
   ]
  },
  {
   "cell_type": "code",
   "execution_count": null,
   "metadata": {},
   "outputs": [],
   "source": [
    "a = 5\n",
    "b = 5\n",
    "print(id(a), id(b), id(5))\n",
    "\n",
    "a = 500\n",
    "b = 500\n",
    "print(id(a), id(b), id(500))"
   ]
  },
  {
   "cell_type": "markdown",
   "metadata": {},
   "source": [
    "# Timing Your Code\n",
    "- Different ways of doing things in Python can take different amounts of time\n",
    "- You should strive to write code that runs FAST\n",
    "- You can time your code to compare alternative ways of doing things\n",
    "- In Jupyter notebook, use `%timeit` to time the next line and `%%timeit` to time the whole cell\n",
    "- Both of these run the code repeatedly and report the average and deviation of the time taken"
   ]
  },
  {
   "cell_type": "code",
   "execution_count": null,
   "metadata": {},
   "outputs": [],
   "source": [
    "%%timeit\n",
    "\n",
    "for i in range(1000000):\n",
    "    x = i*i"
   ]
  },
  {
   "cell_type": "markdown",
   "metadata": {},
   "source": [
    "# Built in NumPy methods are much faster than iterating\n",
    "- If you find yourself writing a loop of any kind, ask yourself if you could do the same thing without it\n",
    "- In Numpy, you can apply a function to an entire array MUCH faster than programming a loop\n",
    "- This is because NumPy runs optimised C, which is fast"
   ]
  },
  {
   "cell_type": "code",
   "execution_count": null,
   "metadata": {},
   "outputs": [],
   "source": [
    "import numpy as np\n",
    "\n",
    "# Million long array of randoms\n",
    "mill = np.random.random(1000000)"
   ]
  },
  {
   "cell_type": "markdown",
   "metadata": {},
   "source": [
    "## A small improvement when reading:"
   ]
  },
  {
   "cell_type": "code",
   "execution_count": null,
   "metadata": {},
   "outputs": [],
   "source": [
    "%%timeit\n",
    "s = 0\n",
    "for x in mill:\n",
    "    s = s+x"
   ]
  },
  {
   "cell_type": "code",
   "execution_count": null,
   "metadata": {},
   "outputs": [],
   "source": [
    "%%timeit\n",
    "s = sum(mill)"
   ]
  },
  {
   "cell_type": "markdown",
   "metadata": {},
   "source": [
    "## But a huge improvement here when writing"
   ]
  },
  {
   "cell_type": "code",
   "execution_count": null,
   "metadata": {},
   "outputs": [],
   "source": [
    "%%timeit\n",
    "for i in range(1000000):\n",
    "    mill[i] = mill[i]+2"
   ]
  },
  {
   "cell_type": "code",
   "execution_count": null,
   "metadata": {},
   "outputs": [],
   "source": [
    "%%timeit\n",
    "mill2 = mill+2"
   ]
  }
 ],
 "metadata": {
  "kernelspec": {
   "display_name": "Python 3",
   "language": "python",
   "name": "python3"
  },
  "language_info": {
   "codemirror_mode": {
    "name": "ipython",
    "version": 3
   },
   "file_extension": ".py",
   "mimetype": "text/x-python",
   "name": "python",
   "nbconvert_exporter": "python",
   "pygments_lexer": "ipython3",
   "version": "3.5.3"
  }
 },
 "nbformat": 4,
 "nbformat_minor": 2
}
