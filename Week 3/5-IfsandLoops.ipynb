{
 "cells": [
  {
   "cell_type": "markdown",
   "metadata": {},
   "source": [
    "## ITNPBD2: Representing and Manipulating Data\n",
    "## University of Stirling\n",
    "## Dr. Kevin Swingler"
   ]
  },
  {
   "cell_type": "markdown",
   "metadata": {},
   "source": [
    "# Python conditional statements and loops\n",
    "- How to run code only if a condition is true\n",
    "- How to do the same thing over and over"
   ]
  },
  {
   "cell_type": "markdown",
   "metadata": {},
   "source": [
    "# If Statements\n",
    "- Syntax is<br>\n",
    "`if condition:\n",
    "    do something if condition is true\n",
    "else:\n",
    "    optional thing to do otherwise`<br>\n",
    "# Checking if two things are equal: use `==` double equals"
   ]
  },
  {
   "cell_type": "code",
   "execution_count": 2,
   "metadata": {},
   "outputs": [
    {
     "name": "stdout",
     "output_type": "stream",
     "text": [
      "Yes it is\n"
     ]
    }
   ],
   "source": [
    "if 1+1 == 2:\n",
    "    print(\"Yes it is\")\n",
    "else:\n",
    "    print(\"No it is not\")"
   ]
  },
  {
   "cell_type": "markdown",
   "metadata": {},
   "source": [
    "# Boolean values `True` and `False`"
   ]
  },
  {
   "cell_type": "code",
   "execution_count": 4,
   "metadata": {},
   "outputs": [
    {
     "name": "stdout",
     "output_type": "stream",
     "text": [
      "True!\n"
     ]
    }
   ],
   "source": [
    "if True:\n",
    "    print(\"True!\")\n",
    "\n",
    "if False:\n",
    "    print(\"False\")"
   ]
  },
  {
   "cell_type": "code",
   "execution_count": 5,
   "metadata": {},
   "outputs": [
    {
     "name": "stdout",
     "output_type": "stream",
     "text": [
      "False\n"
     ]
    }
   ],
   "source": [
    "res = 1 == 2\n",
    "print(res)"
   ]
  },
  {
   "cell_type": "markdown",
   "metadata": {},
   "source": [
    "## Other comparison operators:\n",
    "\n",
    "`>`,`<`,`!=`,`>=`,`<=`"
   ]
  },
  {
   "cell_type": "code",
   "execution_count": 7,
   "metadata": {},
   "outputs": [
    {
     "name": "stdout",
     "output_type": "stream",
     "text": [
      "Yes, 4 is less than 5\n"
     ]
    }
   ],
   "source": [
    "if 4 < 5:\n",
    "    print(\"Yes, 4 is less than 5\")"
   ]
  },
  {
   "cell_type": "markdown",
   "metadata": {},
   "source": [
    "## Short hand on one line"
   ]
  },
  {
   "cell_type": "code",
   "execution_count": 26,
   "metadata": {},
   "outputs": [
    {
     "name": "stdout",
     "output_type": "stream",
     "text": [
      "a is bigger\n"
     ]
    }
   ],
   "source": [
    "a, b = 8, 7\n",
    "print(\"a is bigger\") if a > b else print(\"b is bigger\")"
   ]
  },
  {
   "cell_type": "markdown",
   "metadata": {},
   "source": [
    "## More complex logic\n",
    "- `and`\n",
    "- `or`\n",
    "- `not`"
   ]
  },
  {
   "cell_type": "code",
   "execution_count": 1,
   "metadata": {},
   "outputs": [
    {
     "name": "stdout",
     "output_type": "stream",
     "text": [
      "Yes\n",
      "10 100 1000\n"
     ]
    }
   ],
   "source": [
    "a, b, c=1, 2, 3\n",
    "\n",
    "if a > b or a < c:\n",
    "    print(\"Yes\")\n",
    "    \n",
    "# Be clear about the order of evaluation using brackets\n",
    "\n",
    "x, y, z = 10, 100, 1000\n",
    "print(x, y, z)\n"
   ]
  },
  {
   "cell_type": "markdown",
   "metadata": {},
   "source": [
    "## Operator precedence\n",
    "Take something like:\n",
    "- `if a > b or a > c and b <d` ...\n",
    "- Which parts are evaluated first, and how does the result change depending on the order?\n",
    "\n",
    "### Python operator precedence is:\n",
    "1. `not`\n",
    "2. `and`\n",
    "3. `or`\n"
   ]
  },
  {
   "cell_type": "code",
   "execution_count": 14,
   "metadata": {},
   "outputs": [
    {
     "name": "stdout",
     "output_type": "stream",
     "text": [
      "False\n",
      "True\n",
      "True\n",
      "False\n",
      "True\n",
      "False\n"
     ]
    }
   ],
   "source": [
    "print(True and False)\n",
    "print(False or True)\n",
    "print(not False or True)\n",
    "print(not (False or True))\n",
    "print(True or False and False)\n",
    "print((True or False) and False)"
   ]
  },
  {
   "cell_type": "markdown",
   "metadata": {},
   "source": [
    "## When to use `==` and when to use `is`\n",
    "- `==` is for comparing values\n",
    "- `is` is for comparing identity - if two objects have the same id"
   ]
  },
  {
   "cell_type": "code",
   "execution_count": 20,
   "metadata": {},
   "outputs": [
    {
     "name": "stdout",
     "output_type": "stream",
     "text": [
      "id of b: 140295380478408 id of c: 140295380478344\n",
      "c is not b\n",
      "c == b\n",
      "a is None\n"
     ]
    }
   ],
   "source": [
    "b = [1, 2, 3000]\n",
    "c = [1, 2, 3000]\n",
    "\n",
    "print(\"id of b:\", id(b), \"id of c:\", id(c))\n",
    "\n",
    "if c is b:\n",
    "    print(\"c is b\")\n",
    "else:\n",
    "    print(\"c is not b\")\n",
    "        \n",
    "if c == b:\n",
    "    print(\"c == b\")\n",
    "else:\n",
    "    print(\"c does not == b\")\n",
    "\n",
    "\n",
    "a = None\n",
    "if a is None:\n",
    "    print(\"a is None\")"
   ]
  },
  {
   "cell_type": "markdown",
   "metadata": {},
   "source": [
    "## With sets, tuples and dicts"
   ]
  },
  {
   "cell_type": "code",
   "execution_count": 22,
   "metadata": {},
   "outputs": [
    {
     "name": "stdout",
     "output_type": "stream",
     "text": [
      "True\n"
     ]
    }
   ],
   "source": [
    "a = set((1, 2, 3000))\n",
    "b = set((3000, 1, 2))\n",
    "\n",
    "print(a == b)\n",
    "# Sets are not ordered"
   ]
  },
  {
   "cell_type": "code",
   "execution_count": 26,
   "metadata": {},
   "outputs": [
    {
     "name": "stdout",
     "output_type": "stream",
     "text": [
      "False\n"
     ]
    }
   ],
   "source": [
    "a = (1, 2, 3000)\n",
    "b = (3000, 1, 2)\n",
    "\n",
    "print(a == b)\n",
    "# Tuples are orderd"
   ]
  },
  {
   "cell_type": "code",
   "execution_count": 23,
   "metadata": {},
   "outputs": [
    {
     "name": "stdout",
     "output_type": "stream",
     "text": [
      "False\n"
     ]
    }
   ],
   "source": [
    "b = [1, 2, 3000]\n",
    "c = [3000, 1, 2]\n",
    "\n",
    "print(a == b)\n",
    "# Lists are ordered"
   ]
  },
  {
   "cell_type": "code",
   "execution_count": 25,
   "metadata": {},
   "outputs": [
    {
     "name": "stdout",
     "output_type": "stream",
     "text": [
      "True\n"
     ]
    }
   ],
   "source": [
    "a = {'x':1, 'y':2}\n",
    "b = {'y':2, 'x':1}\n",
    "\n",
    "print(a == b)\n",
    "# Dicts are not ordered"
   ]
  },
  {
   "cell_type": "markdown",
   "metadata": {},
   "source": [
    "## `if ... elif` chains"
   ]
  },
  {
   "cell_type": "code",
   "execution_count": 13,
   "metadata": {},
   "outputs": [
    {
     "name": "stdout",
     "output_type": "stream",
     "text": [
      "Distinction\n"
     ]
    }
   ],
   "source": [
    "mark=75\n",
    "\n",
    "if mark < 50:\n",
    "    print(\"Fail\")\n",
    "elif mark < 60:\n",
    "    print(\"Pass\")\n",
    "elif mark < 70:\n",
    "    print(\"Merit\")\n",
    "else:\n",
    "    print(\"Distinction\")\n",
    "    "
   ]
  },
  {
   "cell_type": "markdown",
   "metadata": {},
   "source": [
    "## Often it is better to use a dict instead of a lot of `if` ... `elif`"
   ]
  },
  {
   "cell_type": "code",
   "execution_count": 18,
   "metadata": {},
   "outputs": [
    {
     "name": "stdout",
     "output_type": "stream",
     "text": [
      "Merit\n"
     ]
    }
   ],
   "source": [
    "marks={50:'Fail', 60:'Pass', 70:'Merit', 101:'Distinction'}\n",
    "mark=61\n",
    "for m,g in marks.items():\n",
    "    if mark < m:\n",
    "        print(g)\n",
    "        break"
   ]
  },
  {
   "cell_type": "markdown",
   "metadata": {},
   "source": [
    "## Better to check if values exist before you process them though:"
   ]
  },
  {
   "cell_type": "code",
   "execution_count": 34,
   "metadata": {},
   "outputs": [
    {
     "name": "stdout",
     "output_type": "stream",
     "text": [
      "Pass is a grade\n",
      "super is not a grade\n"
     ]
    }
   ],
   "source": [
    "if 'Pass' in marks.values():\n",
    "    print(\"Pass is a grade\")\n",
    "    \n",
    "if 'super' not in marks.values():\n",
    "    print(\"super is not a grade\")"
   ]
  },
  {
   "cell_type": "markdown",
   "metadata": {},
   "source": [
    " ## We can get quite clever with this\n",
    " - Here we define a dictionary of functions\n",
    " - We then call the appropriate function based on its key\n",
    " - Obviously this example is trivial, but the concept is very useful and better than lots of `if` statements"
   ]
  },
  {
   "cell_type": "code",
   "execution_count": 3,
   "metadata": {},
   "outputs": [
    {
     "name": "stdout",
     "output_type": "stream",
     "text": [
      "a\n"
     ]
    }
   ],
   "source": [
    "def func_a():\n",
    "    print('a')\n",
    "    \n",
    "def func_b():\n",
    "    print('b')\n",
    "    \n",
    "def func_c():\n",
    "    print('c')\n",
    "    \n",
    "actions = {'a':func_a, 'b':func_b, 'c':func_c}\n",
    "act = 'a'\n",
    "actions[act]()"
   ]
  },
  {
   "cell_type": "markdown",
   "metadata": {},
   "source": [
    "# While loops"
   ]
  },
  {
   "cell_type": "code",
   "execution_count": 22,
   "metadata": {
    "scrolled": true
   },
   "outputs": [
    {
     "name": "stdout",
     "output_type": "stream",
     "text": [
      "1\n",
      "2\n",
      "3\n",
      "4\n",
      "5\n",
      "6\n",
      "7\n",
      "8\n",
      "9\n"
     ]
    }
   ],
   "source": [
    "count=1\n",
    "while count < 10:\n",
    "    print(count)\n",
    "    count = count+1"
   ]
  },
  {
   "cell_type": "markdown",
   "metadata": {},
   "source": [
    "# User Input"
   ]
  },
  {
   "cell_type": "code",
   "execution_count": 2,
   "metadata": {},
   "outputs": [
    {
     "name": "stdout",
     "output_type": "stream",
     "text": [
      "Type a number or 'quit' to end7\n",
      "7.0 squared is 49.0\n",
      "Type a number or 'quit' to end89\n",
      "89.0 squared is 7921.0\n",
      "Type a number or 'quit' to end78\n",
      "78.0 squared is 6084.0\n",
      "Type a number or 'quit' to end72\n",
      "72.0 squared is 5184.0\n",
      "Type a number or 'quit' to endquit\n",
      "Done\n"
     ]
    }
   ],
   "source": [
    "a=''\n",
    "while a != 'quit':\n",
    "    a=input(\"Type a number or 'quit' to end\")\n",
    "    if(a != 'quit'):\n",
    "        a=float(a)\n",
    "        print(f\"{a} squared is {a*a}\")\n",
    "print(\"Done\")"
   ]
  },
  {
   "cell_type": "code",
   "execution_count": null,
   "metadata": {},
   "outputs": [],
   "source": []
  }
 ],
 "metadata": {
  "kernelspec": {
   "display_name": "Python 3",
   "language": "python",
   "name": "python3"
  },
  "language_info": {
   "codemirror_mode": {
    "name": "ipython",
    "version": 3
   },
   "file_extension": ".py",
   "mimetype": "text/x-python",
   "name": "python",
   "nbconvert_exporter": "python",
   "pygments_lexer": "ipython3",
   "version": "3.7.4"
  }
 },
 "nbformat": 4,
 "nbformat_minor": 2
}
