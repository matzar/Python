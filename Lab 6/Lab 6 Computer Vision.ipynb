{
 "cells": [
  {
   "cell_type": "markdown",
   "metadata": {},
   "source": [
    "# University of Stirling\n",
    "\n",
    "# ITNPBD2 Lab\n",
    "\n",
    "## OpenCV"
   ]
  },
  {
   "cell_type": "markdown",
   "metadata": {},
   "source": [
    "# First, import OpenCV (cv2), matplotlib and numpy"
   ]
  },
  {
   "cell_type": "code",
   "execution_count": null,
   "metadata": {},
   "outputs": [],
   "source": [
    "# Type your code here"
   ]
  },
  {
   "cell_type": "markdown",
   "metadata": {},
   "source": [
    "# First, we will create an image using a numpy array and view it using matplotlib\n",
    "\n",
    "## Create a 400 (h) x 600 (w) x 3 (channels) numpy array of random numbers between 0 and 255 inclusive and view it as an image\n",
    "\n",
    "- Remember, the images are arranged as rows, columns, channels\n",
    "- Also, use `.astype(np.uint8)` and numbers between 0 and 255"
   ]
  },
  {
   "cell_type": "code",
   "execution_count": null,
   "metadata": {},
   "outputs": [],
   "source": [
    "# Type your code here"
   ]
  },
  {
   "cell_type": "markdown",
   "metadata": {},
   "source": [
    "# The three channels (the last dimension of the numpy array) are Red, Green, Blue\n",
    "\n",
    "Show each of the three colour channels separately in three different images - careful how you do it, you can't just extract channel 0, 1 or 2 and plot it - can you work out why?"
   ]
  },
  {
   "cell_type": "code",
   "execution_count": null,
   "metadata": {},
   "outputs": [],
   "source": [
    "# Type your code here\n"
   ]
  },
  {
   "cell_type": "markdown",
   "metadata": {},
   "source": [
    "# The random image isn't very interesting.\n",
    "\n",
    "## Create a new one either by using a mathematical function to generate more interesting numbers in the numpy array or by creating an empty image and drawing on it using OpenCV drawing methods like `cv2.circle` and `cv2.line`.\n",
    "\n",
    "- If you use some algorithm or function to change the values in the numpy array, it does not have to be very complicated. You could split the image into thirds and make each one a different colour or colour in only the coordinates that pass some test like being divisible by three.\n",
    "\n",
    "- For an example of an algorithmic approach, consider the code below. It creates a numpy array of 400 rows and 600 columns and fills it with zeros. It then iterates over each pixel in the red channel and sets the value, ensuring it is between 0 and 255. Try setting the pixel values in other channels and with other formulae.\n"
   ]
  },
  {
   "cell_type": "code",
   "execution_count": null,
   "metadata": {},
   "outputs": [],
   "source": [
    "# Example Code\n",
    "rows=400\n",
    "cols=600\n",
    "pic = np.zeros((rows,cols,3)).astype(np.uint8)\n",
    "for i in range(rows):\n",
    "    for j in range(cols):\n",
    "        pic[i,j,0] = (i*j/20)%256\n",
    "        \n",
    "plt.imshow(pic)\n",
    "plt.axis('off')\n",
    "plt.show()"
   ]
  },
  {
   "cell_type": "code",
   "execution_count": null,
   "metadata": {},
   "outputs": [],
   "source": [
    "# Type your code here"
   ]
  },
  {
   "cell_type": "code",
   "execution_count": null,
   "metadata": {},
   "outputs": [],
   "source": [
    "# Type your code here"
   ]
  },
  {
   "cell_type": "markdown",
   "metadata": {},
   "source": [
    "# Now find an image online, download it and save it to your computer\n",
    "\n",
    "## Then load it into memory using `cv2.imread` and fix the colour space using `img = cv2.cvtColor(img, cv2.COLOR_BGR2RGB)` (assuming your image array is called `img`)\n",
    "\n",
    "## Using the code you used above, separate out the three colour channels of your image (you might want to put that code in a function so you can keep re-using it). "
   ]
  },
  {
   "cell_type": "code",
   "execution_count": null,
   "metadata": {},
   "outputs": [],
   "source": [
    "# Type your code here"
   ]
  },
  {
   "cell_type": "markdown",
   "metadata": {},
   "source": [
    "# Use Canny edge detection to find the edges in your image and show them in a new image\n",
    "- Try different values for the two thresholds and see how they affect the result"
   ]
  },
  {
   "cell_type": "code",
   "execution_count": null,
   "metadata": {},
   "outputs": [],
   "source": [
    "# Type your code here"
   ]
  },
  {
   "cell_type": "markdown",
   "metadata": {},
   "source": [
    "## Now try smoothing the image first, then try again. Does that lead to an improvement?\n",
    "\n",
    "- Compare using `cv2.blur` and `cv2.medianBlur`"
   ]
  },
  {
   "cell_type": "code",
   "execution_count": null,
   "metadata": {},
   "outputs": [],
   "source": [
    "# Type your code here - using blur"
   ]
  },
  {
   "cell_type": "code",
   "execution_count": null,
   "metadata": {},
   "outputs": [],
   "source": [
    "# Type your code here - using medianBlur"
   ]
  },
  {
   "cell_type": "markdown",
   "metadata": {},
   "source": [
    "# Now find an image online with a few faces in it. Download it and save it to your computer"
   ]
  },
  {
   "cell_type": "code",
   "execution_count": null,
   "metadata": {},
   "outputs": [],
   "source": [
    "# Type your code here"
   ]
  },
  {
   "cell_type": "markdown",
   "metadata": {},
   "source": [
    "# Use Haar cascades to find the faces in the image - look at the lecture slides for the code\n",
    "\n",
    "## You will also have to find the xml files that contain the cascades.\n",
    "- Plot rectangles on the image around the faces"
   ]
  },
  {
   "cell_type": "code",
   "execution_count": null,
   "metadata": {},
   "outputs": [],
   "source": [
    "# Type your code here"
   ]
  },
  {
   "cell_type": "markdown",
   "metadata": {},
   "source": [
    "# Now extract the first face on this list of faces that the algorithm found, clip it from the image, scale it to be larger and show it on the screen"
   ]
  },
  {
   "cell_type": "code",
   "execution_count": null,
   "metadata": {},
   "outputs": [],
   "source": [
    "# Type your code here"
   ]
  },
  {
   "cell_type": "code",
   "execution_count": null,
   "metadata": {},
   "outputs": [],
   "source": []
  }
 ],
 "metadata": {
  "kernelspec": {
   "display_name": "Python 3",
   "language": "python",
   "name": "python3"
  },
  "language_info": {
   "codemirror_mode": {
    "name": "ipython",
    "version": 3
   },
   "file_extension": ".py",
   "mimetype": "text/x-python",
   "name": "python",
   "nbconvert_exporter": "python",
   "pygments_lexer": "ipython3",
   "version": "3.5.3"
  }
 },
 "nbformat": 4,
 "nbformat_minor": 2
}
