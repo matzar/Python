{
 "cells": [
  {
   "cell_type": "markdown",
   "metadata": {},
   "source": [
    "# ITNPBD2 Practical Lab 1. Introduction to Python\n",
    "\n",
    "- Running code and printing results\n",
    "- Variables\n",
    "- Lists, sets and dictionaries"
   ]
  },
  {
   "cell_type": "markdown",
   "metadata": {},
   "source": [
    "## First Python Code\n",
    "In the box below, write the Python code to print \"Hello World\" to the screen, and run it (Ctrl + Enter or with the Run button)"
   ]
  },
  {
   "cell_type": "code",
   "execution_count": 1,
   "metadata": {},
   "outputs": [
    {
     "name": "stdout",
     "output_type": "stream",
     "text": [
      "Hello world\n",
      "Hello world\n"
     ]
    }
   ],
   "source": [
    "# Type your answer below in this box\n",
    "print(\"Hello world\")\n",
    "print(\"Hello world\")"
   ]
  },
  {
   "cell_type": "markdown",
   "metadata": {},
   "source": [
    "## Variables\n",
    "Next, declare some variables and give them values. Experiment with different data types and the operators +,-,* and /. What happens if you add two strings, or multiply a string by a number?\n",
    "\n",
    "Use `str()` and `int()` or `float()` to change the data types - how do the results change? Use `type()` to see the data types of your results."
   ]
  },
  {
   "cell_type": "code",
   "execution_count": 5,
   "metadata": {},
   "outputs": [
    {
     "name": "stdout",
     "output_type": "stream",
     "text": [
      "1.0\n"
     ]
    }
   ],
   "source": [
    "# Type your answer below in this box\n",
    "a = float(1)\n",
    "print(a)"
   ]
  },
  {
   "cell_type": "markdown",
   "metadata": {},
   "source": [
    "## Immutable Variables and `id()`\n",
    "Define a numeric variable and use `id()` to print its ID. Now add 1 to the value of that variable and look at its ID again. What has happened to the ID? It has changed because the variable is immutable - its value cannot change. A new variable has been created in its place.\n",
    "\n",
    "Now try setting a variable to have some numeric value and print its ID. On the next line, assign the SAME value again and print its ID again. Try this first of all by assigning the value 10 to the variable twice, then try again with 10.5 - what difference do you see? Look online to try and find the reason why this happens."
   ]
  },
  {
   "cell_type": "code",
   "execution_count": 6,
   "metadata": {},
   "outputs": [
    {
     "name": "stdout",
     "output_type": "stream",
     "text": [
      "4463326656\n"
     ]
    }
   ],
   "source": [
    "# Type your answer below in this box\n",
    "a = int(2)\n",
    "print(id(a))\n"
   ]
  },
  {
   "cell_type": "markdown",
   "metadata": {},
   "source": [
    "# f-strings\n",
    "f-string syntax is `f\"some text {variable} more text\"`. Assign values to variables `a` and `b` and print \"a plus b equals a+b\" but replace the variables with the appropriate expression!"
   ]
  },
  {
   "cell_type": "code",
   "execution_count": 83,
   "metadata": {},
   "outputs": [
    {
     "name": "stdout",
     "output_type": "stream",
     "text": [
      "Hi! My name is Mateusz Zaremba. I'm 28 y/o.\n",
      "day: 26\n",
      "Day: 09/26/19\n",
      "month: Sep\n",
      "Month: September\n",
      "year: 19\n",
      "year: 2019\n",
      "Sep 26, 19\n",
      "September 26, 2019\n",
      "09/26/19\n",
      "\n",
      "Mateusz is my name.\n",
      "This lab is written in Python in Stirling\n"
     ]
    }
   ],
   "source": [
    "# Type your answer below in this box\n",
    "name = \"Mateusz\"\n",
    "surname = \"Zaremba\"\n",
    "age = int(28)\n",
    "\n",
    "val = f\"Hi! My name is {name} {surname}. I'm {age} y/o.\"\n",
    "print(val)\n",
    "\n",
    "# print date and time\n",
    "import datetime\n",
    "today = datetime.datetime.today()\n",
    "print(f\"day: {today:%d}\")   # 26\n",
    "print(f\"Day: {today:%D}\")   # 09/26/19\n",
    "print(f\"month: {today:%b}\") # Sep\n",
    "print(f\"Month: {today:%B}\") # September\n",
    "print(f\"year: {today:%y}\")  # 19\n",
    "print(f\"year: {today:%Y}\", end = '')  # 2019\n",
    "\n",
    "print(\"\")\n",
    "\n",
    "print(f\"{today:%b %d, %y}\") # Sep 26, 19\n",
    "print(f\"{today:%B %d, %Y}\") # September 26, 2019\n",
    "print(f\"{today:%D}\")        # 09/26/19\n",
    "\n",
    "# format()\n",
    "print(\"\")\n",
    "print(\"{} is my name.\".format(\"Mateusz\"))\n",
    "str = \"this lab teaches {}\"\n",
    "str.format(\"Python\")\n",
    "\n",
    "print(\"This {} is written in {pth} in {str}\"\n",
    "      .format(\"lab\", pth = \"Python\", str = \"Stirling\"))\n"
   ]
  },
  {
   "cell_type": "markdown",
   "metadata": {},
   "source": [
    "# Lists\n",
    "Create a list with the integers from 5 to 10 in it. Do this two different ways, once by hand and one using `range()`. Print them both. Do they look the same? If not - have you remembered to use `list()` to change the second one from being a range object to a list?"
   ]
  },
  {
   "cell_type": "code",
   "execution_count": 156,
   "metadata": {},
   "outputs": [
    {
     "name": "stdout",
     "output_type": "stream",
     "text": [
      "5678910\n",
      "5678910\n",
      "[5, 6, 7, 8, 9, 10]\n",
      "Method #1 addition: []\n",
      "Method #2 comprehension: [10, 12, 14, 16, 18, 20]\n",
      "Mathod #4 zip() + sum(): [10, 12, 14, 16, 18, 20]\n"
     ]
    }
   ],
   "source": [
    "# Type your answer below in this box\n",
    "list = [5, 6, 7, 8, 9, 10]\n",
    "\n",
    "for i in list:\n",
    "    print(i, end = '')\n",
    "\n",
    "print(\"\")\n",
    "\n",
    "range_list = range(5,11)\n",
    "for i in range_list:\n",
    "    print(i, end = '')"
   ]
  },
  {
   "cell_type": "markdown",
   "metadata": {},
   "source": [
    "Now you have your two lists, produce each of the following new lists\n",
    "- Concatenate the two lists to produce one: `[5, 6, 7, 8, 9, 10, 5, 6, 7, 8, 9, 10]`\n",
    "- Add both together to produce `[10, 12, 14, 16, 18, 20]`\n",
    "- The first three elements of the first list: `[5,6,7]`\n",
    "- The first list backwards: `[10, 9, 8, 7, 6, 5]`\n",
    "- Only the even numbers from the first list: `[]`\n",
    "- A two dimensional list where the element at i,j is `list1[i] * list2[j]`:\n",
    "`[[25, 30, 35, 40, 45, 50],\n",
    "  [30, 36, 42, 48, 54, 60],\n",
    "  [35, 42, 49, 56, 63, 70],\n",
    "  [40, 48, 56, 64, 72, 80],\n",
    "  [45, 54, 63, 72, 81, 90],\n",
    "  [50, 60, 70, 80, 90, 100]]`\n",
    " - The square root of each number in list 1 - use `math.sqrt()`: `[2.23606797749979, 2.449489742783178, 2.6457513110645907, 2.8284271247461903, 3.0, 3.1622776601683795]`"
   ]
  },
  {
   "cell_type": "code",
   "execution_count": 3,
   "metadata": {},
   "outputs": [
    {
     "name": "stdout",
     "output_type": "stream",
     "text": [
      "[5, 6, 7, 8, 9, 10]\n",
      "<class 'list'>\n",
      "Method #1 addition: [10, 12, 14, 16, 18, 20]\n",
      "Mathod #4 zip() + sum(): [10, 12, 14, 16, 18, 20]\n"
     ]
    }
   ],
   "source": [
    "test_list1 = [5, 6, 7, 8, 9, 10]\n",
    "range_list = list(range(5,11))\n",
    "\n",
    "print(range_list)\n",
    "\n",
    "# Type your answer below in this box\n",
    "# list.extend(range_list)\n",
    "print(list)\n",
    "\n",
    "# adding two list elements\n",
    "\n",
    "# Method #1\n",
    "method1_list = []\n",
    "for i in range(0, len(test_list1)):\n",
    "    method1_list.append(test_list1[i] + range_list[i])\n",
    "print(\"Method #1 addition: \", end = '')\n",
    "print(method1_list)   \n",
    "\n",
    "# Method #2 (list comprehension)\n",
    "\"\"\"method2_list = [list[i] + range_list[i] \n",
    "                for i in range(len(test_list1))]\n",
    "print(\"Method #2 comprehension: \", end = '')\n",
    "print(method2_list)\"\"\"\n",
    "\n",
    "# Method #3 map() + add()\n",
    "from operator import add\n",
    "method3_list = list(map(add, test_list1, range_list))\n",
    "print(\"Method #3 map() + add(): \" + )\n",
    "\n",
    "# Method #4 zip() + sum()\n",
    "method4_list = [sum(i) for i in zip(test_list1, range_list)]\n",
    "print(\"Mathod #4 zip() + sum(): \", end = '')\n",
    "print(method4_list)"
   ]
  },
  {
   "cell_type": "markdown",
   "metadata": {},
   "source": [
    "From the two dimensional array you just created, extract or calculate the following:\n",
    "- The second row: `[30, 36, 42, 48, 54, 60]`\n",
    "- The fifth column: `[45, 54, 63, 72, 81, 90]`\n",
    "- The sum of the first row: 270\n",
    "- The sum of the leading diagonal (top left to bottom right): 355"
   ]
  },
  {
   "cell_type": "code",
   "execution_count": 3,
   "metadata": {},
   "outputs": [],
   "source": [
    "# Type your answer below in this box\n"
   ]
  },
  {
   "cell_type": "markdown",
   "metadata": {},
   "source": [
    "# Sets\n",
    "Define two sets: `{'Cat', 'Dog', 'Pig', 'Cow'}` and `{'Cat', 'Cow', 'Rat', 'Fish'}`\n",
    "Using them, calculate the following:\n",
    "- The union of the two sets: `{'Cat', 'Cow', 'Dog', 'Fish', 'Pig', 'Rat'}`\n",
    "- The intersection of the two sets: `{'Cat', 'Cow'}`\n",
    "\n",
    "Now remove `Cat` from the first set and add `Goat` instead."
   ]
  },
  {
   "cell_type": "code",
   "execution_count": null,
   "metadata": {},
   "outputs": [],
   "source": [
    "# Type your answer below in this box\n"
   ]
  },
  {
   "cell_type": "code",
   "execution_count": null,
   "metadata": {},
   "outputs": [],
   "source": [
    "# Type your answer below in this box\n"
   ]
  },
  {
   "cell_type": "markdown",
   "metadata": {},
   "source": [
    "Now, select all the four letter animal names from both sets into a single new set: `{'Fish', 'Goat'}`"
   ]
  },
  {
   "cell_type": "code",
   "execution_count": null,
   "metadata": {},
   "outputs": [],
   "source": [
    "# Type your answer below in this box\n"
   ]
  },
  {
   "cell_type": "markdown",
   "metadata": {},
   "source": [
    "# Tuples, Sets and Lists\n",
    "Create a tuple, a set, and a list containing `1,2,3,4`\n",
    "See what happens if you add the element `2` to each of them. You won't be able to update the tuple. You'll need to create a new one with `(1,2,2,3,4)`.\n",
    "Look at the `id()` of each object before and after it is updated. What do you know about their immutability?\n"
   ]
  },
  {
   "cell_type": "code",
   "execution_count": null,
   "metadata": {},
   "outputs": [],
   "source": [
    "# Type your answer below in this box\n"
   ]
  },
  {
   "cell_type": "markdown",
   "metadata": {},
   "source": [
    "# Dictionaries\n",
    "Create a dictionary object that represents the data about a single customer storing a first name, surname, age, and a list of three named products they have bought, along with the price they paid for each product. Make up keys and values as you like."
   ]
  },
  {
   "cell_type": "code",
   "execution_count": null,
   "metadata": {},
   "outputs": [],
   "source": [
    "# Type your answer below in this box\n"
   ]
  },
  {
   "cell_type": "markdown",
   "metadata": {},
   "source": [
    "## Write code to produce a sentence that says:\n",
    "`The customer named (insert name) bought the following (count of things bought) things: (list the names of the things)` Obviously, you should replace the parts in brackets with expressions that extract data from the dictionary\n"
   ]
  },
  {
   "cell_type": "code",
   "execution_count": null,
   "metadata": {},
   "outputs": [],
   "source": [
    "# Type your answer below in this box\n"
   ]
  },
  {
   "cell_type": "markdown",
   "metadata": {},
   "source": [
    "## Calculate the total money spent by this customer"
   ]
  },
  {
   "cell_type": "code",
   "execution_count": null,
   "metadata": {},
   "outputs": [],
   "source": [
    "# Type your answer below in this box\n"
   ]
  },
  {
   "cell_type": "markdown",
   "metadata": {},
   "source": [
    "# Extract just the prices paid into an array"
   ]
  },
  {
   "cell_type": "code",
   "execution_count": null,
   "metadata": {},
   "outputs": [],
   "source": [
    "# Type your answer below in this box\n"
   ]
  },
  {
   "cell_type": "markdown",
   "metadata": {},
   "source": [
    "# Add a new field for the customer's phone number."
   ]
  },
  {
   "cell_type": "code",
   "execution_count": null,
   "metadata": {},
   "outputs": [],
   "source": [
    "# Type your answer below in this box\n"
   ]
  },
  {
   "cell_type": "markdown",
   "metadata": {},
   "source": [
    "# Still have time?\n",
    "Explore more about using different data structures to store and manipulate data. Use your own initiative to invent more examples."
   ]
  },
  {
   "cell_type": "code",
   "execution_count": null,
   "metadata": {},
   "outputs": [],
   "source": []
  }
 ],
 "metadata": {
  "kernelspec": {
   "display_name": "Python 3",
   "language": "python",
   "name": "python3"
  },
  "language_info": {
   "codemirror_mode": {
    "name": "ipython",
    "version": 3
   },
   "file_extension": ".py",
   "mimetype": "text/x-python",
   "name": "python",
   "nbconvert_exporter": "python",
   "pygments_lexer": "ipython3",
   "version": "3.7.3"
  }
 },
 "nbformat": 4,
 "nbformat_minor": 2
}
