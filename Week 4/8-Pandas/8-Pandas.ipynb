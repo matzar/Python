{
 "cells": [
  {
   "cell_type": "markdown",
   "metadata": {},
   "source": [
    "# ITNPBD2 Representing and Manipulating Data\n",
    "\n",
    "# Pandas\n",
    "\n",
    "## Spreadsheet and Database table like data frames\n",
    "- Named columns and (if you like) rows\n",
    "- Selection, aggregation, calculation methods\n",
    "- Load and save from files"
   ]
  },
  {
   "cell_type": "code",
   "execution_count": null,
   "metadata": {},
   "outputs": [],
   "source": [
    "import pandas as pd"
   ]
  },
  {
   "cell_type": "markdown",
   "metadata": {},
   "source": [
    "## Read a data frame from a file\n",
    "- Default delimiter is `,`\n",
    "- Choice to specify row and column names\n",
    "- Many more choices we won't worry about yet"
   ]
  },
  {
   "cell_type": "code",
   "execution_count": null,
   "metadata": {},
   "outputs": [],
   "source": [
    "loans=pd.read_csv(\"data\\loans.csv\", index_col=0)  # ,index_col=0 to make index first column\n",
    "display(loans.head())"
   ]
  },
  {
   "cell_type": "markdown",
   "metadata": {},
   "source": [
    "# Select one or more columns\n",
    "- Either by `framename.colname` or `framename['colname']`"
   ]
  },
  {
   "cell_type": "code",
   "execution_count": null,
   "metadata": {},
   "outputs": [],
   "source": [
    "ages=loans.Age\n",
    "display(ages.head())"
   ]
  },
  {
   "cell_type": "markdown",
   "metadata": {},
   "source": [
    "## Can provide an array of column names\n",
    "- Note how the index column is also kept"
   ]
  },
  {
   "cell_type": "code",
   "execution_count": null,
   "metadata": {},
   "outputs": [],
   "source": [
    "age_loan=loans[['Age', 'Loan amount']]\n",
    "display(age_loan.head())"
   ]
  },
  {
   "cell_type": "markdown",
   "metadata": {},
   "source": [
    "# Select Rows\n",
    "- By column index"
   ]
  },
  {
   "cell_type": "code",
   "execution_count": null,
   "metadata": {},
   "outputs": [],
   "source": [
    "print(loans.loc[945780])"
   ]
  },
  {
   "cell_type": "markdown",
   "metadata": {},
   "source": [
    "- By Query"
   ]
  },
  {
   "cell_type": "code",
   "execution_count": null,
   "metadata": {},
   "outputs": [],
   "source": [
    "over60=loans[loans.Age>60]\n",
    "display(over60.head())"
   ]
  },
  {
   "cell_type": "markdown",
   "metadata": {},
   "source": [
    "# Selecting rows and columns"
   ]
  },
  {
   "cell_type": "code",
   "execution_count": null,
   "metadata": {},
   "outputs": [],
   "source": [
    "over60Income=loans[loans.Age>60]['Income']\n",
    "print(over60Income.head())\n",
    "\n",
    "o60i=loans.loc[loans.Age>60,'Income']\n",
    "display(o60i.head())"
   ]
  },
  {
   "cell_type": "markdown",
   "metadata": {},
   "source": [
    "## Create a data frame in your code"
   ]
  },
  {
   "cell_type": "code",
   "execution_count": null,
   "metadata": {},
   "outputs": [],
   "source": [
    "df=pd.DataFrame([[1, 2, 3], [4, 5, 6], [7, 8, 9]], index=['x', 'y', 'z'], columns=['a', 'b', 'c'])\n",
    "print(df)"
   ]
  },
  {
   "cell_type": "markdown",
   "metadata": {},
   "source": [
    "# Extract Columns by name"
   ]
  },
  {
   "cell_type": "code",
   "execution_count": null,
   "metadata": {},
   "outputs": [],
   "source": [
    "print(df.a)\n",
    "# or\n",
    "print(df['a'])"
   ]
  },
  {
   "cell_type": "markdown",
   "metadata": {},
   "source": [
    "# Extract Rows by Index Name or Location\n",
    "- Use `loc` to refer to rows by index name\n",
    "- Use `iloc` to access by row number\n"
   ]
  },
  {
   "cell_type": "code",
   "execution_count": null,
   "metadata": {},
   "outputs": [],
   "source": [
    "# print(df[1])  # Error - this means a column called 1\n",
    "print(df.loc['x']) # Correct\n",
    "print(df.iloc[1]) # Correct"
   ]
  },
  {
   "cell_type": "markdown",
   "metadata": {},
   "source": [
    "# More sophisticated queries\n",
    "- Add terms to the search\n",
    "- Use `query`"
   ]
  },
  {
   "cell_type": "code",
   "execution_count": null,
   "metadata": {},
   "outputs": [],
   "source": [
    "print(loans.loc[(loans.Age> 30) & (loans.Age<50)].head())\n",
    "\n",
    "print(loans.query(\"Age > 30 & Age < 50\").head())\n"
   ]
  },
  {
   "cell_type": "markdown",
   "metadata": {},
   "source": [
    "# A quick look at conditional indexes (masks)"
   ]
  },
  {
   "cell_type": "code",
   "execution_count": null,
   "metadata": {},
   "outputs": [],
   "source": [
    "mask=loans.Age>50\n",
    "print(mask.head())\n",
    "print(loans[mask].head())\n",
    "print(mask.any(),mask.all())"
   ]
  },
  {
   "cell_type": "markdown",
   "metadata": {},
   "source": [
    "# Describe a dataframe"
   ]
  },
  {
   "cell_type": "code",
   "execution_count": null,
   "metadata": {},
   "outputs": [],
   "source": [
    "print(loans.describe())"
   ]
  },
  {
   "cell_type": "markdown",
   "metadata": {},
   "source": [
    "## What about the String typed columns?\n",
    "- List with `unique`\n",
    "- Summarise with describe()"
   ]
  },
  {
   "cell_type": "code",
   "execution_count": null,
   "metadata": {},
   "outputs": [],
   "source": [
    "print(loans['Own home'].unique())\n",
    "print(loans['Own home'].describe())"
   ]
  },
  {
   "cell_type": "markdown",
   "metadata": {},
   "source": [
    "# Aggregation\n",
    " - Calculate same thing for each group by value\n",
    " - E.g Average income by age"
   ]
  },
  {
   "cell_type": "code",
   "execution_count": null,
   "metadata": {
    "scrolled": true
   },
   "outputs": [],
   "source": [
    "print(loans.groupby('Gender')['Income'].mean())\n",
    "print(loans.groupby('Own home')['Own home'].count())"
   ]
  },
  {
   "cell_type": "markdown",
   "metadata": {},
   "source": [
    "## Here we select only some of the Gender values to aggregate over"
   ]
  },
  {
   "cell_type": "code",
   "execution_count": null,
   "metadata": {},
   "outputs": [],
   "source": [
    "print(loans[loans.Gender.isin(['Male', 'Female', 'M', 'F'])].groupby('Gender')['Income'].count())"
   ]
  },
  {
   "cell_type": "markdown",
   "metadata": {},
   "source": [
    "## Some coding errors to fix!\n",
    "- First, count the occurences of each value"
   ]
  },
  {
   "cell_type": "code",
   "execution_count": null,
   "metadata": {},
   "outputs": [],
   "source": [
    "print(loans.groupby('Gender')['Gender'].count())"
   ]
  },
  {
   "cell_type": "markdown",
   "metadata": {},
   "source": [
    "# Here we are editing and removing certain rows\n",
    "## Note that `~loans...` means not ...\n",
    "- The third line of code removes all the rows where the value for gender is in the given list, effectively by selecting every row where the value for gender is NOT in that list"
   ]
  },
  {
   "cell_type": "code",
   "execution_count": null,
   "metadata": {},
   "outputs": [],
   "source": [
    "loans.loc[loans.Gender=='Female']='F'\n",
    "loans.loc[loans.Gender=='Male']='M'\n",
    "loans=loans.loc[~loans.Gender.isin(['0', '1', 'D', 'H', 'N'])]\n",
    "print(loans.groupby('Gender')['Gender'].count())"
   ]
  },
  {
   "cell_type": "markdown",
   "metadata": {},
   "source": [
    "# Nested Row and Columns Labels\n",
    "- A `MultiIndex` is hierarchical index\n",
    "- Consider sales organised by Region and Month\n",
    "- In some sense, the data are the sales figures and the region and month (though columns) are really identifiers, not data\n"
   ]
  },
  {
   "cell_type": "code",
   "execution_count": null,
   "metadata": {},
   "outputs": [],
   "source": [
    "sales=pd.read_csv('data\\sales.csv',index_col=[0,1])\n",
    "sales.head()"
   ]
  },
  {
   "cell_type": "code",
   "execution_count": null,
   "metadata": {},
   "outputs": [],
   "source": [
    "sales.loc['USA']"
   ]
  },
  {
   "cell_type": "code",
   "execution_count": null,
   "metadata": {},
   "outputs": [],
   "source": [
    "sales.loc['USA','August']"
   ]
  },
  {
   "cell_type": "code",
   "execution_count": null,
   "metadata": {
    "scrolled": true
   },
   "outputs": [],
   "source": [
    "sales.groupby(['Region']).mean()"
   ]
  },
  {
   "cell_type": "code",
   "execution_count": null,
   "metadata": {},
   "outputs": [],
   "source": [
    "sales.unstack('Region')"
   ]
  },
  {
   "cell_type": "markdown",
   "metadata": {},
   "source": [
    "# Relational Tables and Joins\n",
    "- Relational table design allows a value in one table to refer to an index in another\n",
    "- Consider a table of customers and orders (simplified)\n"
   ]
  },
  {
   "cell_type": "code",
   "execution_count": null,
   "metadata": {},
   "outputs": [],
   "source": [
    "customers=pd.read_csv('data\\Customers.csv', index_col=0)\n",
    "orders=pd.read_csv('data\\Orders.csv', index_col=0)\n",
    "display(customers)\n",
    "display(orders)"
   ]
  },
  {
   "cell_type": "markdown",
   "metadata": {},
   "source": [
    "# What is the name of the person who bought the drum in order 4?\n",
    "- Could look it up twice:"
   ]
  },
  {
   "cell_type": "code",
   "execution_count": null,
   "metadata": {},
   "outputs": [],
   "source": [
    "cust_id=orders.loc[4].Cust_ID\n",
    "print(customers.loc[cust_id].Name)"
   ]
  },
  {
   "cell_type": "code",
   "execution_count": null,
   "metadata": {},
   "outputs": [],
   "source": [
    "# Or all in one line:\n",
    "print(customers.loc[orders.loc[4].Cust_ID].Name)"
   ]
  },
  {
   "cell_type": "markdown",
   "metadata": {},
   "source": [
    "## Or perform a join on the whole table"
   ]
  },
  {
   "cell_type": "code",
   "execution_count": null,
   "metadata": {},
   "outputs": [],
   "source": [
    "display(pd.merge(customers, orders, on='Cust_ID'))"
   ]
  },
  {
   "cell_type": "markdown",
   "metadata": {},
   "source": [
    "# Why not store the data in one table like this anyway?\n",
    "- Notice that Sandeep hasn't made an order yet - but he is in the customers table\n",
    "- What if a customer changes their email address? Only one edit needed\n",
    "- If Sally cancels her order, she vanishes from all records\n",
    "\n",
    "See https://pandas.pydata.org/pandas-docs/stable/user_guide/merging.html for more details"
   ]
  },
  {
   "cell_type": "markdown",
   "metadata": {},
   "source": [
    "## Outer Joins\n",
    " - The above example is an inner join - it only contains data where the key appears in the orders table\n",
    "- That means Sandeep is missing\n",
    "- An outer join can be used to include all data from one table, even if it doesn't appear in the other"
   ]
  },
  {
   "cell_type": "code",
   "execution_count": null,
   "metadata": {},
   "outputs": [],
   "source": [
    "display(pd.merge(customers, orders, how='left', on='Cust_ID'))"
   ]
  },
  {
   "cell_type": "markdown",
   "metadata": {},
   "source": [
    "## In the above,\n",
    "- `customers` is the left table (first argument)\n",
    "- `orders` is the right table (second)\n",
    "- `how='left'` means include all entries in left table (customers) even if they don't appear in the right.\n",
    "- See the `NaN` entries where no data are found"
   ]
  },
  {
   "cell_type": "markdown",
   "metadata": {},
   "source": [
    "# Now with Three Tables"
   ]
  },
  {
   "cell_type": "code",
   "execution_count": null,
   "metadata": {},
   "outputs": [],
   "source": [
    "korders=pd.read_csv('data\\OrdersWithKey.csv', index_col=0)\n",
    "products=pd.read_csv('data\\Products.csv', index_col=0)\n",
    "display(products)\n",
    "display(korders)"
   ]
  },
  {
   "cell_type": "code",
   "execution_count": null,
   "metadata": {},
   "outputs": [],
   "source": [
    "customers.merge(korders, on='Cust_ID').merge(products, on='Product_ID')"
   ]
  },
  {
   "cell_type": "code",
   "execution_count": null,
   "metadata": {},
   "outputs": [],
   "source": []
  }
 ],
 "metadata": {
  "kernelspec": {
   "display_name": "Python 3",
   "language": "python",
   "name": "python3"
  },
  "language_info": {
   "codemirror_mode": {
    "name": "ipython",
    "version": 3
   },
   "file_extension": ".py",
   "mimetype": "text/x-python",
   "name": "python",
   "nbconvert_exporter": "python",
   "pygments_lexer": "ipython3",
   "version": "3.5.3"
  }
 },
 "nbformat": 4,
 "nbformat_minor": 2
}
