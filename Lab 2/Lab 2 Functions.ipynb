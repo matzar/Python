{
 "cells": [
  {
   "cell_type": "markdown",
   "metadata": {},
   "source": [
    "# ITNPBD2 Week 2 Lab\n",
    "## Functions and Loops"
   ]
  },
  {
   "cell_type": "markdown",
   "metadata": {},
   "source": [
    "You can allow users to type something to to the Jupyer notebook using `input` like this:\n",
    "Note it is treated as a string, whatever you type."
   ]
  },
  {
   "cell_type": "code",
   "execution_count": null,
   "metadata": {},
   "outputs": [],
   "source": [
    "# Enter your code here\n",
    "a = input()"
   ]
  },
  {
   "cell_type": "markdown",
   "metadata": {},
   "source": [
    "# Loops\n",
    "Write a loop that keeps asking the user to enter a number between 1 and 10, until they enter the number 5 or they have tried 6 times.\n",
    "When the loop ends, print a message telling them whether they guessed correctly or not."
   ]
  },
  {
   "cell_type": "code",
   "execution_count": 6,
   "metadata": {},
   "outputs": [
    {
     "name": "stdout",
     "output_type": "stream",
     "text": [
      "Please enter a number\n",
      "5\n",
      "Well done\n"
     ]
    }
   ],
   "source": [
    "# Enter your code here\n",
    "\n",
    "i = 0\n",
    "while i < 6:\n",
    "    print(\"Please enter a number\")\n",
    "    a = input()\n",
    "    a = int(a)\n",
    "    if a == 5:\n",
    "        break\n",
    "    print(\"Try again\")\n",
    "    i += 1\n",
    "\n",
    "if a == 5:\n",
    "    print(\"Well done\")"
   ]
  },
  {
   "cell_type": "markdown",
   "metadata": {},
   "source": [
    "# Define a function that takes a single string argument and returns the string backwards\n",
    "- Call it with a string and print the result that is returned"
   ]
  },
  {
   "cell_type": "code",
   "execution_count": 7,
   "metadata": {},
   "outputs": [
    {
     "name": "stdout",
     "output_type": "stream",
     "text": [
      "olleH\n"
     ]
    }
   ],
   "source": [
    "# Enter your code here\n",
    "def rev(str1):\n",
    "    rev = str1[::-1]\n",
    "    return rev\n",
    "\n",
    "revs = rev(\"Hello\")\n",
    "print(revs)"
   ]
  },
  {
   "cell_type": "markdown",
   "metadata": {},
   "source": [
    "# Define a function that takes two strings as arguments and returns the longest one (or `None` if they are the same)\n",
    "- Call it and print the result for three few different examples - one for each possibility"
   ]
  },
  {
   "cell_type": "code",
   "execution_count": null,
   "metadata": {},
   "outputs": [],
   "source": [
    "# Enter your code here\n",
    "def longer(str1, str2):\n",
    "    if str1 > str2:\n",
    "        return str1\n",
    "    else:\n",
    "        return str2\n",
    "    \n",
    "print(longer(\"Hello\", \"Goodbye\"))\n",
    "print(longer(\"Hello\", \"Seeya\"))\n"
   ]
  },
  {
   "cell_type": "markdown",
   "metadata": {},
   "source": [
    "# Now write a function that takes any number of strings (not in a list - use variable length arguments) and returns the longest\n",
    "- Call it with a few different examples"
   ]
  },
  {
   "cell_type": "code",
   "execution_count": null,
   "metadata": {},
   "outputs": [],
   "source": [
    "# Enter your code here\n",
    "def longest(str1, str2, str3):\n",
    "    "
   ]
  },
  {
   "cell_type": "markdown",
   "metadata": {},
   "source": [
    "# Now write a function with three arguments - two strings to compare and a final string that contains either 'largest' or 'smallest' \n",
    "- Write the function so that the largest or smallest string is returned, depending on the value of the third parameter\n",
    "- If both are the same length, return `None`\n",
    "- If the third parameter is omitted, return the larger (default value)\n",
    "- Run it a few times and print the result"
   ]
  },
  {
   "cell_type": "code",
   "execution_count": null,
   "metadata": {},
   "outputs": [],
   "source": [
    "# Enter your code here\n"
   ]
  },
  {
   "cell_type": "markdown",
   "metadata": {},
   "source": [
    "# Write a function that takes a variable number of arguments such that:\n",
    "- The first few are the words to filter\n",
    "- Next is an integer that specifies a word length threshold\n",
    "- The function returns a list of all the words that are longer than the specified length\n",
    "\n",
    "Done right, your function body will need only one line of code"
   ]
  },
  {
   "cell_type": "code",
   "execution_count": null,
   "metadata": {},
   "outputs": [],
   "source": [
    "# Enter your code here\n",
    "def lf(*words, l):\n",
    "    return [w for w in words where len(w) > l]\n",
    "\n",
    "x = ['aaa', 'aaaa', 'aaaaa']\n",
    "print(lf(x, 3))"
   ]
  },
  {
   "cell_type": "markdown",
   "metadata": {},
   "source": [
    "# Rewrite the word length filtering function as a generator function using `yield` can iterate over it in the calling environment"
   ]
  },
  {
   "cell_type": "code",
   "execution_count": null,
   "metadata": {},
   "outputs": [],
   "source": [
    "# Enter your code here\n"
   ]
  },
  {
   "cell_type": "markdown",
   "metadata": {},
   "source": [
    "# Run the code below to assign the list of word tuples:\n",
    "`word_pairs = [('hello','goodbye'),('hello','bye'),('hello','there'),('hi','bye')]`"
   ]
  },
  {
   "cell_type": "code",
   "execution_count": null,
   "metadata": {},
   "outputs": [],
   "source": [
    "# Enter your code here\n"
   ]
  },
  {
   "cell_type": "markdown",
   "metadata": {},
   "source": [
    "# Now write code to send these tuples one at a time to your original word length comparing function (the one that takes two arguments) and put the resulting longest words into a new list. The result should be:\n",
    "`'goodbye','hello',None,'bye'`\n",
    "\n",
    "Do it two different ways:\n",
    "- With list comprehension\n",
    "- With `map` and a lambda function"
   ]
  },
  {
   "cell_type": "code",
   "execution_count": null,
   "metadata": {},
   "outputs": [],
   "source": [
    "# With list Comprehension:\n"
   ]
  },
  {
   "cell_type": "code",
   "execution_count": null,
   "metadata": {},
   "outputs": [],
   "source": [
    "# With a lambda function"
   ]
  },
  {
   "cell_type": "markdown",
   "metadata": {},
   "source": [
    "# Write a function that returns true if the string passed to its single argument is a palindrome (same forwards as backwards)\n",
    "- Then write a gnerator function to generate the first `n` numbers in the Fibonacci series\n",
    "- Use list comprehension to pick only the numbers in the first 10000 of the Fibonacci series that are palindromes"
   ]
  },
  {
   "cell_type": "code",
   "execution_count": null,
   "metadata": {},
   "outputs": [],
   "source": [
    "# Enter your code here\n"
   ]
  },
  {
   "cell_type": "markdown",
   "metadata": {},
   "source": [
    "# Now write two more generators and two more functions to check if the argument has a certain quality:\n",
    "## The two generator functions should produce:\n",
    "- The first `n` square numbers\n",
    "- A sequence of `n` 5 digit numbers starting at 12345 where the next number in the sequence is the first 5 digits of the previous number squared\n",
    "## And the checking functions should return true if:\n",
    "- The argument is divisible by 10\n",
    "- The argument has all the same digit (e.g. 11111 or 55 or 4) etc."
   ]
  },
  {
   "cell_type": "code",
   "execution_count": null,
   "metadata": {},
   "outputs": [],
   "source": [
    "# Enter your code here\n"
   ]
  },
  {
   "cell_type": "markdown",
   "metadata": {},
   "source": [
    "# Write a high order function\n",
    "## You should now have three generators and three checking functions (including the Fibonacci and palindrome ones)\n",
    "## Now write a function that has three arguments: a generator, the length of the series to generate and a checking function.\n",
    "- It should return all the values in the generator series of the given length that satisfy the checking function\n",
    "- It should be called `check_seq`\n"
   ]
  },
  {
   "cell_type": "code",
   "execution_count": null,
   "metadata": {},
   "outputs": [],
   "source": [
    "# Enter your code here\n"
   ]
  },
  {
   "cell_type": "markdown",
   "metadata": {},
   "source": [
    "# Test the function with some combinations of generators and checks"
   ]
  },
  {
   "cell_type": "code",
   "execution_count": null,
   "metadata": {},
   "outputs": [],
   "source": [
    "# Enter your code here\n"
   ]
  },
  {
   "cell_type": "markdown",
   "metadata": {},
   "source": [
    "# You should find you can call your `cheq_seq` function like this\n",
    "`check_seq(range, 1000, same)` where `same` is the name of the function that checks for numbers where all the digits are the same.\n",
    "- Try it"
   ]
  },
  {
   "cell_type": "code",
   "execution_count": null,
   "metadata": {},
   "outputs": [],
   "source": [
    "# Enter your code here\n"
   ]
  },
  {
   "cell_type": "code",
   "execution_count": null,
   "metadata": {},
   "outputs": [],
   "source": []
  }
 ],
 "metadata": {
  "kernelspec": {
   "display_name": "Python 3",
   "language": "python",
   "name": "python3"
  },
  "language_info": {
   "codemirror_mode": {
    "name": "ipython",
    "version": 3
   },
   "file_extension": ".py",
   "mimetype": "text/x-python",
   "name": "python",
   "nbconvert_exporter": "python",
   "pygments_lexer": "ipython3",
   "version": "3.6.5"
  }
 },
 "nbformat": 4,
 "nbformat_minor": 2
}
