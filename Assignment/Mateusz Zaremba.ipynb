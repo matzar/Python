{
 "cells": [
  {
   "cell_type": "markdown",
   "metadata": {},
   "source": [
    " # University of Stirling\n",
    "\n",
    " # ITNPBD2, Representing and Manipulating Data\n",
    "\n",
    " # Assignment 2019\n",
    "\n",
    " # An analysis of the book, Around the World in 80 Days by Jules Verne\n",
    "\n",
    " This notebook forms the assignment instructions and submission document of the assignment for ITNPBD2 in 2019. Read the instructions carefully and enter code into the cells as indicated.\n",
    "\n",
    " You will need to download the text of the book from Canvas - it is in the same place as this file, and called aroundTW80Days.txt.\n",
    "\n",
    " Rename this file to be xxxxxx_BD2 where xxxxxx is your student number, then type your code into the boxes provided. Each question is given in a markdown call, and there is an empty box beneath each one where you enter your answer. These boxes should contain 2 things:\n",
    "\n",
    " - **The code that performs the required task**\n",
    " - **Comments that explain your code**\n",
    "\n",
    " Marks are given for both code (70%) and style and comments (30%). If you cannot get the code to work properly, you will still get some marks for correct comments. The marks available for each question are given in square brackets in each title."
   ]
  },
  {
   "cell_type": "markdown",
   "metadata": {},
   "source": [
    " # Submission and Other Notes\n",
    "\n",
    " - Submit your notebook to canvas when it is complete\n",
    " - Make sure the version you submit contains the results of running every cell. The output should be visible without the need to run the code again\n",
    "\n",
    " ## Plagiarism\n",
    "\n",
    " Plagiarism is presenting somebody else’s work as your own. Plagiarism is a form of academic misconduct and is taken very seriously by the University. Students found to have plagiarised work can have marks deducted and, in serious cases, even be expelled from the University. Do not submit any work that is not entirely your own.\n",
    "\n",
    " The University’s full guidance on academic misconduct can be found here:\n",
    "\n",
    " http://stir.ac.uk/1x0\n"
   ]
  },
  {
   "cell_type": "markdown",
   "metadata": {},
   "source": [
    " ## 1) Open the file `aroundTW80Days.txt` and read its contents into a string [3]\n",
    "\n",
    "\n",
    " 1. Print the number of characters (letters, etc) in the whole book\n",
    " 2. Split the book into a Python list containing all the words of the book in order. At this stage, use string splitting, not a more fancy library like `nltk`. Call this variable `book_list`\n",
    " 3. Print the number of words in the book\n",
    " 4. Print the first 10 words of the book. It should look like this:\n",
    "\n",
    " `['The', 'Project', 'Gutenberg', 'EBook', 'of', 'Around', 'the', 'World', 'in', '80', 'Days,']`"
   ]
  },
  {
   "cell_type": "code",
   "execution_count": 1,
   "metadata": {},
   "outputs": [
    {
     "name": "stdout",
     "output_type": "stream",
     "text": [
      "Number of characters in the book: 390222\n",
      "Random sample from the sorted book: ['\"Are', '\"Are', '\"Are', '\"Arrived', '\"As']\n",
      "Number of words in the book: 66313\n",
      "The first 10 words from the book: ['The', 'Project', 'Gutenberg', 'EBook', 'of', 'Around', 'the', 'World', 'in', '80']\n"
     ]
    }
   ],
   "source": [
    "import random\n",
    "import string\n",
    "\n",
    "# read the book into a string, use 'r' to prevent reading of special characters in the file name\n",
    "# and replace new line ('\\n') characters with a white space\n",
    "data = open(r\"aroundTW80Days.txt\", \"r\").read().replace('\\n',' ')\n",
    "\n",
    "# Clean the data\n",
    "# Split the book into words\n",
    "book_words = data.split()\n",
    "\n",
    "# create new list, from book_list, with no punctuation, called book_no_punc\n",
    "book_no_punc = list()\n",
    "for word in book_words:\n",
    "    book_no_punc.append(word.strip(string.punctuation))\n",
    "\n",
    "# 1. Number of characters in the book\n",
    "print(\"Number of characters in the book:\", len(data))\n",
    "# 2. Split the book into a sorted list\n",
    "book_list = sorted(list(book_words))\n",
    "rnd = random.randint(100, 109)\n",
    "print(\"Random sample from the sorted book:\", book_list[rnd:rnd+5])\n",
    "# 3. Number of words in the book\n",
    "print(\"Number of words in the book:\", len(book_words))\n",
    "# 4. The first 10 words of the book\n",
    "print(\"The first 10 words from the book:\", book_words[0:10])\n"
   ]
  },
  {
   "cell_type": "markdown",
   "metadata": {},
   "source": [
    " ## 2) Now create a set containing all the unique words in the book [3]\n",
    " - Print the number of unique words it finds"
   ]
  },
  {
   "cell_type": "code",
   "execution_count": 0,
   "metadata": {},
   "outputs": [],
   "source": [
    "# Set stores values only once, so we're going to convert the list containing\n",
    "# all the words in the book into a set, hence getting all the unique words\n",
    "# but first we need to get rid of all the punctuation signs so we don't \n",
    "# count, e.g., \"Francisco?\" and \"Francisco\" as two unique words\n",
    "\n",
    "book_no_punc = list()\n",
    "# create new list, from book_list, with no punctuation, called book_no_punc\n",
    "for word in book_words:\n",
    "    book_no_punc.append(word.strip(string.punctuation))\n",
    "\n",
    "# convert book_no_punc list into a set to obtain the unique values\n",
    "book_unique = set(book_no_punc)\n",
    "print(book_unique)\n"
   ]
  },
  {
   "cell_type": "markdown",
   "metadata": {},
   "source": [
    " ## 3) Build a Dictionary of the words used in the book [3]\n",
    " - Build a Python dictionary (`dict`) in which the keys are the unique words in the book and the values are dictionary objects with fields `length` for word length and `freq` for frequency, e.g.:\n",
    "\n",
    " `{'the': {'length': 3, 'freq': 4303}}`\n"
   ]
  },
  {
   "cell_type": "code",
   "execution_count": 0,
   "metadata": {},
   "outputs": [],
   "source": [
    "book_dict = dict()\n",
    "\n",
    "# !!! WARNING !!! - long execution! Only use if you need the whole dictionary in the memory, otherwise\n",
    "# use the generator version instead\n",
    "\n",
    "# create a dictionary of words with words as the key and a tuple with its length and frequency\n",
    "# for word in book_no_punc:\n",
    "#     book_dict.update({word: (len(word), book_no_punc.count(word))})\n",
    "# print(book_dict)\n"
   ]
  },
  {
   "cell_type": "code",
   "execution_count": 0,
   "metadata": {},
   "outputs": [],
   "source": [
    "# generator version of the same dictionary\n",
    "gen_book_dic = (book_dict.update({word: (len(word), book_no_punc.count(word))}) for word in book_no_punc)\n",
    "# print(gen_book_dic)\n"
   ]
  },
  {
   "cell_type": "markdown",
   "metadata": {},
   "source": [
    " ## 4) Use the dictionary that you created above to find the most commonly used word in the book [3]\n",
    " - Print the word and the number of times it appeared in the book"
   ]
  },
  {
   "cell_type": "code",
   "execution_count": 0,
   "metadata": {},
   "outputs": [],
   "source": [
    "# We're using the book_no_punc list because we don't want to count\n",
    "# \"Francisco?\" and \"Francisco\" twice and get two unique keys and values\n",
    "print(max(book_no_punc, key=lambda x: book_no_punc[1]))\n"
   ]
  },
  {
   "cell_type": "markdown",
   "metadata": {},
   "source": [
    " ## 5) Write a generator function to produce each word and its length each time it yields a value [6]\n",
    "\n",
    " - The function should accept a single argument: the list of words in the book\n",
    " - It should yield a tuple (word, word_len)\n",
    " - Call the function to create a generator but do not iterate over it at this stage"
   ]
  },
  {
   "cell_type": "code",
   "execution_count": 0,
   "metadata": {},
   "outputs": [],
   "source": [
    "# generator expression which yields a tuple of a word and its length\n",
    "wordLenghtGenerator = ((word, len(word)) for word in book_no_punc)\n"
   ]
  },
  {
   "cell_type": "markdown",
   "metadata": {},
   "source": [
    " ## 6) Use a comprehension over the generator you just made to list all the words with 9 letters [6]\n",
    "\n",
    " - Print all those words\n",
    " - Extra points if each word is selected only once"
   ]
  },
  {
   "cell_type": "code",
   "execution_count": 0,
   "metadata": {},
   "outputs": [],
   "source": [
    "# generator expression which yields a tuple of a word of length 9 and its length, which is 9\n",
    "wordLenghtGenerator = ((word, len(word)) for word in book_no_punc if len(word) == 9)\n",
    "\n",
    "# printing words of lenght 9 using the generator expression\n",
    "for word in wordLenghtGenerator:\n",
    "    print(word)\n",
    "\n",
    "# printing words of lenght 9 only once using the generator expression\n",
    "seen_before = list()\n",
    "\n",
    "for word in wordLenghtGenerator:\n",
    "    if word not in seen_before:\n",
    "        seen_before.append(word)\n",
    "\n",
    "for word in seen_before:\n",
    "    print(word)\n",
    "\n",
    "# display(seen_before)\n"
   ]
  },
  {
   "cell_type": "markdown",
   "metadata": {},
   "source": [
    " ## 7) Now iterate over your original list of words, `book_list` and find all the words with more than 14 letters, which do not contain any of these characters: [6]\n",
    "\n",
    " `. - \\ /`"
   ]
  },
  {
   "cell_type": "code",
   "execution_count": 0,
   "metadata": {},
   "outputs": [],
   "source": [
    "# generator to find words with 14 letters or more but without these special characaters `. - \\ /` in them\n",
    "fourteeen_letter = (word for word in book_no_punc if len(word) >= 14\n",
    "    for c in word \n",
    "        if '-' not in word \n",
    "        if '.' not in word\n",
    "        if '\\\\' not in word\n",
    "        if '/' not in word)\n",
    "\n",
    "for i in fourteeen_letter:\n",
    "    print(i)\n"
   ]
  },
  {
   "cell_type": "markdown",
   "metadata": {},
   "source": [
    " ## 8) Split the book into a list of chapters [6]\n",
    "\n",
    "  - This should be a list of strings\n",
    "  - Hint - split on the word 'Chapter'\n",
    "  - Call the list `chapter_list`\n"
   ]
  },
  {
   "cell_type": "code",
   "execution_count": 0,
   "metadata": {},
   "outputs": [],
   "source": [
    "# This section answers Question 8 but it will also prepare the data to answer questions: 9, 10, 11, 12 and 14\n",
    "\n",
    "# these lists will become our 2D tables of:\n",
    "# this will contain 'Chapter N' and its 'Description'\n",
    "table_of_contents = list()\n",
    "# this will contain 'Chapter N' and its 'Content'\n",
    "chapters_and_content = list()\n",
    "\n",
    "# Here we create our 2d tables.\n",
    "# We're iterating through all the words in the book using 'book_words' list.\n",
    "# We will look for the first occurence of \"Chapter\" with regards to spelling.\n",
    "# When we encounter this words this means:\n",
    "# - The next object is chapter's number.\n",
    "# - Next are the uppercase letters so they're the chapter's description.\n",
    "# - Next is the chapter's description, which will end with the next occurence of the word \"Chapter\".\n",
    "# - This ends our iteration; we change the iterators value to point to the current place in the loop\n",
    "#   and proceed to load the next chapter because it's already waiting in the cue!\n",
    "i = 0\n",
    "while i < len(book_words):\n",
    "    # Here we will get the chapter's: name, number, description and content.\n",
    "    if \"Chapter\" in book_words[i]:\n",
    "        # Flush temporary holder lists to prepare them for the next chapters\n",
    "        chapter_tag_holder = list()\n",
    "        chapter_desc_holder = list()\n",
    "        chapter_content_holder = list()\n",
    "\n",
    "        # The next word is the chapter's number, so we save both in a list.\n",
    "        chapter_tag_holder.append(book_words[i] + \" \" + book_words[i+1])\n",
    "        # The next words are all in capitals and are the chapter's description.\n",
    "        j = i+2\n",
    "        # We keep interating until there are no capital letters left.\n",
    "        while book_words[j].isupper():\n",
    "            # Save the chapter's description in a list.\n",
    "            chapter_desc_holder.append(book_words[j])\n",
    "            j+=1\n",
    "        # Use the previous list containing the chapter's name and number, like 'Chapter I',\n",
    "        # and the new list that has its description to create a 2d list of chapters and their descriptions\n",
    "        table_of_contents.append([chapter_tag_holder, chapter_desc_holder])\n",
    "        # If we keep going until we encounter the next word 'Chapter', \n",
    "        # we can get the entire chapter into a list!\n",
    "        while book_words[j] != \"Chapter\" and j != len(book_words)-1:\n",
    "            chapter_content_holder.append(book_words[j])\n",
    "            j+=1\n",
    "        # Use the list containing the chapter name and number and the list with its content\n",
    "        # to create a 2d table of chapters and their content.\n",
    "        chapters_and_content.append([chapter_tag_holder, chapter_content_holder])\n",
    "        # We finished loading the chapter's content because the current word is \"Chapter\" and next\n",
    "        # is the next chapter and we want to do all the steps for it again\n",
    "        # Continue iterating from where 'j' is pointing to.\n",
    "        i=j\n",
    "    else:\n",
    "        i+=1\n",
    "\n",
    "# create a list of chapters\n",
    "chapter_list = [table_of_contents[i][0] for i in range(len(table_of_contents))]\n",
    "# \n",
    "# display(chapter_list)"
   ]
  },
  {
   "cell_type": "markdown",
   "metadata": {},
   "source": [
    " ## 9) Remove the first entry from the chapter list [6]\n",
    " The first item in the chapter list is just the preface and chapter list. Copy that into a separate string variable and then remove it from the chapter list"
   ]
  },
  {
   "cell_type": "code",
   "execution_count": 0,
   "metadata": {},
   "outputs": [],
   "source": [
    "# This question was handeled differently and there was no need for removal of the first entry\n"
   ]
  },
  {
   "cell_type": "markdown",
   "metadata": {},
   "source": [
    " ## 10) Now take each chapter and split it into a list of words, producing a list of lists - one for each chapter [6]"
   ]
  },
  {
   "cell_type": "code",
   "execution_count": 0,
   "metadata": {},
   "outputs": [],
   "source": [
    "# This step was already done in the answer to Question 8\n",
    "table_of_contents\n"
   ]
  },
  {
   "cell_type": "markdown",
   "metadata": {},
   "source": [
    " ## 11) Print only the titles from each chapter [6]\n",
    " - Clue: The title of each chapter is written in UPPER CASE and is the first thing in each chapter. Therefore, printing words until you find one that is not upper case will print the title."
   ]
  },
  {
   "cell_type": "code",
   "execution_count": 0,
   "metadata": {},
   "outputs": [],
   "source": [
    "for i in range(len(table_of_contents)):\n",
    "    print(table_of_contents[i][1])\n"
   ]
  },
  {
   "cell_type": "markdown",
   "metadata": {},
   "source": [
    " ## 12) Measure the length of each chapter and plot the values on a bar chart [9]\n",
    " - Draw a horizontal bar chart so you can read the chapter numbers down the left side\n",
    " - Set the headings to be `Chapter I` to `Chapter XXXVI` do this with code that extracts the chapter headings from the text, not by hand\n",
    " - Give the chart appropriate title and axis labels\n",
    " - Use whatever plotting library you like. Matplotlib is fine."
   ]
  },
  {
   "cell_type": "code",
   "execution_count": 0,
   "metadata": {},
   "outputs": [],
   "source": [
    "# import re\n",
    "# import numpy as np\n",
    "# from matplotlib import pyplot as plt\n",
    "# %matplotlib inline\n",
    "\n",
    "\n"
   ]
  },
  {
   "cell_type": "code",
   "execution_count": 0,
   "metadata": {},
   "outputs": [],
   "source": [
    "# print chapters\n",
    "for i in range(len(table_of_contents)):\n",
    "    print(table_of_contents[i][0])\n"
   ]
  },
  {
   "cell_type": "markdown",
   "metadata": {},
   "source": [
    " ## 13) Plot Locations Mentioned in the Book on a Map [9]\n",
    "\n",
    " - Using a plotting package of your choice, plot the locations of all the cities mentioned in the book\n",
    " - You can use the file called `cities.txt` to look up city names and locations\n",
    " - Look at its contents to work out how to use it. The locations are given as latitude, longitude, altitude (you won't need that last one!)\n",
    " - You should then write code that searches the book for all the cities in `cities.txt`. Any that it finds should be plotted on the map\n",
    " - Here is a useful list of words that appear in the book, but are NOT to be plotted:\n",
    " `['Victoria','San','Imperial','Come','San Pablo','Queenstown','Young','Lincoln','Forster','Formosa']`"
   ]
  },
  {
   "cell_type": "code",
   "execution_count": 2,
   "metadata": {},
   "outputs": [],
   "source": [
    "# goetext was used to find all city names in the book.\n",
    "# The library is not ideal and finds a lot of odd entires.\n",
    "from geotext import GeoText"
   ]
  },
  {
   "cell_type": "code",
   "execution_count": 3,
   "metadata": {},
   "outputs": [],
   "source": [
    "# using geotext library to find all cities in the book\n",
    "places = GeoText(data)\n",
    "# remove duplicates by converting city_names list to a set\n",
    "city_names = list(set(places.cities))\n",
    "\n",
    "# Cleaning the data - removing odd entries.\n",
    "# There is one city in Czech Repubic called \"Most\", which is a determiner in English \n",
    "# but to GeoText, it looks like a name of a city.\n",
    "# Because Phileas Fogg did not visit Most in Czech Republic, this entry is manually removed.\n",
    "city_names.remove('Most')\n",
    "\n",
    "# The data is further improved by going meticuously through all odd entires\n",
    "# in the list of the city names; to my best knowledge, these are:\n",
    "city_names.remove('Stuart')\n",
    "city_names.remove('Of')\n",
    "city_names.remove('Temple')\n",
    "city_names.remove('Asia')\n",
    "city_names.remove('Auburn')\n",
    "city_names.remove('Mission')\n",
    "city_names.remove('Independence')\n",
    "city_names.remove('Imperial')\n",
    "city_names.remove('Wilson')\n",
    "city_names.remove('Deal')\n",
    "city_names.remove('Bay')\n",
    "city_names.remove('Union')\n",
    "city_names.remove('Cedar')\n",
    "city_names.remove('Sioux')\n",
    "city_names.remove('San Pablo')\n",
    "city_names.remove('Saint Joseph')\n",
    "city_names.remove('Fairbanks')\n",
    "city_names.remove('Enfield')\n"
   ]
  },
  {
   "cell_type": "code",
   "execution_count": 4,
   "metadata": {},
   "outputs": [],
   "source": [
    "# folium library is used to plot the cities on the map\n",
    "import folium\n",
    "# geopy library is used to find the city's coordinates based on its name\n",
    "from geopy.geocoders import Nominatim"
   ]
  },
  {
   "cell_type": "code",
   "execution_count": 5,
   "metadata": {},
   "outputs": [],
   "source": [
    "# create folium map\n",
    "m = folium.Map(\n",
    "    location=[0, 0],\n",
    "    zoom_start=2.0,\n",
    "    tiles='Stamen Terrain'\n",
    ")\n",
    "tooltip = 'Click for City\\'s Name!'\n",
    "\n",
    "geolocator = Nominatim(user_agent=\"phileas_fogg_journey\")\n",
    "# create a map of cities from the book\n",
    "for city in city_names:\n",
    "    location = geolocator.geocode(city)\n",
    "    folium.Marker(location=[location.latitude, location.longitude], popup=city, tooltip=tooltip).add_to(m)\n",
    "\n",
    "m.save('80daysCities.html')"
   ]
  },
  {
   "cell_type": "code",
   "execution_count": 6,
   "metadata": {},
   "outputs": [
    {
     "data": {
      "text/html": [
       "<div style=\"width:100%;\"><div style=\"position:relative;width:100%;height:0;padding-bottom:60%;\"><iframe src=\"data:text/html;charset=utf-8;base64,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\" style=\"position:absolute;width:100%;height:100%;left:0;top:0;border:none !important;\" allowfullscreen webkitallowfullscreen mozallowfullscreen></iframe></div></div>"
      ],
      "text/plain": [
       "<folium.folium.Map at 0x11dd46690>"
      ]
     },
     "execution_count": 6,
     "metadata": {},
     "output_type": "execute_result"
    }
   ],
   "source": [
    "# Map of the cities visited by Phileas Fogg (Takes a whole to load)\n",
    "m\n"
   ]
  },
  {
   "cell_type": "markdown",
   "metadata": {},
   "source": [
    " ## 14) NLTK Sentiment Analysis [9]\n",
    "\n",
    " ## Use the VADER tool in the nltk library to analyse the sentiment of each chapter and plot the positive sentiment level over time on a chart"
   ]
  },
  {
   "cell_type": "code",
   "execution_count": 0,
   "metadata": {},
   "outputs": [],
   "source": [
    "# Put your answer: code and comment here\n"
   ]
  },
  {
   "cell_type": "markdown",
   "metadata": {},
   "source": [
    " ## 15) Now think of some further analysis you could do based on the text of this book [19]\n",
    "\n",
    " It should use other data sources you find online and tell an additional story around the data. Suggested data and sources include:\n",
    "\n",
    " - Travel and accommodation sites\n",
    " - User reviews of the book\n",
    " - Book sales data about this and other related books\n",
    " - News stories about places in the book\n",
    " - Travel times and distances\n",
    " - Pictures of places in the book\n",
    "\n",
    " Your analysis might consider how Phileas Fogg would travel if he had to make the same journey today - what would it cost, where might he stay, what would be happening in the places he would visit? How would you aquire the data you need? Can you connect to data online using REST? Do you need to perform scraping with something like ScraPy? What other packages would you need and what would you use them for?\n",
    "\n",
    " Write in English (not Python) about your idea including data sources, Python packages used, presentation and visualisation methods, and potential problems you can forsee.\n",
    "\n",
    " Add some example of code that perform some of the tasks required for your full analysis. You do not have to implement the whole idea, just some illustrative parts.\n",
    "\n",
    " Use as many cells below as you need - both code and markdown to explain your ideas. This part is worth 19 of the marks overall.\n"
   ]
  },
  {
   "cell_type": "code",
   "execution_count": 0,
   "metadata": {},
   "outputs": [],
   "source": [
    "\n",
    "\n",
    "\n",
    "\n"
   ]
  }
 ],
 "metadata": {
  "file_extension": ".py",
  "kernelspec": {
   "display_name": "Python 3",
   "language": "python",
   "name": "python3"
  },
  "language_info": {
   "codemirror_mode": {
    "name": "ipython",
    "version": 3
   },
   "file_extension": ".py",
   "mimetype": "text/x-python",
   "name": "python",
   "nbconvert_exporter": "python",
   "pygments_lexer": "ipython3",
   "version": "3.7.4"
  },
  "mimetype": "text/x-python",
  "name": "python",
  "npconvert_exporter": "python",
  "pygments_lexer": "ipython3",
  "version": 3
 },
 "nbformat": 4,
 "nbformat_minor": 2
}
