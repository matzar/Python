{
 "cells": [
  {
   "cell_type": "markdown",
   "metadata": {},
   "source": [
    " # University of Stirling\n",
    "\n",
    " # ITNPBD2, Representing and Manipulating Data\n",
    "\n",
    " # Assignment 2019\n",
    "\n",
    " # An analysis of the book, Around the World in 80 Days by Jules Verne\n",
    "\n",
    " This notebook forms the assignment instructions and submission document of the assignment for ITNPBD2 in 2019. Read the instructions carefully and enter code into the cells as indicated.\n",
    "\n",
    " You will need to download the text of the book from Canvas - it is in the same place as this file, and called aroundTW80Days.txt.\n",
    "\n",
    " Rename this file to be xxxxxx_BD2 where xxxxxx is your student number, then type your code into the boxes provided. Each question is given in a markdown call, and there is an empty box beneath each one where you enter your answer. These boxes should contain 2 things:\n",
    "\n",
    " - **The code that performs the required task**\n",
    " - **Comments that explain your code**\n",
    "\n",
    " Marks are given for both code (70%) and style and comments (30%). If you cannot get the code to work properly, you will still get some marks for correct comments. The marks available for each question are given in square brackets in each title."
   ]
  },
  {
   "cell_type": "markdown",
   "metadata": {},
   "source": [
    " # Submission and Other Notes\n",
    "\n",
    " - Submit your notebook to canvas when it is complete\n",
    " - Make sure the version you submit contains the results of running every cell. The output should be visible without the need to run the code again\n",
    "\n",
    " ## Plagiarism\n",
    "\n",
    " Plagiarism is presenting somebody else’s work as your own. Plagiarism is a form of academic misconduct and is taken very seriously by the University. Students found to have plagiarised work can have marks deducted and, in serious cases, even be expelled from the University. Do not submit any work that is not entirely your own.\n",
    "\n",
    " The University’s full guidance on academic misconduct can be found here:\n",
    "\n",
    " http://stir.ac.uk/1x0\n"
   ]
  },
  {
   "cell_type": "markdown",
   "metadata": {},
   "source": [
    " ## 1) Open the file `aroundTW80Days.txt` and read its contents into a string [3]\n",
    "\n",
    "\n",
    " 1. Print the number of characters (letters, etc) in the whole book\n",
    " 2. Split the book into a Python list containing all the words of the book in order. At this stage, use string splitting, not a more fancy library like `nltk`. Call this variable `book_list`\n",
    " 3. Print the number of words in the book\n",
    " 4. Print the first 10 words of the book. It should look like this:\n",
    "\n",
    " `['The', 'Project', 'Gutenberg', 'EBook', 'of', 'Around', 'the', 'World', 'in', '80', 'Days,']`"
   ]
  },
  {
   "cell_type": "code",
   "execution_count": 1,
   "metadata": {},
   "outputs": [
    {
     "name": "stdout",
     "output_type": "stream",
     "text": [
      "Number of characters in the book: 390222\n",
      "Random sample from the sorted book: ['\"As', '\"As', '\"Ass!\"', '\"At', '\"At']\n",
      "Number of words in the book: 66313\n",
      "The first 10 words from the book: ['The', 'Project', 'Gutenberg', 'EBook', 'of', 'Around', 'the', 'World', 'in', '80']\n"
     ]
    }
   ],
   "source": [
    "import random\n",
    "import string\n",
    "# import re\n",
    "# import numpy as np\n",
    "# from matplotlib import pyplot as plt\n",
    "# %matplotlib inline\n",
    "\n",
    "# Answer 1\n",
    "# read the book into a string, use 'r' to prevent reading of special characters in the file name\n",
    "# and replace new line ('\\n') characters with a white space\n",
    "data = open(r\"aroundTW80Days.txt\", \"r\").read().replace('\\n',' ')\n",
    "\n",
    "# Clean the data\n",
    "# Split the book into words\n",
    "book_words = data.split()\n",
    "\n",
    "# create new list, from book_list, with no punctuation, called book_no_punc\n",
    "book_no_punc = list()\n",
    "for word in book_words:\n",
    "    book_no_punc.append(word.strip(string.punctuation))\n",
    "\n",
    "# 1. Number of characters in the book\n",
    "print(\"Number of characters in the book:\", len(data))\n",
    "# 2. Split the book into a sorted list\n",
    "book_list = sorted(list(book_words))\n",
    "rnd = random.randint(100, 109)\n",
    "print(\"Random sample from the sorted book:\", book_list[rnd:rnd+5])\n",
    "# 3. Number of words in the book\n",
    "print(\"Number of words in the book:\", len(book_words))\n",
    "# 4. The first 10 words of the book\n",
    "print(\"The first 10 words from the book:\", book_words[0:10])\n"
   ]
  },
  {
   "cell_type": "markdown",
   "metadata": {},
   "source": [
    " ## 2) Now create a set containing all the unique words in the book [3]\n",
    " - Print the number of unique words it finds"
   ]
  },
  {
   "cell_type": "code",
   "execution_count": 0,
   "metadata": {},
   "outputs": [],
   "source": [
    "# Answer 2\n",
    "# Set stores values only once, so we're going to convert the list containing\n",
    "# all the words in the book into a set, hence getting all the unique words\n",
    "# but first we need to get rid of all the punctuation signs so we don't \n",
    "# count, e.g., \"Francisco?\" and \"Francisco\" as two unique words\n",
    "\n",
    "book_no_punc = list()\n",
    "# create new list, from book_list, with no punctuation, called book_no_punc\n",
    "for word in book_words:\n",
    "    book_no_punc.append(word.strip(string.punctuation))\n",
    "\n",
    "# convert book_unique list into a set to obtain the unique values\n",
    "book_unique = set(book_no_punc)\n",
    "print(book_unique)\n"
   ]
  },
  {
   "cell_type": "markdown",
   "metadata": {},
   "source": [
    " ## 3) Build a Dictionary of the words used in the book [3]\n",
    " - Build a Python dictionary (`dict`) in which the keys are the unique words in the book and the values are dictionary objects with fields `length` for word length and `freq` for frequency, e.g.:\n",
    "\n",
    " `{'the': {'length': 3, 'freq': 4303}}`\n"
   ]
  },
  {
   "cell_type": "code",
   "execution_count": 0,
   "metadata": {},
   "outputs": [],
   "source": [
    "# Answer 3 \n",
    "book_dict = dict()\n",
    "\n",
    "# !!! WARNING !!! - long execution! Only use if you need the whole dictionary in the memory, otherwise\n",
    "# use the generator version instead\n",
    "\n",
    "# create a dictionary of words with words as the key and a tuple with its length and frequency\n",
    "# for word in book_no_punc:\n",
    "#     book_dict.update({word: (len(word), book_no_punc.count(word))})\n",
    "# print(book_dict)\n"
   ]
  },
  {
   "cell_type": "code",
   "execution_count": 0,
   "metadata": {},
   "outputs": [],
   "source": [
    "# generator version of the same dictionary\n",
    "gen_book_dic = (book_dict.update({word: (len(word), book_no_punc.count(word))}) for word in book_no_punc)\n",
    "# print(gen_book_dic)\n"
   ]
  },
  {
   "cell_type": "markdown",
   "metadata": {},
   "source": [
    " ## 4) Use the dictionary that you created above to find the most commonly used word in the book [3]\n",
    " - Print the word and the number of times it appeared in the book"
   ]
  },
  {
   "cell_type": "code",
   "execution_count": 0,
   "metadata": {},
   "outputs": [],
   "source": [
    "# Answer 4\n",
    "# We're using the book_no_punc list because we don't want to count\n",
    "# \"Francisco?\" and \"Francisco\" twice and get two unique keys and values\n",
    "print(max(book_no_punc, key=lambda x: book_no_punc[1]))\n"
   ]
  },
  {
   "cell_type": "markdown",
   "metadata": {},
   "source": [
    " ## 5) Write a generator function to produce each word and its length each time it yields a value [6]\n",
    "\n",
    " - The function should accept a single argument: the list of words in the book\n",
    " - It should yield a tuple (word, word_len)\n",
    " - Call the function to create a generator but do not iterate over it at this stage"
   ]
  },
  {
   "cell_type": "code",
   "execution_count": 0,
   "metadata": {},
   "outputs": [],
   "source": [
    "# Answer 5\n",
    "# generator expression which yields a tuple of a word and its length\n",
    "wordLenghtGenerator = ((word, len(word)) for word in book_no_punc)\n"
   ]
  },
  {
   "cell_type": "markdown",
   "metadata": {},
   "source": [
    " ## 6) Use a comprehension over the generator you just made to list all the words with 9 letters [6]\n",
    "\n",
    " - Print all those words\n",
    " - Extra points if each word is selected only once"
   ]
  },
  {
   "cell_type": "code",
   "execution_count": 0,
   "metadata": {},
   "outputs": [],
   "source": [
    "# Answer 6\n",
    "\n",
    "# generator expression which yields a tuple of a word of length 9 and its length, which is 9\n",
    "wordLenghtGenerator = ((word, len(word)) for word in book_no_punc if len(word) == 9)\n",
    "\n",
    "# printing words of lenght 9 using the generator expression\n",
    "for word in wordLenghtGenerator:\n",
    "    print(word)\n",
    "\n",
    "# printing words of lenght 9 only once using the generator expression\n",
    "seen_before = list()\n",
    "\n",
    "for word in wordLenghtGenerator:\n",
    "    if word not in seen_before:\n",
    "        seen_before.append(word)\n",
    "\n",
    "for word in seen_before:\n",
    "    print(word)\n",
    "\n",
    "# display(seen_before)\n"
   ]
  },
  {
   "cell_type": "markdown",
   "metadata": {},
   "source": [
    " ## 7) Now iterate over your original list of words, `book_list` and find all the words with more than 14 letters, which do not contain any of these characters: [6]\n",
    "\n",
    " `. - \\ /`"
   ]
  },
  {
   "cell_type": "code",
   "execution_count": 0,
   "metadata": {},
   "outputs": [],
   "source": [
    "# Answer 7\n",
    "# generator to find words with 14 letters or more but without these special characaters `. - \\ /` in them\n",
    "fourteeen_letter = (word for word in book_no_punc if len(word) >= 14\n",
    "    for c in word \n",
    "        if '-' not in word \n",
    "        if '.' not in word\n",
    "        if '\\\\' not in word\n",
    "        if '/' not in word)\n",
    "\n",
    "for i in fourteeen_letter:\n",
    "    print(i)\n"
   ]
  },
  {
   "cell_type": "markdown",
   "metadata": {},
   "source": [
    " ## 8) Split the book into a list of chapters [6]\n",
    "\n",
    "  - This should be a list of strings\n",
    "  - Hint - split on the word 'Chapter'\n",
    "  - Call the list `chapter_list`\n"
   ]
  },
  {
   "cell_type": "code",
   "execution_count": 2,
   "metadata": {},
   "outputs": [],
   "source": [
    "# This section answers Question 8 but it will also prepare the data to answer questions: 9, 10, 11, 12\n",
    "\n",
    "# these lists will become our 2D tables of:\n",
    "# this will contain 'Chapter N' and its 'Description'\n",
    "table_of_contents = list()\n",
    "# this will contain 'Chapter N' and its 'Content'\n",
    "chapters_and_content = list()\n",
    "\n",
    "# here we create our 2d tables\n",
    "# we're iterating through all the words in the book using 'book_words' list\n",
    "for i in range(len(book_words)-1):\n",
    "    # Keep iterating until you encounter word \"Chapter\".\n",
    "    # This means many things:\n",
    "    if \"Chapter\" in book_words[i]:\n",
    "        # Flush temporary holder lists to prepare them for the next chapters\n",
    "        chapter_tag_holder = list()\n",
    "        chapter_desc_holder = list()\n",
    "        chapter_content_holder = list()\n",
    "\n",
    "        # First, the next word is the chapter's number, so we save both in a list.\n",
    "        chapter_tag_holder.append(book_words[i] + \" \" + book_words[i+1])\n",
    "        # Second, the next words are all in capitals and are the chapter's description.\n",
    "        j = i+2\n",
    "        # We keep interating until there are no capital letters left.\n",
    "        while book_words[j].isupper():\n",
    "            # Save the chapter's description in a list.\n",
    "            chapter_desc_holder.append(book_words[j])\n",
    "            j+=1\n",
    "        # Use the previous list containing the chapter's name and number, like 'Chapter I',\n",
    "        # and the new list that has its description to create a 2d list of chapters and their descriptions\n",
    "        table_of_contents.append([chapter_tag_holder, chapter_desc_holder])\n",
    "        # Thirdly, if we keep going until we encounter the next word 'Chapter', \n",
    "        # we can get the entire chapter into a list!\n",
    "        while book_words[j] != \"Chapter\" and j != len(book_words)-1:\n",
    "            chapter_content_holder.append(book_words[j])\n",
    "            j+=1\n",
    "        # Use the list containing the chapter name and number and the list with its content\n",
    "        # to create a 2d table of chapters and their content.\n",
    "        chapters_and_content.append([chapter_tag_holder, chapter_content_holder])\n",
    "\n"
   ]
  },
  {
   "cell_type": "markdown",
   "metadata": {},
   "source": [
    " ## 9) Remove the first entry from the chapter list [6]\n",
    " The first item in the chapter list is just the preface and chapter list. Copy that into a separate string variable and then remove it from the chapter list"
   ]
  },
  {
   "cell_type": "code",
   "execution_count": 0,
   "metadata": {},
   "outputs": [],
   "source": [
    "# Answer 9\n",
    "# This question was handeled differently and there was no need for removal of the first entry\n"
   ]
  },
  {
   "cell_type": "markdown",
   "metadata": {},
   "source": [
    " ## 10) Now take each chapter and split it into a list of words, producing a list of lists - one for each chapter [6]"
   ]
  },
  {
   "cell_type": "code",
   "execution_count": 0,
   "metadata": {},
   "outputs": [],
   "source": [
    "# This step was already done in the answer to Question 8\n"
   ]
  },
  {
   "cell_type": "markdown",
   "metadata": {},
   "source": [
    " ## 11) Print only the titles from each chapter [6]\n",
    " - Clue: The title of each chapter is written in UPPER CASE and is the first thing in each chapter. Therefore, printing words until you find one that is not upper case will print the title."
   ]
  },
  {
   "cell_type": "code",
   "execution_count": 3,
   "metadata": {},
   "outputs": [
    {
     "name": "stdout",
     "output_type": "stream",
     "text": [
      "['IN', 'WHICH', 'PHILEAS', 'FOGG', 'AND', 'PASSEPARTOUT', 'ACCEPT', 'EACH', 'OTHER,', 'THE', 'ONE', 'AS', 'MASTER,', 'THE', 'OTHER', 'AS', 'MAN']\n",
      "['IN', 'WHICH', 'PASSEPARTOUT', 'IS', 'CONVINCED', 'THAT', 'HE', 'HAS', 'AT', 'LAST', 'FOUND', 'HIS', 'IDEAL']\n",
      "['IN', 'WHICH', 'A', 'CONVERSATION', 'TAKES', 'PLACE', 'WHICH', 'SEEMS', 'LIKELY', 'TO', 'COST', 'PHILEAS', 'FOGG', 'DEAR']\n",
      "['IN', 'WHICH', 'PHILEAS', 'FOGG', 'ASTOUNDS', 'PASSEPARTOUT,', 'HIS', 'SERVANT']\n",
      "['IN', 'WHICH', 'A', 'NEW', 'SPECIES', 'OF', 'FUNDS,', 'UNKNOWN', 'TO', 'THE', 'MONEYED', 'MEN,', 'APPEARS', 'ON', \"'CHANGE\"]\n",
      "['IN', 'WHICH', 'FIX,', 'THE', 'DETECTIVE,', 'BETRAYS', 'A', 'VERY', 'NATURAL', 'IMPATIENCE']\n",
      "['WHICH', 'ONCE', 'MORE', 'DEMONSTRATES', 'THE', 'USELESSNESS', 'OF', 'PASSPORTS', 'AS', 'AIDS', 'TO', 'DETECTIVES']\n",
      "['IN', 'WHICH', 'PASSEPARTOUT', 'TALKS', 'RATHER', 'MORE,', 'PERHAPS,', 'THAN', 'IS', 'PRUDENT']\n",
      "['IN', 'WHICH', 'THE', 'RED', 'SEA', 'AND', 'THE', 'INDIAN', 'OCEAN', 'PROVE', 'PROPITIOUS', 'TO', 'THE', 'DESIGNS', 'OF', 'PHILEAS', 'FOGG']\n",
      "['IN', 'WHICH', 'PASSEPARTOUT', 'IS', 'ONLY', 'TOO', 'GLAD', 'TO', 'GET', 'OFF', 'WITH', 'THE', 'LOSS', 'OF', 'HIS', 'SHOES']\n",
      "['IN', 'WHICH', 'PHILEAS', 'FOGG', 'SECURES', 'A', 'CURIOUS', 'MEANS', 'OF', 'CONVEYANCE', 'AT', 'A', 'FABULOUS', 'PRICE']\n",
      "['IN', 'WHICH', 'PHILEAS', 'FOGG', 'AND', 'HIS', 'COMPANIONS', 'VENTURE', 'ACROSS', 'THE', 'INDIAN', 'FORESTS,', 'AND', 'WHAT', 'ENSUED']\n",
      "['IN', 'WHICH', 'PASSEPARTOUT', 'RECEIVES', 'A', 'NEW', 'PROOF', 'THAT', 'FORTUNE', 'FAVORS', 'THE', 'BRAVE']\n",
      "['IN', 'WHICH', 'PHILEAS', 'FOGG', 'DESCENDS', 'THE', 'WHOLE', 'LENGTH', 'OF', 'THE', 'BEAUTIFUL', 'VALLEY', 'OF', 'THE', 'GANGES', 'WITHOUT', 'EVER', 'THINKING', 'OF', 'SEEING', 'IT']\n",
      "['IN', 'WHICH', 'THE', 'BAG', 'OF', 'BANKNOTES', 'DISGORGES', 'SOME', 'THOUSANDS', 'OF', 'POUNDS', 'MORE']\n",
      "['IN', 'WHICH', 'FIX', 'DOES', 'NOT', 'SEEM', 'TO', 'UNDERSTAND', 'IN', 'THE', 'LEAST', 'WHAT', 'IS', 'SAID', 'TO', 'HIM']\n",
      "['SHOWING', 'WHAT', 'HAPPENED', 'ON', 'THE', 'VOYAGE', 'FROM', 'SINGAPORE', 'TO', 'HONG', 'KONG']\n",
      "['IN', 'WHICH', 'PHILEAS', 'FOGG,', 'PASSEPARTOUT,', 'AND', 'FIX', 'GO', 'EACH', 'ABOUT', 'HIS', 'BUSINESS']\n",
      "['IN', 'WHICH', 'PASSEPARTOUT', 'TAKES', 'A', 'TOO', 'GREAT', 'INTEREST', 'IN', 'HIS', 'MASTER,', 'AND', 'WHAT', 'COMES', 'OF', 'IT']\n",
      "['IN', 'WHICH', 'FIX', 'COMES', 'FACE', 'TO', 'FACE', 'WITH', 'PHILEAS', 'FOGG']\n",
      "['IN', 'WHICH', 'THE', 'MASTER', 'OF', 'THE', '\"TANKADERE\"', 'RUNS', 'GREAT', 'RISK', 'OF', 'LOSING', 'A', 'REWARD', 'OF', 'TWO', 'HUNDRED', 'POUNDS']\n",
      "['IN', 'WHICH', 'PASSEPARTOUT', 'FINDS', 'OUT', 'THAT,', 'EVEN', 'AT', 'THE', 'ANTIPODES,', 'IT', 'IS', 'CONVENIENT', 'TO', 'HAVE', 'SOME', 'MONEY', 'IN', \"ONE'S\", 'POCKET']\n",
      "['IN', 'WHICH', \"PASSEPARTOUT'S\", 'NOSE', 'BECOMES', 'OUTRAGEOUSLY', 'LONG']\n",
      "['DURING', 'WHICH', 'MR.', 'FOGG', 'AND', 'PARTY', 'CROSS', 'THE', 'PACIFIC', 'OCEAN']\n",
      "['IN', 'WHICH', 'A', 'SLIGHT', 'GLIMPSE', 'IS', 'HAD', 'OF', 'SAN', 'FRANCISCO']\n",
      "['IN', 'WHICH', 'PHILEAS', 'FOGG', 'AND', 'PARTY', 'TRAVEL', 'BY', 'THE', 'PACIFIC', 'RAILROAD']\n",
      "['IN', 'WHICH', 'PASSEPARTOUT', 'UNDERGOES,', 'AT', 'A', 'SPEED', 'OF', 'TWENTY', 'MILES', 'AN', 'HOUR,', 'A', 'COURSE', 'OF', 'MORMON', 'HISTORY']\n",
      "['IN', 'WHICH', 'PASSEPARTOUT', 'DOES', 'NOT', 'SUCCEED', 'IN', 'MAKING', 'ANYBODY', 'LISTEN', 'TO', 'REASON']\n",
      "['IN', 'WHICH', 'CERTAIN', 'INCIDENTS', 'ARE', 'NARRATED', 'WHICH', 'ARE', 'ONLY', 'TO', 'BE', 'MET', 'WITH', 'ON', 'AMERICAN', 'RAILROADS']\n",
      "['IN', 'WHICH', 'PHILEAS', 'FOGG', 'SIMPLY', 'DOES', 'HIS', 'DUTY']\n",
      "['IN', 'WHICH', 'FIX,', 'THE', 'DETECTIVE,', 'CONSIDERABLY', 'FURTHERS', 'THE', 'INTERESTS', 'OF', 'PHILEAS', 'FOGG']\n",
      "['IN', 'WHICH', 'PHILEAS', 'FOGG', 'ENGAGES', 'IN', 'A', 'DIRECT', 'STRUGGLE', 'WITH', 'BAD', 'FORTUNE']\n",
      "['IN', 'WHICH', 'PHILEAS', 'FOGG', 'SHOWS', 'HIMSELF', 'EQUAL', 'TO', 'THE', 'OCCASION']\n",
      "['IN', 'WHICH', 'PHILEAS', 'FOGG', 'AT', 'LAST', 'REACHES', 'LONDON']\n",
      "['IN', 'WHICH', 'PHILEAS', 'FOGG', 'DOES', 'NOT', 'HAVE', 'TO', 'REPEAT', 'HIS', 'ORDERS', 'TO', 'PASSEPARTOUT', 'TWICE']\n",
      "['IN', 'WHICH', 'PHILEAS', \"FOGG'S\", 'NAME', 'IS', 'ONCE', 'MORE', 'AT', 'A', 'PREMIUM', 'ON', \"'CHANGE\"]\n",
      "['IN', 'WHICH', 'IT', 'IS', 'SHOWN', 'THAT', 'PHILEAS', 'FOGG', 'GAINED', 'NOTHING', 'BY', 'HIS', 'TOUR', 'AROUND', 'THE', 'WORLD,', 'UNLESS', 'IT', 'WERE', 'HAPPINESS']\n"
     ]
    }
   ],
   "source": [
    "# Answer 11\n",
    "for i in range(len(table_of_contents)):\n",
    "    print(table_of_contents[i][1])\n"
   ]
  },
  {
   "cell_type": "markdown",
   "metadata": {},
   "source": [
    " ## 12) Measure the length of each chapter and plot the values on a bar chart [9]\n",
    " - Draw a horizontal bar chart so you can read the chapter numbers down the left side\n",
    " - Set the headings to be `Chapter I` to `Chapter XXXVI` do this with code that extracts the chapter headings from the text, not by hand\n",
    " - Give the chart appropriate title and axis labels\n",
    " - Use whatever plotting library you like. Matplotlib is fine."
   ]
  },
  {
   "cell_type": "code",
   "execution_count": 4,
   "metadata": {},
   "outputs": [
    {
     "name": "stdout",
     "output_type": "stream",
     "text": [
      "['Chapter I']\n",
      "['Chapter II']\n",
      "['Chapter III']\n",
      "['Chapter IV']\n",
      "['Chapter V']\n",
      "['Chapter VI']\n",
      "['Chapter VII']\n",
      "['Chapter VIII']\n",
      "['Chapter IX']\n",
      "['Chapter X']\n",
      "['Chapter XI']\n",
      "['Chapter XII']\n",
      "['Chapter XIII']\n",
      "['Chapter XIV']\n",
      "['Chapter XV']\n",
      "['Chapter XVI']\n",
      "['Chapter XVII']\n",
      "['Chapter XVIII']\n",
      "['Chapter XIX']\n",
      "['Chapter XX']\n",
      "['Chapter XXI']\n",
      "['Chapter XXII']\n",
      "['Chapter XXIII']\n",
      "['Chapter XXIV']\n",
      "['Chapter XXV']\n",
      "['Chapter XXVI']\n",
      "['Chapter XXVII']\n",
      "['Chapter XXVIII']\n",
      "['Chapter XXIX']\n",
      "['Chapter XXX']\n",
      "['Chapter XXXI']\n",
      "['Chapter XXXII']\n",
      "['Chapter XXXIII']\n",
      "['Chapter XXXIV']\n",
      "['Chapter XXXV']\n",
      "['Chapter XXXVI']\n",
      "['Chapter XXXVII']\n"
     ]
    }
   ],
   "source": [
    "# Answer 12\n",
    "# print chapters\n",
    "for i in range(len(table_of_contents)):\n",
    "    print(table_of_contents[i][0])\n"
   ]
  },
  {
   "cell_type": "markdown",
   "metadata": {},
   "source": [
    " ## 13) Plot Locations Mentioned in the Book on a Map [9]\n",
    "\n",
    " - Using a plotting package of your choice, plot the locations of all the cities mentioned in the book\n",
    " - You can use the file called `cities.txt` to look up city names and locations\n",
    " - Look at its contents to work out how to use it. The locations are given as latitude, longitude, altitude (you won't need that last one!)\n",
    " - You should then write code that searches the book for all the cities in `cities.txt`. Any that it finds should be plotted on the map\n",
    " - Here is a useful list of words that appear in the book, but are NOT to be plotted:\n",
    "\n",
    " `['Victoria','San','Imperial','Come','San Pablo','Queenstown','Young','Lincoln','Forster','Formosa']`"
   ]
  },
  {
   "cell_type": "code",
   "execution_count": 0,
   "metadata": {},
   "outputs": [],
   "source": [
    "# Put your answer: code and comment here\n"
   ]
  },
  {
   "cell_type": "markdown",
   "metadata": {},
   "source": [
    " ## 14) NLTK Sentiment Analysis [9]\n",
    "\n",
    " ## Use the VADER tool in the nltk library to analyse the sentiment of each chapter and plot the positive sentiment level over time on a chart"
   ]
  },
  {
   "cell_type": "code",
   "execution_count": 0,
   "metadata": {},
   "outputs": [],
   "source": [
    "# Put your answer: code and comment here\n"
   ]
  },
  {
   "cell_type": "markdown",
   "metadata": {},
   "source": [
    " ## 15) Now think of some further analysis you could do based on the text of this book [19]\n",
    "\n",
    " It should use other data sources you find online and tell an additional story around the data. Suggested data and sources include:\n",
    "\n",
    " - Travel and accommodation sites\n",
    " - User reviews of the book\n",
    " - Book sales data about this and other related books\n",
    " - News stories about places in the book\n",
    " - Travel times and distances\n",
    " - Pictures of places in the book\n",
    "\n",
    " Your analysis might consider how Phileas Fogg would travel if he had to make the same journey today - what would it cost, where might he stay, what would be happening in the places he would visit? How would you aquire the data you need? Can you connect to data online using REST? Do you need to perform scraping with something like ScraPy? What other packages would you need and what would you use them for?\n",
    "\n",
    " Write in English (not Python) about your idea including data sources, Python packages used, presentation and visualisation methods, and potential problems you can forsee.\n",
    "\n",
    " Add some example of code that perform some of the tasks required for your full analysis. You do not have to implement the whole idea, just some illustrative parts.\n",
    "\n",
    " Use as many cells below as you need - both code and markdown to explain your ideas. This part is worth 19 of the marks overall.\n"
   ]
  },
  {
   "cell_type": "code",
   "execution_count": 0,
   "metadata": {},
   "outputs": [],
   "source": [
    "\n",
    "\n",
    "\n"
   ]
  }
 ],
 "metadata": {
  "file_extension": ".py",
  "kernelspec": {
   "display_name": "Python 3",
   "language": "python",
   "name": "python3"
  },
  "language_info": {
   "codemirror_mode": {
    "name": "ipython",
    "version": 3
   },
   "file_extension": ".py",
   "mimetype": "text/x-python",
   "name": "python",
   "nbconvert_exporter": "python",
   "pygments_lexer": "ipython3",
   "version": "3.7.4"
  },
  "mimetype": "text/x-python",
  "name": "python",
  "npconvert_exporter": "python",
  "pygments_lexer": "ipython3",
  "version": 3
 },
 "nbformat": 4,
 "nbformat_minor": 2
}
