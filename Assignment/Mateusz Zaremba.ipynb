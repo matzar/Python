{
 "cells": [
  {
   "cell_type": "markdown",
   "metadata": {},
   "source": [
    " # University of Stirling\n",
    "\n",
    " # ITNPBD2, Representing and Manipulating Data\n",
    "\n",
    " # Assignment 2019\n",
    "\n",
    " # An analysis of the book, Around the World in 80 Days by Jules Verne\n",
    "\n",
    " This notebook forms the assignment instructions and submission document of the assignment for ITNPBD2 in 2019. Read the instructions carefully and enter code into the cells as indicated.\n",
    "\n",
    " You will need to download the text of the book from Canvas - it is in the same place as this file, and called aroundTW80Days.txt.\n",
    "\n",
    " Rename this file to be xxxxxx_BD2 where xxxxxx is your student number, then type your code into the boxes provided. Each question is given in a markdown call, and there is an empty box beneath each one where you enter your answer. These boxes should contain 2 things:\n",
    "\n",
    " - **The code that performs the required task**\n",
    " - **Comments that explain your code**\n",
    "\n",
    " Marks are given for both code (70%) and style and comments (30%). If you cannot get the code to work properly, you will still get some marks for correct comments. The marks available for each question are given in square brackets in each title."
   ]
  },
  {
   "cell_type": "markdown",
   "metadata": {},
   "source": [
    " # Submission and Other Notes\n",
    "\n",
    " - Submit your notebook to canvas when it is complete\n",
    " - Make sure the version you submit contains the results of running every cell. The output should be visible without the need to run the code again\n",
    "\n",
    " ## Plagiarism\n",
    "\n",
    " Plagiarism is presenting somebody else’s work as your own. Plagiarism is a form of academic misconduct and is taken very seriously by the University. Students found to have plagiarised work can have marks deducted and, in serious cases, even be expelled from the University. Do not submit any work that is not entirely your own.\n",
    "\n",
    " The University’s full guidance on academic misconduct can be found here:\n",
    "\n",
    " http://stir.ac.uk/1x0\n"
   ]
  },
  {
   "cell_type": "markdown",
   "metadata": {},
   "source": [
    " ## 1) Open the file `aroundTW80Days.txt` and read its contents into a string [3]\n",
    "\n",
    "\n",
    " 1. Print the number of characters (letters, etc) in the whole book\n",
    " 2. Split the book into a Python list containing all the words of the book in order. At this stage, use string splitting, not a more fancy library like `nltk`. Call this variable `book_list`\n",
    " 3. Print the number of words in the book\n",
    " 4. Print the first 10 words of the book. It should look like this:\n",
    "\n",
    " `['The', 'Project', 'Gutenberg', 'EBook', 'of', 'Around', 'the', 'World', 'in', '80', 'Days,']`"
   ]
  },
  {
   "cell_type": "code",
   "execution_count": 1,
   "metadata": {},
   "outputs": [
    {
     "name": "stdout",
     "output_type": "stream",
     "text": [
      "Number of characters in the book: 390222\n",
      "Random sample from the sorted book: ['\"As', '\"As', '\"As', '\"Ass!\"', '\"At']\n",
      "Number of words in the book: 66313\n",
      "The first 10 words from the book: ['The', 'Project', 'Gutenberg', 'EBook', 'of', 'Around', 'the', 'World', 'in', '80']\n"
     ]
    }
   ],
   "source": [
    "import random\n",
    "import string\n",
    "# import re\n",
    "# import numpy as np\n",
    "# from matplotlib import pyplot as plt\n",
    "# %matplotlib inline\n",
    "\n",
    "# Answer 1\n",
    "# read the book into a string, use 'r' to prevent reading of special characters in the file name\n",
    "# and replace new line ('\\n') characters with a white space\n",
    "data = open(r\"aroundTW80Days.txt\", \"r\").read().replace('\\n',' ')\n",
    "\n",
    "# Clean the data\n",
    "# Split the book into words\n",
    "book_words = data.split()\n",
    "\n",
    "# create new list, from book_list, with no punctuation, called book_no_punc\n",
    "book_no_punc = list()\n",
    "for word in book_words:\n",
    "    book_no_punc.append(word.strip(string.punctuation))\n",
    "\n",
    "# 1. Number of characters in the book\n",
    "print(\"Number of characters in the book:\", len(data))\n",
    "# 2. Split the book into a sorted list\n",
    "book_list = sorted(list(book_words))\n",
    "rnd = random.randint(100, 109)\n",
    "print(\"Random sample from the sorted book:\", book_list[rnd:rnd+5])\n",
    "# 3. Number of words in the book\n",
    "print(\"Number of words in the book:\", len(book_words))\n",
    "# 4. The first 10 words of the book\n",
    "print(\"The first 10 words from the book:\", book_words[0:10])\n"
   ]
  },
  {
   "cell_type": "markdown",
   "metadata": {},
   "source": [
    " ## 2) Now create a set containing all the unique words in the book [3]\n",
    " - Print the number of unique words it finds"
   ]
  },
  {
   "cell_type": "code",
   "execution_count": 0,
   "metadata": {},
   "outputs": [],
   "source": [
    "# Answer 2\n",
    "# Set stores values only once, so we're going to convert the list containing\n",
    "# all the words in the book into a set, hence getting all the unique words\n",
    "# but first we need to get rid of all the punctuation signs so we don't \n",
    "# count, e.g., \"Francisco?\" and \"Francisco\" as two unique words\n",
    "\n",
    "book_no_punc = list()\n",
    "# create new list, from book_list, with no punctuation, called book_no_punc\n",
    "for word in book_words:\n",
    "    book_no_punc.append(word.strip(string.punctuation))\n",
    "\n",
    "# convert book_no_punc list into a set to obtain the unique values\n",
    "book_unique = set(book_no_punc)\n",
    "print(book_unique)\n"
   ]
  },
  {
   "cell_type": "markdown",
   "metadata": {},
   "source": [
    " ## 3) Build a Dictionary of the words used in the book [3]\n",
    " - Build a Python dictionary (`dict`) in which the keys are the unique words in the book and the values are dictionary objects with fields `length` for word length and `freq` for frequency, e.g.:\n",
    "\n",
    " `{'the': {'length': 3, 'freq': 4303}}`\n"
   ]
  },
  {
   "cell_type": "code",
   "execution_count": 0,
   "metadata": {},
   "outputs": [],
   "source": [
    "# Answer 3 \n",
    "book_dict = dict()\n",
    "\n",
    "# !!! WARNING !!! - long execution! Only use if you need the whole dictionary in the memory, otherwise\n",
    "# use the generator version instead\n",
    "\n",
    "# create a dictionary of words with words as the key and a tuple with its length and frequency\n",
    "# for word in book_no_punc:\n",
    "#     book_dict.update({word: (len(word), book_no_punc.count(word))})\n",
    "# print(book_dict)\n"
   ]
  },
  {
   "cell_type": "code",
   "execution_count": 0,
   "metadata": {},
   "outputs": [],
   "source": [
    "# generator version of the same dictionary\n",
    "gen_book_dic = (book_dict.update({word: (len(word), book_no_punc.count(word))}) for word in book_no_punc)\n",
    "# print(gen_book_dic)\n"
   ]
  },
  {
   "cell_type": "markdown",
   "metadata": {},
   "source": [
    " ## 4) Use the dictionary that you created above to find the most commonly used word in the book [3]\n",
    " - Print the word and the number of times it appeared in the book"
   ]
  },
  {
   "cell_type": "code",
   "execution_count": 0,
   "metadata": {},
   "outputs": [],
   "source": [
    "# Answer 4\n",
    "# We're using the book_no_punc list because we don't want to count\n",
    "# \"Francisco?\" and \"Francisco\" twice and get two unique keys and values\n",
    "print(max(book_no_punc, key=lambda x: book_no_punc[1]))\n"
   ]
  },
  {
   "cell_type": "markdown",
   "metadata": {},
   "source": [
    " ## 5) Write a generator function to produce each word and its length each time it yields a value [6]\n",
    "\n",
    " - The function should accept a single argument: the list of words in the book\n",
    " - It should yield a tuple (word, word_len)\n",
    " - Call the function to create a generator but do not iterate over it at this stage"
   ]
  },
  {
   "cell_type": "code",
   "execution_count": 0,
   "metadata": {},
   "outputs": [],
   "source": [
    "# Answer 5\n",
    "# generator expression which yields a tuple of a word and its length\n",
    "wordLenghtGenerator = ((word, len(word)) for word in book_no_punc)\n"
   ]
  },
  {
   "cell_type": "markdown",
   "metadata": {},
   "source": [
    " ## 6) Use a comprehension over the generator you just made to list all the words with 9 letters [6]\n",
    "\n",
    " - Print all those words\n",
    " - Extra points if each word is selected only once"
   ]
  },
  {
   "cell_type": "code",
   "execution_count": 0,
   "metadata": {},
   "outputs": [],
   "source": [
    "# Answer 6\n",
    "\n",
    "# generator expression which yields a tuple of a word of length 9 and its length, which is 9\n",
    "wordLenghtGenerator = ((word, len(word)) for word in book_no_punc if len(word) == 9)\n",
    "\n",
    "# printing words of lenght 9 using the generator expression\n",
    "for word in wordLenghtGenerator:\n",
    "    print(word)\n",
    "\n",
    "# printing words of lenght 9 only once using the generator expression\n",
    "seen_before = list()\n",
    "\n",
    "for word in wordLenghtGenerator:\n",
    "    if word not in seen_before:\n",
    "        seen_before.append(word)\n",
    "\n",
    "for word in seen_before:\n",
    "    print(word)\n",
    "\n",
    "# display(seen_before)\n"
   ]
  },
  {
   "cell_type": "markdown",
   "metadata": {},
   "source": [
    " ## 7) Now iterate over your original list of words, `book_list` and find all the words with more than 14 letters, which do not contain any of these characters: [6]\n",
    "\n",
    " `. - \\ /`"
   ]
  },
  {
   "cell_type": "code",
   "execution_count": 0,
   "metadata": {},
   "outputs": [],
   "source": [
    "# Answer 7\n",
    "# generator to find words with 14 letters or more but without these special characaters `. - \\ /` in them\n",
    "fourteeen_letter = (word for word in book_no_punc if len(word) >= 14\n",
    "    for c in word \n",
    "        if '-' not in word \n",
    "        if '.' not in word\n",
    "        if '\\\\' not in word\n",
    "        if '/' not in word)\n",
    "\n",
    "for i in fourteeen_letter:\n",
    "    print(i)\n"
   ]
  },
  {
   "cell_type": "markdown",
   "metadata": {},
   "source": [
    " ## 8) Split the book into a list of chapters [6]\n",
    "\n",
    "  - This should be a list of strings\n",
    "  - Hint - split on the word 'Chapter'\n",
    "  - Call the list `chapter_list`\n"
   ]
  },
  {
   "cell_type": "code",
   "execution_count": 0,
   "metadata": {},
   "outputs": [],
   "source": [
    "# This section answers Question 8 but it will also prepare the data to answer questions: 9, 10, 11, 12 and 14\n",
    "\n",
    "# these lists will become our 2D tables of:\n",
    "# this will contain 'Chapter N' and its 'Description'\n",
    "table_of_contents = list()\n",
    "# this will contain 'Chapter N' and its 'Content'\n",
    "chapters_and_content = list()\n",
    "\n",
    "# Here we create our 2d tables.\n",
    "# We're iterating through all the words in the book using 'book_words' list.\n",
    "# We will look for the first occurence of \"Chapter\" with regards to spelling.\n",
    "# When we encounter this words this means:\n",
    "# - The next object is chapter's number.\n",
    "# - Next are the uppercase letters so they're the chapter's description.\n",
    "# - Next is the chapter's description, which will end with the next occurence of the word \"Chapter\".\n",
    "# - This ends our iteration; we change the iterators value to point to the current place in the loop\n",
    "#   and proceed to load the next chapter because it's already waiting in the cue!\n",
    "i = 0\n",
    "while i < len(book_words):\n",
    "    # Here we will get the chapter's: name, number, description and content.\n",
    "    if \"Chapter\" in book_words[i]:\n",
    "        # Flush temporary holder lists to prepare them for the next chapters\n",
    "        chapter_tag_holder = list()\n",
    "        chapter_desc_holder = list()\n",
    "        chapter_content_holder = list()\n",
    "\n",
    "        # The next word is the chapter's number, so we save both in a list.\n",
    "        chapter_tag_holder.append(book_words[i] + \" \" + book_words[i+1])\n",
    "        # The next words are all in capitals and are the chapter's description.\n",
    "        j = i+2\n",
    "        # We keep interating until there are no capital letters left.\n",
    "        while book_words[j].isupper():\n",
    "            # Save the chapter's description in a list.\n",
    "            chapter_desc_holder.append(book_words[j])\n",
    "            j+=1\n",
    "        # Use the previous list containing the chapter's name and number, like 'Chapter I',\n",
    "        # and the new list that has its description to create a 2d list of chapters and their descriptions\n",
    "        table_of_contents.append([chapter_tag_holder, chapter_desc_holder])\n",
    "        # If we keep going until we encounter the next word 'Chapter', \n",
    "        # we can get the entire chapter into a list!\n",
    "        while book_words[j] != \"Chapter\" and j != len(book_words)-1:\n",
    "            chapter_content_holder.append(book_words[j])\n",
    "            j+=1\n",
    "        # Use the list containing the chapter name and number and the list with its content\n",
    "        # to create a 2d table of chapters and their content.\n",
    "        chapters_and_content.append([chapter_tag_holder, chapter_content_holder])\n",
    "        # We finished loading the chapter's content because the current word is \"Chapter\" and next\n",
    "        # is the next chapter and we want to do all the steps for it again\n",
    "        # Continue iterating from where 'j' is pointing to.\n",
    "        i=j\n",
    "    else:\n",
    "        i+=1\n",
    "\n",
    "# create a list of chapters\n",
    "chapter_list = [table_of_contents[i][0] for i in range(len(table_of_contents))]\n",
    "# \n",
    "# display(chapter_list)"
   ]
  },
  {
   "cell_type": "markdown",
   "metadata": {},
   "source": [
    " ## 9) Remove the first entry from the chapter list [6]\n",
    " The first item in the chapter list is just the preface and chapter list. Copy that into a separate string variable and then remove it from the chapter list"
   ]
  },
  {
   "cell_type": "code",
   "execution_count": 0,
   "metadata": {},
   "outputs": [],
   "source": [
    "# Answer 9\n",
    "# This question was handeled differently and there was no need for removal of the first entry\n"
   ]
  },
  {
   "cell_type": "markdown",
   "metadata": {},
   "source": [
    " ## 10) Now take each chapter and split it into a list of words, producing a list of lists - one for each chapter [6]"
   ]
  },
  {
   "cell_type": "code",
   "execution_count": 0,
   "metadata": {},
   "outputs": [],
   "source": [
    "# This step was already done in the answer to Question 8\n",
    "table_of_contents\n"
   ]
  },
  {
   "cell_type": "markdown",
   "metadata": {},
   "source": [
    " ## 11) Print only the titles from each chapter [6]\n",
    " - Clue: The title of each chapter is written in UPPER CASE and is the first thing in each chapter. Therefore, printing words until you find one that is not upper case will print the title."
   ]
  },
  {
   "cell_type": "code",
   "execution_count": 0,
   "metadata": {},
   "outputs": [],
   "source": [
    "# Answer 11\n",
    "for i in range(len(table_of_contents)):\n",
    "    print(table_of_contents[i][1])\n"
   ]
  },
  {
   "cell_type": "markdown",
   "metadata": {},
   "source": [
    " ## 12) Measure the length of each chapter and plot the values on a bar chart [9]\n",
    " - Draw a horizontal bar chart so you can read the chapter numbers down the left side\n",
    " - Set the headings to be `Chapter I` to `Chapter XXXVI` do this with code that extracts the chapter headings from the text, not by hand\n",
    " - Give the chart appropriate title and axis labels\n",
    " - Use whatever plotting library you like. Matplotlib is fine."
   ]
  },
  {
   "cell_type": "code",
   "execution_count": 0,
   "metadata": {},
   "outputs": [],
   "source": [
    "# Answer 12\n",
    "# print chapters\n",
    "for i in range(len(table_of_contents)):\n",
    "    print(table_of_contents[i][0])\n"
   ]
  },
  {
   "cell_type": "markdown",
   "metadata": {},
   "source": [
    " ## 13) Plot Locations Mentioned in the Book on a Map [9]\n",
    "\n",
    " - Using a plotting package of your choice, plot the locations of all the cities mentioned in the book\n",
    " - You can use the file called `cities.txt` to look up city names and locations\n",
    " - Look at its contents to work out how to use it. The locations are given as latitude, longitude, altitude (you won't need that last one!)\n",
    " - You should then write code that searches the book for all the cities in `cities.txt`. Any that it finds should be plotted on the map\n",
    " - Here is a useful list of words that appear in the book, but are NOT to be plotted:\n",
    " `['Victoria','San','Imperial','Come','San Pablo','Queenstown','Young','Lincoln','Forster','Formosa']`"
   ]
  },
  {
   "cell_type": "code",
   "execution_count": 2,
   "metadata": {},
   "outputs": [],
   "source": [
    "from geotext import GeoText\n"
   ]
  },
  {
   "cell_type": "code",
   "execution_count": 3,
   "metadata": {},
   "outputs": [],
   "source": [
    "# using geotext library to find all cities in the book\n",
    "places = GeoText(data)\n",
    "# remove duplicates by converting city_names list to a set\n",
    "city_names = list(set(places.cities))\n",
    "\n",
    "# Cleaning the data - removing odd entries.\n",
    "# There is one city in Czech Repubic called \"Most\", which is a determiner in English \n",
    "# but to GeoText, it looks like a name of a city.\n",
    "# Because Phileas Fogg did not visit Most in Czech Republic, this entry is manually removed.\n",
    "city_names.remove('Most')\n",
    "# Other odd entries were manually removed as well:\n",
    "# Name\n",
    "city_names.remove('Stuart')\n",
    "# Preposition\n",
    "city_names.remove('Of')\n",
    "# Noun\n",
    "city_names.remove('Temple')\n",
    "# Continent\n",
    "city_names.remove('Asia')\n",
    "# Just a junction\n",
    "city_names.remove('Auburn')\n",
    "# Just a word, not a place\n",
    "city_names.remove('Mission')\n",
    "# Just a word, not a place\n",
    "city_names.remove('Independence')\n",
    "# Colour\n",
    "city_names.remove('Imperial')\n",
    "# Name\n",
    "city_names.remove('Wilson')\n",
    "# Word, not a place\n",
    "city_names.remove('Deal')\n",
    "# Not a place in the book\n",
    "city_names.remove('Bay')\n",
    "# Not a place\n",
    "city_names.remove('Union')\n",
    "# Not a place\n",
    "city_names.remove('Cedar')\n",
    "# Not a place\n",
    "city_names.remove('Sioux')"
   ]
  },
  {
   "cell_type": "code",
   "execution_count": 4,
   "metadata": {},
   "outputs": [],
   "source": [
    "import folium\n",
    "from geopy.geocoders import Nominatim\n"
   ]
  },
  {
   "cell_type": "code",
   "execution_count": 5,
   "metadata": {},
   "outputs": [],
   "source": [
    "# create folium map\n",
    "m = folium.Map(\n",
    "    location=[0, 0],\n",
    "    zoom_start=2.0,\n",
    "    tiles='Stamen Terrain'\n",
    ")\n",
    "tooltip = 'Click for City\\'s Name!'\n",
    "\n",
    "geolocator = Nominatim(user_agent=\"phileas_fogg_journey\")\n",
    "# create a map of cities from the book\n",
    "for city in city_names:\n",
    "    location = geolocator.geocode(city)\n",
    "    folium.Marker(location=[location.latitude, location.longitude], popup=city, tooltip=tooltip).add_to(m)\n",
    "\n",
    "m.save('80daysCities.html')"
   ]
  },
  {
   "cell_type": "code",
   "execution_count": 6,
   "metadata": {},
   "outputs": [
    {
     "data": {
      "text/html": [
       "<div style=\"width:100%;\"><div style=\"position:relative;width:100%;height:0;padding-bottom:60%;\"><iframe src=\"data:text/html;charset=utf-8;base64,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\" style=\"position:absolute;width:100%;height:100%;left:0;top:0;border:none !important;\" allowfullscreen webkitallowfullscreen mozallowfullscreen></iframe></div></div>"
      ],
      "text/plain": [
       "<folium.folium.Map at 0x102b60090>"
      ]
     },
     "execution_count": 6,
     "metadata": {},
     "output_type": "execute_result"
    }
   ],
   "source": [
    "# Map of the cities visited by Phileas Fogg\n",
    "m\n"
   ]
  },
  {
   "cell_type": "markdown",
   "metadata": {},
   "source": [
    " ## 14) NLTK Sentiment Analysis [9]\n",
    "\n",
    " ## Use the VADER tool in the nltk library to analyse the sentiment of each chapter and plot the positive sentiment level over time on a chart"
   ]
  },
  {
   "cell_type": "code",
   "execution_count": 0,
   "metadata": {},
   "outputs": [],
   "source": [
    "# Put your answer: code and comment here\n"
   ]
  },
  {
   "cell_type": "markdown",
   "metadata": {},
   "source": [
    " ## 15) Now think of some further analysis you could do based on the text of this book [19]\n",
    "\n",
    " It should use other data sources you find online and tell an additional story around the data. Suggested data and sources include:\n",
    "\n",
    " - Travel and accommodation sites\n",
    " - User reviews of the book\n",
    " - Book sales data about this and other related books\n",
    " - News stories about places in the book\n",
    " - Travel times and distances\n",
    " - Pictures of places in the book\n",
    "\n",
    " Your analysis might consider how Phileas Fogg would travel if he had to make the same journey today - what would it cost, where might he stay, what would be happening in the places he would visit? How would you aquire the data you need? Can you connect to data online using REST? Do you need to perform scraping with something like ScraPy? What other packages would you need and what would you use them for?\n",
    "\n",
    " Write in English (not Python) about your idea including data sources, Python packages used, presentation and visualisation methods, and potential problems you can forsee.\n",
    "\n",
    " Add some example of code that perform some of the tasks required for your full analysis. You do not have to implement the whole idea, just some illustrative parts.\n",
    "\n",
    " Use as many cells below as you need - both code and markdown to explain your ideas. This part is worth 19 of the marks overall.\n"
   ]
  },
  {
   "cell_type": "code",
   "execution_count": 0,
   "metadata": {},
   "outputs": [],
   "source": [
    "\n",
    "\n",
    "\n"
   ]
  }
 ],
 "metadata": {
  "file_extension": ".py",
  "kernelspec": {
   "display_name": "Python 3",
   "language": "python",
   "name": "python3"
  },
  "language_info": {
   "codemirror_mode": {
    "name": "ipython",
    "version": 3
   },
   "file_extension": ".py",
   "mimetype": "text/x-python",
   "name": "python",
   "nbconvert_exporter": "python",
   "pygments_lexer": "ipython3",
   "version": "3.7.4"
  },
  "mimetype": "text/x-python",
  "name": "python",
  "npconvert_exporter": "python",
  "pygments_lexer": "ipython3",
  "version": 3
 },
 "nbformat": 4,
 "nbformat_minor": 2
}
